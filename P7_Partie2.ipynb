{
 "cells": [
  {
   "cell_type": "markdown",
   "metadata": {},
   "source": [
    "# Projet 7 Mission 3\n",
    "\n",
    "Cette partie génère un grand nombre de lignes pour notre tableau, le fichier est par conséquence très long à exécuter.\n"
   ]
  },
  {
   "cell_type": "code",
   "execution_count": 1,
   "metadata": {},
   "outputs": [],
   "source": [
    "\n",
    "#import des librairies\n",
    "import pandas as pd\n",
    "import matplotlib.pyplot as plt\n",
    "import scipy.stats as st\n",
    "import numpy as np\n",
    "import seaborn as sns\n",
    "import fonctions as f\n",
    "pd.set_option('display.float_format','{:.3f}'.format)\n",
    "%matplotlib inline \n"
   ]
  },
  {
   "cell_type": "code",
   "execution_count": 2,
   "metadata": {},
   "outputs": [],
   "source": [
    "\n",
    "# Import des donées\n",
    "df_p7 = pd.read_csv(\"data/clean/set_dataProjet7.csv\")\n",
    "df_info = pd.read_csv(\"data/clean/set_infoGeneral.csv\")\n",
    "df_coef = pd.read_csv('data/CoefElast/coefElast.csv')\n"
   ]
  },
  {
   "cell_type": "code",
<<<<<<< HEAD
   "execution_count": 20,
   "metadata": {},
   "outputs": [
    {
     "data": {
      "text/html": [
       "<div>\n",
       "<style scoped>\n",
       "    .dataframe tbody tr th:only-of-type {\n",
       "        vertical-align: middle;\n",
       "    }\n",
       "\n",
       "    .dataframe tbody tr th {\n",
       "        vertical-align: top;\n",
       "    }\n",
       "\n",
       "    .dataframe thead th {\n",
       "        text-align: right;\n",
       "    }\n",
       "</style>\n",
       "<table border=\"1\" class=\"dataframe\">\n",
       "  <thead>\n",
       "    <tr style=\"text-align: right;\">\n",
       "      <th></th>\n",
       "      <th>Region</th>\n",
       "      <th>coef</th>\n",
       "    </tr>\n",
       "  </thead>\n",
       "  <tbody>\n",
       "    <tr>\n",
       "      <th>0</th>\n",
       "      <td>Europe</td>\n",
       "      <td>0.400</td>\n",
       "    </tr>\n",
       "    <tr>\n",
       "      <th>1</th>\n",
       "      <td>USA</td>\n",
       "      <td>0.400</td>\n",
       "    </tr>\n",
       "    <tr>\n",
       "      <th>2</th>\n",
       "      <td>Asia</td>\n",
       "      <td>0.500</td>\n",
       "    </tr>\n",
       "    <tr>\n",
       "      <th>3</th>\n",
       "      <td>Latin America/Africa</td>\n",
       "      <td>0.660</td>\n",
       "    </tr>\n",
       "  </tbody>\n",
       "</table>\n",
       "</div>"
      ],
      "text/plain": [
       "                 Region  coef\n",
       "0                Europe 0.400\n",
       "1                   USA 0.400\n",
       "2                  Asia 0.500\n",
       "3  Latin America/Africa 0.660"
      ]
     },
     "execution_count": 20,
     "metadata": {},
     "output_type": "execute_result"
    }
   ],
   "source": [
    "\n",
    "#Tableau que nous avons créé à partir des informations du document texte fournis dans les documents.\n",
    "df_coef\n"
   ]
  },
  {
   "cell_type": "code",
   "execution_count": 21,
=======
   "execution_count": 3,
>>>>>>> master
   "metadata": {},
   "outputs": [],
   "source": [
    "\n",
<<<<<<< HEAD
=======
    "#Tableau que nous avons créé à partir des informations du document texte fournis dans les documents.\n",
    "df_coef\n",
>>>>>>> master
    "df_info['Coef_Elast'] = 0\n"
   ]
  },
  {
   "cell_type": "code",
<<<<<<< HEAD
   "execution_count": 22,
=======
   "execution_count": 4,
>>>>>>> master
   "metadata": {},
   "outputs": [],
   "source": [
    "\n",
    "#Création et initialisation de la variable du coeficient d'élasticité\n",
    "df_info['Coef_Elast'] = 0\n",
    "\n",
    "#Mise en place des bonnes valeur pour chaqu'une des régions.\n",
    "df_info.loc[df_info[df_info['Region'].isin([\"East Asia & Pacific\",\"South Asia\"])].index,\"Coef_Elast\"] = df_coef[df_coef['Region'] == 'Asia'].coef.values[0]\n",
    "df_info.loc[df_info[df_info['Region'].isin([\"Latin America & Caribbean\",\"Sub-Saharan Africa\",\"Middle East & North Africa\"])].index,\"Coef_Elast\"] = df_coef[df_coef['Region'] == 'Latin America/Africa'].coef.values[0]\n",
    "df_info.loc[df_info[df_info['Region'].isin([\"Europe & Central Asia\"])].index,\"Coef_Elast\"] = df_coef[df_coef['Region'] == 'Europe'].coef.values[0]\n",
    "df_info.loc[df_info[df_info['Region'].isin([\"North America\",\"South Asia\"])].index,\"Coef_Elast\"] = df_coef[df_coef['Region'] == 'USA'].coef.values[0]\n"
   ]
  },
  {
   "cell_type": "code",
   "execution_count": 5,
   "metadata": {},
   "outputs": [
    {
     "data": {
      "text/html": [
       "<div>\n",
       "<style scoped>\n",
       "    .dataframe tbody tr th:only-of-type {\n",
       "        vertical-align: middle;\n",
       "    }\n",
       "\n",
       "    .dataframe tbody tr th {\n",
       "        vertical-align: top;\n",
       "    }\n",
       "\n",
       "    .dataframe thead th {\n",
       "        text-align: right;\n",
       "    }\n",
       "</style>\n",
       "<table border=\"1\" class=\"dataframe\">\n",
       "  <thead>\n",
       "    <tr style=\"text-align: right;\">\n",
       "      <th></th>\n",
       "      <th>Ci_Child</th>\n",
       "      <th>Ci_Parent</th>\n",
       "    </tr>\n",
       "  </thead>\n",
       "  <tbody>\n",
       "    <tr>\n",
       "      <th>0</th>\n",
       "      <td>1</td>\n",
       "      <td>1</td>\n",
       "    </tr>\n",
       "    <tr>\n",
       "      <th>1</th>\n",
       "      <td>1</td>\n",
       "      <td>2</td>\n",
       "    </tr>\n",
       "    <tr>\n",
       "      <th>2</th>\n",
       "      <td>1</td>\n",
       "      <td>3</td>\n",
       "    </tr>\n",
       "    <tr>\n",
       "      <th>3</th>\n",
       "      <td>1</td>\n",
       "      <td>4</td>\n",
       "    </tr>\n",
       "    <tr>\n",
       "      <th>4</th>\n",
       "      <td>1</td>\n",
       "      <td>5</td>\n",
       "    </tr>\n",
       "    <tr>\n",
       "      <th>5</th>\n",
       "      <td>1</td>\n",
       "      <td>6</td>\n",
       "    </tr>\n",
       "    <tr>\n",
       "      <th>6</th>\n",
       "      <td>1</td>\n",
       "      <td>7</td>\n",
       "    </tr>\n",
       "    <tr>\n",
       "      <th>7</th>\n",
       "      <td>1</td>\n",
       "      <td>8</td>\n",
       "    </tr>\n",
       "    <tr>\n",
       "      <th>8</th>\n",
       "      <td>1</td>\n",
       "      <td>9</td>\n",
       "    </tr>\n",
       "    <tr>\n",
       "      <th>9</th>\n",
       "      <td>1</td>\n",
       "      <td>10</td>\n",
       "    </tr>\n",
       "  </tbody>\n",
       "</table>\n",
       "</div>"
      ],
      "text/plain": [
       "   Ci_Child  Ci_Parent\n",
       "0         1          1\n",
       "1         1          2\n",
       "2         1          3\n",
       "3         1          4\n",
       "4         1          5\n",
       "5         1          6\n",
       "6         1          7\n",
       "7         1          8\n",
       "8         1          9\n",
       "9         1         10"
      ]
     },
     "execution_count": 5,
     "metadata": {},
     "output_type": "execute_result"
    }
   ],
   "source": [
    "\n",
    "#On crée un dataframe qui ressemble au final, mais ici nous allons lui assigner les probabilités pour chaque cas\n",
    "df_ProbaCoefDefault = pd.DataFrame({'Ci_Child': np.arange(1,101)})\n",
    "df_ProbaCoefDefault = pd.concat([df_ProbaCoefDefault] * 100 )\n",
    "df_ProbaCoefDefault = df_ProbaCoefDefault.sort_values(by='Ci_Child')\n",
    "df_ProbaCoefDefault = df_ProbaCoefDefault.reset_index()\n",
    "df_ProbaCoefDefault = df_ProbaCoefDefault.drop(columns='index')\n",
    "\n",
    "df_tempo = pd.DataFrame({'Ci_Parent':np.arange(1,101)})\n",
    "df_tempo = pd.concat([df_tempo] * 100)\n",
    "df_tempo = df_tempo.reset_index()\n",
    "df_tempo = df_tempo.drop(columns='index')\n",
    "df_ProbaCoefDefault['Ci_Parent'] = df_tempo\n",
    "\n",
    "df_ProbaCoefDefault.head(10)\n"
   ]
  },
  {
   "cell_type": "code",
   "execution_count": 6,
   "metadata": {},
   "outputs": [
    {
     "data": {
      "text/html": [
       "<div>\n",
       "<style scoped>\n",
       "    .dataframe tbody tr th:only-of-type {\n",
       "        vertical-align: middle;\n",
       "    }\n",
       "\n",
       "    .dataframe tbody tr th {\n",
       "        vertical-align: top;\n",
       "    }\n",
       "\n",
       "    .dataframe thead th {\n",
       "        text-align: right;\n",
       "    }\n",
       "</style>\n",
       "<table border=\"1\" class=\"dataframe\">\n",
       "  <thead>\n",
       "    <tr style=\"text-align: right;\">\n",
       "      <th></th>\n",
       "      <th>Country_Name</th>\n",
       "      <th>Ci_Child</th>\n",
       "      <th>Ci_Parent</th>\n",
       "    </tr>\n",
       "  </thead>\n",
       "  <tbody>\n",
       "    <tr>\n",
       "      <th>0</th>\n",
       "      <td>Albania</td>\n",
       "      <td>1</td>\n",
       "      <td>1</td>\n",
       "    </tr>\n",
       "    <tr>\n",
       "      <th>1</th>\n",
       "      <td>Albania</td>\n",
       "      <td>1</td>\n",
       "      <td>2</td>\n",
       "    </tr>\n",
       "    <tr>\n",
       "      <th>2</th>\n",
       "      <td>Albania</td>\n",
       "      <td>1</td>\n",
       "      <td>3</td>\n",
       "    </tr>\n",
       "    <tr>\n",
       "      <th>3</th>\n",
       "      <td>Albania</td>\n",
       "      <td>1</td>\n",
       "      <td>4</td>\n",
       "    </tr>\n",
       "    <tr>\n",
       "      <th>4</th>\n",
       "      <td>Albania</td>\n",
       "      <td>1</td>\n",
       "      <td>5</td>\n",
       "    </tr>\n",
       "    <tr>\n",
       "      <th>5</th>\n",
       "      <td>Albania</td>\n",
       "      <td>1</td>\n",
       "      <td>6</td>\n",
       "    </tr>\n",
       "    <tr>\n",
       "      <th>6</th>\n",
       "      <td>Albania</td>\n",
       "      <td>1</td>\n",
       "      <td>7</td>\n",
       "    </tr>\n",
       "    <tr>\n",
       "      <th>7</th>\n",
       "      <td>Albania</td>\n",
       "      <td>1</td>\n",
       "      <td>8</td>\n",
       "    </tr>\n",
       "    <tr>\n",
       "      <th>8</th>\n",
       "      <td>Albania</td>\n",
       "      <td>1</td>\n",
       "      <td>9</td>\n",
       "    </tr>\n",
       "    <tr>\n",
       "      <th>9</th>\n",
       "      <td>Albania</td>\n",
       "      <td>1</td>\n",
       "      <td>10</td>\n",
       "    </tr>\n",
       "    <tr>\n",
       "      <th>10</th>\n",
       "      <td>Albania</td>\n",
       "      <td>1</td>\n",
       "      <td>11</td>\n",
       "    </tr>\n",
       "    <tr>\n",
       "      <th>11</th>\n",
       "      <td>Albania</td>\n",
       "      <td>1</td>\n",
       "      <td>12</td>\n",
       "    </tr>\n",
       "    <tr>\n",
       "      <th>12</th>\n",
       "      <td>Albania</td>\n",
       "      <td>1</td>\n",
       "      <td>13</td>\n",
       "    </tr>\n",
       "    <tr>\n",
       "      <th>13</th>\n",
       "      <td>Albania</td>\n",
       "      <td>1</td>\n",
       "      <td>14</td>\n",
       "    </tr>\n",
       "    <tr>\n",
       "      <th>14</th>\n",
       "      <td>Albania</td>\n",
       "      <td>1</td>\n",
       "      <td>15</td>\n",
       "    </tr>\n",
       "  </tbody>\n",
       "</table>\n",
       "</div>"
      ],
      "text/plain": [
       "   Country_Name  Ci_Child  Ci_Parent\n",
       "0       Albania         1          1\n",
       "1       Albania         1          2\n",
       "2       Albania         1          3\n",
       "3       Albania         1          4\n",
       "4       Albania         1          5\n",
       "5       Albania         1          6\n",
       "6       Albania         1          7\n",
       "7       Albania         1          8\n",
       "8       Albania         1          9\n",
       "9       Albania         1         10\n",
       "10      Albania         1         11\n",
       "11      Albania         1         12\n",
       "12      Albania         1         13\n",
       "13      Albania         1         14\n",
       "14      Albania         1         15"
      ]
     },
     "execution_count": 6,
     "metadata": {},
     "output_type": "execute_result"
    }
   ],
   "source": [
    "\n",
    "#On crée un dataframe avec la répartition d'individu par défaut, à savoir tous les couples possibles. ( parent 1 enfant 1, parent 1 enfant 2, etc.)\n",
    "df_ProbaParPays = pd.DataFrame()\n",
    "\n",
    "for i in df_info.index:\n",
    "    d = df_ProbaCoefDefault.copy()\n",
    "    g = pd.DataFrame({\"Country_Name\":[df_info.loc[i, 'Country_Name']] * len(df_ProbaCoefDefault)})\n",
    "    d = pd.concat([g,d], sort=False, axis=1)\n",
    "    df_ProbaParPays = df_ProbaParPays.append(d,ignore_index=True,sort=False)\n",
    "    \n",
    "\n",
    "#Modification des type de nos variable en type plus \"leger\" et optimiser\n",
    "df_ProbaParPays = df_ProbaParPays.astype({'Country_Name': 'category','Ci_Child': 'int8','Ci_Parent': 'int8'})\n",
<<<<<<< HEAD
    "\n",
    "df_ProbaParPays.head(15) \n"
=======
    "\n",
    "df_ProbaParPays.head(15) \n"
   ]
  },
  {
   "cell_type": "code",
   "execution_count": null,
   "metadata": {},
   "outputs": [],
   "source": []
  },
  {
   "cell_type": "code",
   "execution_count": 7,
   "metadata": {},
   "outputs": [],
   "source": [
    "\n",
    "lis= {'Country_Name' : 'category',\n",
    "      'Country_Code' : 'category'\n",
    "      , 'Population' : 'float32',\n",
    "      'Region' : 'category',\n",
    "      'Income_Groupe' : 'category',\n",
    "      'Gini' : 'float32',\n",
    "      'Coef_Elast' : 'float32',\n",
    "      'gdpppp':'float32'}\n",
    "\n",
    "df_info = df_info.astype(lis)\n"
   ]
  },
  {
   "cell_type": "code",
   "execution_count": 8,
   "metadata": {},
   "outputs": [
    {
     "name": "stdout",
     "output_type": "stream",
     "text": [
      "CPU times: user 7min 41s, sys: 6.22 s, total: 7min 47s\n",
      "Wall time: 7min 47s\n"
     ]
    }
   ],
   "source": [
    "%%time \n",
    "\n",
    "# #Calcule du cd par pays\n",
    "# calcule total\n",
    "# df_info1 = df_info[df_info.index.isin(range(0,10))].copy()\n",
    "# df_info2 = df_info[df_info.index.isin(range(10,20))].copy()\n",
    "\n",
    "\n",
    "# df_info1[\"Cd\"] = df_info1.Coef_Elast.apply(f.calculeCdPays)\n",
    "# df_info2[\"Cd\"] = df_info2.Coef_Elast.apply(f.calculeCdPays)\n",
    "\n",
    "\n",
    "df_info[\"Cd\"] = df_info.Coef_Elast.apply(f.calculeCdPays)\n",
    "#~9min\n",
    "\n"
   ]
  },
  {
   "cell_type": "code",
   "execution_count": 9,
   "metadata": {},
   "outputs": [
    {
     "data": {
      "text/html": [
       "<div>\n",
       "<style scoped>\n",
       "    .dataframe tbody tr th:only-of-type {\n",
       "        vertical-align: middle;\n",
       "    }\n",
       "\n",
       "    .dataframe tbody tr th {\n",
       "        vertical-align: top;\n",
       "    }\n",
       "\n",
       "    .dataframe thead th {\n",
       "        text-align: right;\n",
       "    }\n",
       "</style>\n",
       "<table border=\"1\" class=\"dataframe\">\n",
       "  <thead>\n",
       "    <tr style=\"text-align: right;\">\n",
       "      <th></th>\n",
       "      <th>Country_Name</th>\n",
       "      <th>Cd</th>\n",
       "    </tr>\n",
       "  </thead>\n",
       "  <tbody>\n",
       "    <tr>\n",
       "      <th>0</th>\n",
       "      <td>Albania</td>\n",
       "      <td>[[0.076, 0.0537, 0.0448, 0.037, 0.0322, 0.0319...</td>\n",
       "    </tr>\n",
       "    <tr>\n",
       "      <th>1</th>\n",
       "      <td>Argentina</td>\n",
       "      <td>[[0.162, 0.091, 0.0664, 0.056, 0.0509, 0.0407,...</td>\n",
       "    </tr>\n",
       "    <tr>\n",
       "      <th>2</th>\n",
       "      <td>Armenia</td>\n",
       "      <td>[[0.0748, 0.0507, 0.0405, 0.0358, 0.0326, 0.03...</td>\n",
       "    </tr>\n",
       "    <tr>\n",
       "      <th>3</th>\n",
       "      <td>Austria</td>\n",
       "      <td>[[0.0765, 0.052, 0.0412, 0.0369, 0.0341, 0.027...</td>\n",
       "    </tr>\n",
       "    <tr>\n",
       "      <th>4</th>\n",
       "      <td>Azerbaijan</td>\n",
       "      <td>[[0.0778, 0.0544, 0.0431, 0.0387, 0.036, 0.030...</td>\n",
       "    </tr>\n",
       "  </tbody>\n",
       "</table>\n",
       "</div>"
      ],
      "text/plain": [
       "  Country_Name                                                 Cd\n",
       "0      Albania  [[0.076, 0.0537, 0.0448, 0.037, 0.0322, 0.0319...\n",
       "1    Argentina  [[0.162, 0.091, 0.0664, 0.056, 0.0509, 0.0407,...\n",
       "2      Armenia  [[0.0748, 0.0507, 0.0405, 0.0358, 0.0326, 0.03...\n",
       "3      Austria  [[0.0765, 0.052, 0.0412, 0.0369, 0.0341, 0.027...\n",
       "4   Azerbaijan  [[0.0778, 0.0544, 0.0431, 0.0387, 0.036, 0.030..."
      ]
     },
     "execution_count": 9,
     "metadata": {},
     "output_type": "execute_result"
    }
   ],
   "source": [
    "\n",
    "df_info[['Country_Name','Cd']].head()\n"
   ]
  },
  {
   "cell_type": "code",
   "execution_count": 10,
   "metadata": {},
   "outputs": [
    {
     "name": "stdout",
     "output_type": "stream",
     "text": [
      "CPU times: user 29.2 ms, sys: 72 µs, total: 29.3 ms\n",
      "Wall time: 27.8 ms\n"
     ]
    }
   ],
   "source": [
    "%%time \n",
    "\n",
    "# df_ProbaParPays_G1 = df_ProbaParPays[df_ProbaParPays['Country_Name'].isin(df_info1['Country_Name'])].copy()\n",
    "# df_ProbaParPays_G2 = df_ProbaParPays[df_ProbaParPays['Country_Name'].isin(df_info2['Country_Name'])].copy()\n",
    "# df_ProbaParPays_G3 = df_ProbaParPays[df_ProbaParPays['Country_Name'].isin(df_info3['Country_Name'])].copy()\n",
    "# df_ProbaParPays_G4 = df_ProbaParPays[df_ProbaParPays['Country_Name'].isin(df_info4['Country_Name'])].copy()\n",
    "# df_ProbaParPays_G5 = df_ProbaParPays[df_ProbaParPays['Country_Name'].isin(df_info5['Country_Name'])].copy()\n",
    "# df_ProbaParPays_G6 = df_ProbaParPays[df_ProbaParPays['Country_Name'].isin(df_info6['Country_Name'])].copy()\n",
    "# df_ProbaParPays_G7 = df_ProbaParPays[df_ProbaParPays['Country_Name'].isin(df_info7['Country_Name'])].copy()\n",
    "\n",
    "df_ProbaParPays = df_ProbaParPays[df_ProbaParPays['Country_Name'].isin(df_info['Country_Name'])].copy()\n"
>>>>>>> master
   ]
  },
  {
   "cell_type": "code",
<<<<<<< HEAD
   "execution_count": null,
   "metadata": {},
   "outputs": [],
   "source": []
=======
   "execution_count": 11,
   "metadata": {},
   "outputs": [],
   "source": [
    "\n",
    "\n",
    "# # Fonction  ?\n",
    "\n",
    "# for row in df_ProbaParPays_G2.itertuples():\n",
    "    \n",
    "#     if row.Country_Name == lastCountry:\n",
    "#         cd = cdLastCountry\n",
    "#         a = cd.values[0][row.Ci_Parent-1,row.Ci_Child-1]\n",
    "    \n",
    "#     else:\n",
    "#         lastCountry = row.Country_Name\n",
    "#         cdLastCountry = df_info2[df_info2['Country_Name'] == row.Country_Name]['Cd']\n",
    "        \n",
    "#         cd = cdLastCountry\n",
    "#         a = cd.values[0][row.Ci_Parent-1,row.Ci_Child-1]\n",
    "        \n",
    "#     df_ProbaParPays_G2.loc[row.Index, 'Proba'] = a\n",
    "    \n",
    "    \n",
    "    "
   ]
  },
  {
   "cell_type": "code",
   "execution_count": 12,
   "metadata": {},
   "outputs": [
    {
     "name": "stdout",
     "output_type": "stream",
     "text": [
      "CPU times: user 1.11 s, sys: 12 ms, total: 1.12 s\n",
      "Wall time: 1.12 s\n"
     ]
    }
   ],
   "source": [
    "\n",
    "%%time\n",
    "\n",
    "lastCountry = \"None\"\n",
    "cdLastCountry = []\n",
    "for row in df_ProbaParPays.itertuples():\n",
    "\n",
    "    if row.Country_Name == lastCountry:\n",
    "        cd = cdLastCountry\n",
    "        a = cd.values[0][row.Ci_Parent-1,row.Ci_Child-1]\n",
    "\n",
    "    else:\n",
    "        lastCountry = row.Country_Name\n",
    "        cdLastCountry = df_info[df_info['Country_Name'] == row.Country_Name]['Cd']\n",
    "\n",
    "        cd = cdLastCountry\n",
    "        a = cd.values[0][row.Ci_Parent-1,row.Ci_Child-1]\n",
    "\n",
    "df_ProbaParPays.loc[row.Index, 'Proba'] = a\n"
   ]
  },
  {
   "cell_type": "code",
   "execution_count": 13,
   "metadata": {},
   "outputs": [],
   "source": [
    "# %%time \n",
    "\n",
    "# lastCountry = \"None\"\n",
    "# cdLastCountry = []\n",
    "\n",
    "# for row in df_ProbaParPays_G1.itertuples():\n",
    "    \n",
    "#     if row.Country_Name == lastCountry:\n",
    "#         cd = cdLastCountry\n",
    "#         a = cd.values[0][row.Ci_Parent-1,row.Ci_Child-1]\n",
    "#     else:\n",
    "#         lastCountry = row.Country_Name\n",
    "#         cdLastCountry = df_info1[df_info1['Country_Name'] == row.Country_Name]['Cd']\n",
    "#         cd = cdLastCountry\n",
    "#         a = cd.values[0][row.Ci_Parent-1,row.Ci_Child-1]\n",
    "        \n",
    "#     df_ProbaParPays_G1.loc[row.Index, 'Proba'] = a\n",
    "    \n",
    "# for row in df_ProbaParPays_G2.itertuples():\n",
    "    \n",
    "#     if row.Country_Name == lastCountry:\n",
    "#         cd = cdLastCountry\n",
    "#         a = cd.values[0][row.Ci_Parent-1,row.Ci_Child-1]\n",
    "#     else:\n",
    "#         lastCountry = row.Country_Name\n",
    "#         cdLastCountry = df_info2[df_info2['Country_Name'] == row.Country_Name]['Cd']\n",
    "#         cd = cdLastCountry\n",
    "#         a = cd.values[0][row.Ci_Parent-1,row.Ci_Child-1]\n",
    "        \n",
    "#     df_ProbaParPays_G2.loc[row.Index, 'Proba'] = a\n",
    "    \n",
    "# for row in df_ProbaParPays_G3.itertuples():\n",
    "    \n",
    "#     if row.Country_Name == lastCountry:\n",
    "#         cd = cdLastCountry\n",
    "#         a = cd.values[0][row.Ci_Parent-1,row.Ci_Child-1]\n",
    "#     else:\n",
    "#         lastCountry = row.Country_Name\n",
    "#         cdLastCountry = df_info3[df_info3['Country_Name'] == row.Country_Name]['Cd']\n",
    "#         cd = cdLastCountry\n",
    "#         a = cd.values[0][row.Ci_Parent-1,row.Ci_Child-1]\n",
    "        \n",
    "#     df_ProbaParPays_G3.loc[row.Index, 'Proba'] = a\n",
    "\n",
    "# for row in df_ProbaParPays_G4.itertuples():\n",
    "    \n",
    "#     if row.Country_Name == lastCountry:\n",
    "#         cd = cdLastCountry\n",
    "#         a = cd.values[0][row.Ci_Parent-1,row.Ci_Child-1]\n",
    "#     else:\n",
    "#         lastCountry = row.Country_Name\n",
    "#         cdLastCountry = df_info4[df_info4['Country_Name'] == row.Country_Name]['Cd']\n",
    "#         cd = cdLastCountry\n",
    "#         a = cd.values[0][row.Ci_Parent-1,row.Ci_Child-1]\n",
    "        \n",
    "#     df_ProbaParPays_G4.loc[row.Index, 'Proba'] = a\n",
    "\n",
    "# for row in df_ProbaParPays_G5.itertuples():\n",
    "    \n",
    "#     if row.Country_Name == lastCountry:\n",
    "#         cd = cdLastCountry\n",
    "#         a = cd.values[0][row.Ci_Parent-1,row.Ci_Child-1]\n",
    "#     else:\n",
    "#         lastCountry = row.Country_Name\n",
    "#         cdLastCountry = df_info5[df_info5['Country_Name'] == row.Country_Name]['Cd']\n",
    "#         cd = cdLastCountry\n",
    "#         a = cd.values[0][row.Ci_Parent-1,row.Ci_Child-1]\n",
    "        \n",
    "#     df_ProbaParPays_G5.loc[row.Index, 'Proba'] = a\n",
    "    \n",
    "# for row in df_ProbaParPays_G6.itertuples():\n",
    "    \n",
    "#     if row.Country_Name == lastCountry:\n",
    "#         cd = cdLastCountry\n",
    "#         a = cd.values[0][row.Ci_Parent-1,row.Ci_Child-1]\n",
    "#     else:\n",
    "#         lastCountry = row.Country_Name\n",
    "#         cdLastCountry = df_info6[df_info6['Country_Name'] == row.Country_Name]['Cd']\n",
    "#         cd = cdLastCountry\n",
    "#         a = cd.values[0][row.Ci_Parent-1,row.Ci_Child-1]\n",
    "        \n",
    "#     df_ProbaParPays_G6.loc[row.Index, 'Proba'] = a\n",
    "    \n",
    "# for row in df_ProbaParPays_G7.itertuples():\n",
    "    \n",
    "#     if row.Country_Name == lastCountry:\n",
    "#         cd = cdLastCountry\n",
    "#         a = cd.values[0][row.Ci_Parent-1,row.Ci_Child-1]\n",
    "#     else:\n",
    "#         lastCountry = row.Country_Name\n",
    "#         cdLastCountry = df_info7[df_info7['Country_Name'] == row.Country_Name]['Cd']\n",
    "#         cd = cdLastCountry\n",
    "#         a = cd.values[0][row.Ci_Parent-1,row.Ci_Child-1]\n",
    "        \n",
    "#     df_ProbaParPays_G7.loc[row.Index, 'Proba'] = a\n",
    "    \n",
    "    "
   ]
  },
  {
   "cell_type": "code",
   "execution_count": 14,
   "metadata": {},
   "outputs": [
    {
     "name": "stdout",
     "output_type": "stream",
     "text": [
      "CPU times: user 37.5 ms, sys: 131 µs, total: 37.7 ms\n",
      "Wall time: 45 ms\n"
     ]
    }
   ],
   "source": [
    "%%time \n",
    "\n",
    "# df_ProbaParPays_G1 = pd.concat([df_ProbaParPays_G1, df_ProbaParPays_G2], ignore_index=True)\n",
    "# df_ProbaParPays_G1 = pd.concat([df_ProbaParPays_G1, df_ProbaParPays_G3], ignore_index=True)\n",
    "# df_ProbaParPays_G1 = pd.concat([df_ProbaParPays_G1, df_ProbaParPays_G4], ignore_index=True)\n",
    "# df_ProbaParPays_G1 = pd.concat([df_ProbaParPays_G1, df_ProbaParPays_G5], ignore_index=True)\n",
    "# df_ProbaParPays_G1 = pd.concat([df_ProbaParPays_G1, df_ProbaParPays_G6], ignore_index=True)\n",
    "# df_ProbaParPays_G1 = pd.concat([df_ProbaParPays_G1, df_ProbaParPays_G7], ignore_index=True)\n",
    "\n",
    "# df_ProbaParPays_G1['Nb'] = (df_ProbaParPays_G1['Proba'] * 500).round(0)\n",
    "# df_ProbaParPays_G1 = df_ProbaParPays_G1.astype({'Nb':'Int8'})\n",
    "\n",
    "df_ProbaParPays['Nb'] = (df_ProbaParPays['Proba'] * 500).round(0)\n",
    "df_ProbaParPays = df_ProbaParPays.astype({'Nb':'Int8'})"
   ]
  },
  {
   "cell_type": "code",
   "execution_count": 15,
   "metadata": {},
   "outputs": [
    {
     "ename": "TypeError",
     "evalue": "can't multiply sequence by non-int of type 'NAType'",
     "output_type": "error",
     "traceback": [
      "\u001b[0;31m---------------------------------------------------------------------------\u001b[0m",
      "\u001b[0;31mTypeError\u001b[0m                                 Traceback (most recent call last)",
      "\u001b[0;32m<ipython-input-15-21c07c228034>\u001b[0m in \u001b[0;36m<module>\u001b[0;34m\u001b[0m\n\u001b[1;32m      3\u001b[0m \u001b[0mtemp_df\u001b[0m \u001b[0;34m=\u001b[0m \u001b[0;34m[\u001b[0m\u001b[0;34m]\u001b[0m\u001b[0;34m\u001b[0m\u001b[0;34m\u001b[0m\u001b[0m\n\u001b[1;32m      4\u001b[0m \u001b[0;32mfor\u001b[0m \u001b[0mrow\u001b[0m \u001b[0;32min\u001b[0m \u001b[0mdf_ProbaParPays\u001b[0m\u001b[0;34m.\u001b[0m\u001b[0mitertuples\u001b[0m\u001b[0;34m(\u001b[0m\u001b[0mindex\u001b[0m\u001b[0;34m=\u001b[0m\u001b[0;32mFalse\u001b[0m\u001b[0;34m)\u001b[0m\u001b[0;34m:\u001b[0m\u001b[0;34m\u001b[0m\u001b[0;34m\u001b[0m\u001b[0m\n\u001b[0;32m----> 5\u001b[0;31m     \u001b[0mtemp_df\u001b[0m\u001b[0;34m.\u001b[0m\u001b[0mextend\u001b[0m\u001b[0;34m(\u001b[0m\u001b[0;34m[\u001b[0m\u001b[0mlist\u001b[0m\u001b[0;34m(\u001b[0m\u001b[0mrow\u001b[0m\u001b[0;34m)\u001b[0m\u001b[0;34m]\u001b[0m \u001b[0;34m*\u001b[0m \u001b[0mrow\u001b[0m\u001b[0;34m.\u001b[0m\u001b[0mNb\u001b[0m\u001b[0;34m)\u001b[0m\u001b[0;34m\u001b[0m\u001b[0;34m\u001b[0m\u001b[0m\n\u001b[0m\u001b[1;32m      6\u001b[0m \u001b[0;34m\u001b[0m\u001b[0m\n\u001b[1;32m      7\u001b[0m \u001b[0mdf_Mission4\u001b[0m \u001b[0;34m=\u001b[0m \u001b[0mpd\u001b[0m\u001b[0;34m.\u001b[0m\u001b[0mDataFrame\u001b[0m\u001b[0;34m(\u001b[0m\u001b[0mtemp_df\u001b[0m\u001b[0;34m,\u001b[0m \u001b[0mcolumns\u001b[0m\u001b[0;34m=\u001b[0m\u001b[0mdf_ProbaParPays\u001b[0m\u001b[0;34m.\u001b[0m\u001b[0mcolumns\u001b[0m\u001b[0;34m)\u001b[0m\u001b[0;34m\u001b[0m\u001b[0;34m\u001b[0m\u001b[0m\n",
      "\u001b[0;31mTypeError\u001b[0m: can't multiply sequence by non-int of type 'NAType'"
     ]
    }
   ],
   "source": [
    "\n",
    "#Copie de chacun de couple en fonction de leur nombre voulue\n",
    "df_Mission4 = pd.DataFrame()\n",
    "temp_df = []\n",
    "for row in df_ProbaParPays.itertuples(index=False):\n",
    "    temp_df.extend([list(row)] * row.Nb)\n",
    "    \n",
    "df_Mission4 = pd.DataFrame(temp_df, columns=df_ProbaParPays.columns)\n"
   ]
  },
  {
   "cell_type": "code",
   "execution_count": null,
   "metadata": {},
   "outputs": [],
   "source": [
    "\n",
    "df_ProbaParPays_G1.head()\n"
   ]
  },
  {
   "cell_type": "code",
   "execution_count": null,
   "metadata": {},
   "outputs": [],
   "source": [
    "\n",
    "df_Mission4[(df_Mission4['Country_Name']==\"Albania\") & (df_Mission4.Ci_Parent == 1) & (df_Mission4.Ci_Child == 1)].head()\n"
   ]
  },
  {
   "cell_type": "code",
   "execution_count": null,
   "metadata": {},
   "outputs": [],
   "source": [
    "\n",
    "# Nous avons bien le meme nombre de couple que celui souhaiter\n",
    "len(df_Mission4[(df_Mission4['Country_Name']==\"Albania\") & (df_Mission4.Ci_Parent == 1) & (df_Mission4.Ci_Child == 1)])\n"
   ]
  },
  {
   "cell_type": "code",
   "execution_count": null,
   "metadata": {},
   "outputs": [],
   "source": [
    "%%time \n",
    "\n",
    "#Preparation des données pour la question 4, comme demander en fin de question 3\n",
    "\n",
    "df_M4 = pd.merge(right=df_Mission4, left=df_info, right_on='Country_Name', left_on='Country_Name', how='right')\n",
    "# \n",
    "listColumnDrop = ['Region', 'Income_Groupe','gdpppp', 'Coef_Elast', 'Proba', 'Nb']\n",
    "\n",
    "df_M4 = df_M4.drop(columns = listColumnDrop)\n",
    "df_M4 = df_M4[['Country_Name', 'Country_Code','Ci_Child','Ci_Parent','Population','Gini']]\n",
    "\n",
    "df_M4 = pd.merge(right=df_M4, left=df_p7, right_on=['Country_Code','Ci_Child'], left_on=['country','quantile'], how='right')\n",
    "\n",
    "df_M4 = df_M4.drop(columns=[\"country\",\"year_survey\",\"quantile\",\"nb_quantiles\"])\n",
    "df_M4 = df_M4[['Country_Code','Country_Name','Ci_Child','Ci_Parent','income','gdpppp','Population','Gini']]\n",
    "df_M4 = df_M4.rename(columns={'income':'Income_Child'})\n",
    "df_M4 = df_M4.dropna()\n",
    "df_M4.head()\n"
   ]
  },
  {
   "cell_type": "code",
   "execution_count": null,
   "metadata": {},
   "outputs": [],
   "source": [
    "\n",
    "lis= {'Country_Code' : 'category',\n",
    "      'Country_Name' : 'category',\n",
    "      \"Ci_Child\":'int8',\n",
    "      \"Ci_Parent\":'int8',\n",
    "      'Income_Child' : 'float32',\n",
    "      'gdpppp' : 'int16',\n",
    "      'Population':'int32',\n",
    "      'Gini':'float16'}\n",
    "\n",
    "df_M4 = df_M4.astype(lis)\n",
    "         \n",
    "df_M4.info()\n"
   ]
  },
  {
   "cell_type": "code",
   "execution_count": null,
   "metadata": {},
   "outputs": [],
   "source": [
    "%%time \n",
    "\n",
    "#Export des données pour reutilisation.\n",
    "df_M4.to_csv('data/clean/set_Mission4.csv',index=False)\n"
   ]
>>>>>>> master
  },
  {
   "cell_type": "code",
   "execution_count": null,
   "metadata": {},
   "outputs": [],
   "source": []
  },
  {
   "cell_type": "code",
   "execution_count": null,
   "metadata": {},
   "outputs": [],
   "source": []
  }
 ],
 "metadata": {
  "kernelspec": {
   "display_name": "Python 3",
   "language": "python",
   "name": "python3"
  },
  "language_info": {
   "codemirror_mode": {
    "name": "ipython",
    "version": 3
   },
   "file_extension": ".py",
   "mimetype": "text/x-python",
   "name": "python",
   "nbconvert_exporter": "python",
   "pygments_lexer": "ipython3",
   "version": "3.7.6"
  }
 },
 "nbformat": 4,
 "nbformat_minor": 4
}
