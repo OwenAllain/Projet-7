{
 "cells": [
  {
   "cell_type": "markdown",
   "metadata": {},
   "source": [
    "# Projet 7 : prédiction de revenues"
   ]
  },
  {
   "cell_type": "code",
   "execution_count": 1,
   "metadata": {},
   "outputs": [],
   "source": [
    "\n",
    "#import des librairies\n",
    "import pandas as pd\n",
    "import matplotlib.pyplot as plt\n",
    "import scipy.stats as st\n",
    "import numpy as np\n",
    "import seaborn as sns\n",
    "\n",
    "#fichier d'ensemble de fonction\n",
    "import fonctions as f\n",
    "\n",
    "pd.set_option('display.float_format','{:.3f}'.format)\n",
    "%matplotlib inline \n",
    "\n"
   ]
  },
  {
   "cell_type": "code",
   "execution_count": 2,
   "metadata": {},
   "outputs": [],
   "source": [
    "\n",
    "#Import des données\n",
    "data_set_projet7 = pd.read_csv(\"data/data-projet7.csv\")\n",
    "data_set_population = pd.read_csv(\"data/population.csv\")\n",
    "data_set_info_pays = pd.read_csv(\"data/info_pays.csv\")\n"
   ]
  },
  {
   "cell_type": "markdown",
   "metadata": {},
   "source": [
    "## Nettoyage et préparation des données"
   ]
  },
  {
   "cell_type": "code",
   "execution_count": 3,
   "metadata": {},
   "outputs": [
    {
     "data": {
      "text/html": [
       "<div>\n",
       "<style scoped>\n",
       "    .dataframe tbody tr th:only-of-type {\n",
       "        vertical-align: middle;\n",
       "    }\n",
       "\n",
       "    .dataframe tbody tr th {\n",
       "        vertical-align: top;\n",
       "    }\n",
       "\n",
       "    .dataframe thead th {\n",
       "        text-align: right;\n",
       "    }\n",
       "</style>\n",
       "<table border=\"1\" class=\"dataframe\">\n",
       "  <thead>\n",
       "    <tr style=\"text-align: right;\">\n",
       "      <th></th>\n",
       "      <th>country</th>\n",
       "      <th>year_survey</th>\n",
       "      <th>quantile</th>\n",
       "      <th>nb_quantiles</th>\n",
       "      <th>income</th>\n",
       "      <th>gdpppp</th>\n",
       "    </tr>\n",
       "  </thead>\n",
       "  <tbody>\n",
       "    <tr>\n",
       "      <th>0</th>\n",
       "      <td>ALB</td>\n",
       "      <td>2008</td>\n",
       "      <td>1</td>\n",
       "      <td>100</td>\n",
       "      <td>728.898</td>\n",
       "      <td>7297.000</td>\n",
       "    </tr>\n",
       "    <tr>\n",
       "      <th>1</th>\n",
       "      <td>ALB</td>\n",
       "      <td>2008</td>\n",
       "      <td>2</td>\n",
       "      <td>100</td>\n",
       "      <td>916.662</td>\n",
       "      <td>7297.000</td>\n",
       "    </tr>\n",
       "    <tr>\n",
       "      <th>2</th>\n",
       "      <td>ALB</td>\n",
       "      <td>2008</td>\n",
       "      <td>3</td>\n",
       "      <td>100</td>\n",
       "      <td>1010.916</td>\n",
       "      <td>7297.000</td>\n",
       "    </tr>\n",
       "    <tr>\n",
       "      <th>3</th>\n",
       "      <td>ALB</td>\n",
       "      <td>2008</td>\n",
       "      <td>4</td>\n",
       "      <td>100</td>\n",
       "      <td>1086.908</td>\n",
       "      <td>7297.000</td>\n",
       "    </tr>\n",
       "    <tr>\n",
       "      <th>4</th>\n",
       "      <td>ALB</td>\n",
       "      <td>2008</td>\n",
       "      <td>5</td>\n",
       "      <td>100</td>\n",
       "      <td>1132.700</td>\n",
       "      <td>7297.000</td>\n",
       "    </tr>\n",
       "    <tr>\n",
       "      <th>5</th>\n",
       "      <td>ALB</td>\n",
       "      <td>2008</td>\n",
       "      <td>6</td>\n",
       "      <td>100</td>\n",
       "      <td>1171.141</td>\n",
       "      <td>7297.000</td>\n",
       "    </tr>\n",
       "    <tr>\n",
       "      <th>6</th>\n",
       "      <td>ALB</td>\n",
       "      <td>2008</td>\n",
       "      <td>7</td>\n",
       "      <td>100</td>\n",
       "      <td>1201.132</td>\n",
       "      <td>7297.000</td>\n",
       "    </tr>\n",
       "    <tr>\n",
       "      <th>7</th>\n",
       "      <td>ALB</td>\n",
       "      <td>2008</td>\n",
       "      <td>8</td>\n",
       "      <td>100</td>\n",
       "      <td>1240.898</td>\n",
       "      <td>7297.000</td>\n",
       "    </tr>\n",
       "    <tr>\n",
       "      <th>8</th>\n",
       "      <td>ALB</td>\n",
       "      <td>2008</td>\n",
       "      <td>9</td>\n",
       "      <td>100</td>\n",
       "      <td>1285.691</td>\n",
       "      <td>7297.000</td>\n",
       "    </tr>\n",
       "    <tr>\n",
       "      <th>9</th>\n",
       "      <td>ALB</td>\n",
       "      <td>2008</td>\n",
       "      <td>10</td>\n",
       "      <td>100</td>\n",
       "      <td>1325.253</td>\n",
       "      <td>7297.000</td>\n",
       "    </tr>\n",
       "  </tbody>\n",
       "</table>\n",
       "</div>"
      ],
      "text/plain": [
       "  country  year_survey  quantile  nb_quantiles   income   gdpppp\n",
       "0     ALB         2008         1           100  728.898 7297.000\n",
       "1     ALB         2008         2           100  916.662 7297.000\n",
       "2     ALB         2008         3           100 1010.916 7297.000\n",
       "3     ALB         2008         4           100 1086.908 7297.000\n",
       "4     ALB         2008         5           100 1132.700 7297.000\n",
       "5     ALB         2008         6           100 1171.141 7297.000\n",
       "6     ALB         2008         7           100 1201.132 7297.000\n",
       "7     ALB         2008         8           100 1240.898 7297.000\n",
       "8     ALB         2008         9           100 1285.691 7297.000\n",
       "9     ALB         2008        10           100 1325.253 7297.000"
      ]
     },
     "execution_count": 3,
     "metadata": {},
     "output_type": "execute_result"
    }
   ],
   "source": [
    "\n",
    "data_set_projet7.head(10)\n"
   ]
  },
  {
   "cell_type": "code",
   "execution_count": 4,
   "metadata": {},
   "outputs": [
    {
     "data": {
      "text/plain": [
       "country           0\n",
       "year_survey       0\n",
       "quantile          0\n",
       "nb_quantiles      0\n",
       "income            0\n",
       "gdpppp          200\n",
       "dtype: int64"
      ]
     },
     "execution_count": 4,
     "metadata": {},
     "output_type": "execute_result"
    }
   ],
   "source": [
    "\n",
    "data_set_projet7.isna().sum()\n"
   ]
  },
  {
   "cell_type": "code",
   "execution_count": 5,
   "metadata": {},
   "outputs": [
    {
     "data": {
      "text/html": [
       "<div>\n",
       "<style scoped>\n",
       "    .dataframe tbody tr th:only-of-type {\n",
       "        vertical-align: middle;\n",
       "    }\n",
       "\n",
       "    .dataframe tbody tr th {\n",
       "        vertical-align: top;\n",
       "    }\n",
       "\n",
       "    .dataframe thead th {\n",
       "        text-align: right;\n",
       "    }\n",
       "</style>\n",
       "<table border=\"1\" class=\"dataframe\">\n",
       "  <thead>\n",
       "    <tr style=\"text-align: right;\">\n",
       "      <th></th>\n",
       "      <th>country</th>\n",
       "      <th>year_survey</th>\n",
       "      <th>quantile</th>\n",
       "      <th>nb_quantiles</th>\n",
       "      <th>income</th>\n",
       "      <th>gdpppp</th>\n",
       "    </tr>\n",
       "  </thead>\n",
       "  <tbody>\n",
       "    <tr>\n",
       "      <th>5800</th>\n",
       "      <td>XKX</td>\n",
       "      <td>2008</td>\n",
       "      <td>1</td>\n",
       "      <td>100</td>\n",
       "      <td>437.894</td>\n",
       "      <td>nan</td>\n",
       "    </tr>\n",
       "    <tr>\n",
       "      <th>5801</th>\n",
       "      <td>XKX</td>\n",
       "      <td>2008</td>\n",
       "      <td>2</td>\n",
       "      <td>100</td>\n",
       "      <td>508.171</td>\n",
       "      <td>nan</td>\n",
       "    </tr>\n",
       "    <tr>\n",
       "      <th>5802</th>\n",
       "      <td>XKX</td>\n",
       "      <td>2008</td>\n",
       "      <td>3</td>\n",
       "      <td>100</td>\n",
       "      <td>591.828</td>\n",
       "      <td>nan</td>\n",
       "    </tr>\n",
       "    <tr>\n",
       "      <th>5803</th>\n",
       "      <td>XKX</td>\n",
       "      <td>2008</td>\n",
       "      <td>4</td>\n",
       "      <td>100</td>\n",
       "      <td>668.000</td>\n",
       "      <td>nan</td>\n",
       "    </tr>\n",
       "    <tr>\n",
       "      <th>5804</th>\n",
       "      <td>XKX</td>\n",
       "      <td>2008</td>\n",
       "      <td>5</td>\n",
       "      <td>100</td>\n",
       "      <td>730.402</td>\n",
       "      <td>nan</td>\n",
       "    </tr>\n",
       "  </tbody>\n",
       "</table>\n",
       "</div>"
      ],
      "text/plain": [
       "     country  year_survey  quantile  nb_quantiles  income  gdpppp\n",
       "5800     XKX         2008         1           100 437.894     nan\n",
       "5801     XKX         2008         2           100 508.171     nan\n",
       "5802     XKX         2008         3           100 591.828     nan\n",
       "5803     XKX         2008         4           100 668.000     nan\n",
       "5804     XKX         2008         5           100 730.402     nan"
      ]
     },
     "execution_count": 5,
     "metadata": {},
     "output_type": "execute_result"
    }
   ],
   "source": [
    "\n",
    "data_set_projet7[data_set_projet7['gdpppp'].isna()].head()\n"
   ]
  },
  {
   "cell_type": "code",
   "execution_count": 6,
   "metadata": {},
   "outputs": [
    {
     "data": {
      "text/plain": [
       "array(['XKX', 'PSE'], dtype=object)"
      ]
     },
     "execution_count": 6,
     "metadata": {},
     "output_type": "execute_result"
    }
   ],
   "source": [
    "\n",
    "data_set_projet7[data_set_projet7['gdpppp'].isna()].country.unique()\n"
   ]
  },
  {
   "cell_type": "code",
   "execution_count": 7,
   "metadata": {},
   "outputs": [
    {
     "data": {
      "text/plain": [
       "array([2008, 2009])"
      ]
     },
     "execution_count": 7,
     "metadata": {},
     "output_type": "execute_result"
    }
   ],
   "source": [
    "\n",
    "data_set_projet7[data_set_projet7['gdpppp'].isna()].year_survey.unique()\n"
   ]
  },
  {
   "cell_type": "markdown",
   "metadata": {},
   "source": [
    "On remarque des données manquante au niveau du GDP, ici les pays concernés sont : \n",
    "\n",
    "XKX = Kosovo\n",
    "\n",
    "PSE = West Bank and Gaza \n",
    "\n",
    "Nous allons essayer de completer ces informations."
   ]
  },
  {
   "cell_type": "code",
   "execution_count": 8,
   "metadata": {},
   "outputs": [],
   "source": [
    "\n",
    "#Données issus de la Banque mondial comme les originals\n",
    "data_set_tempo_dataManquante = pd.read_csv('data/MissingData.csv')\n"
   ]
  },
  {
   "cell_type": "code",
   "execution_count": 9,
   "metadata": {},
   "outputs": [
    {
     "data": {
      "text/plain": [
       "Index(['Country Name', 'Country Code', 'Indicator Name', 'Indicator Code',\n",
       "       '1960', '1961', '1962', '1963', '1964', '1965', '1966', '1967', '1968',\n",
       "       '1969', '1970', '1971', '1972', '1973', '1974', '1975', '1976', '1977',\n",
       "       '1978', '1979', '1980', '1981', '1982', '1983', '1984', '1985', '1986',\n",
       "       '1987', '1988', '1989', '1990', '1991', '1992', '1993', '1994', '1995',\n",
       "       '1996', '1997', '1998', '1999', '2000', '2001', '2002', '2003', '2004',\n",
       "       '2005', '2006', '2007', '2008', '2009', '2010', '2011', '2012', '2013',\n",
       "       '2014', '2015', '2016', '2017', '2018', 'Unnamed: 63'],\n",
       "      dtype='object')"
      ]
     },
     "execution_count": 9,
     "metadata": {},
     "output_type": "execute_result"
    }
   ],
   "source": [
    "\n",
    "data_set_tempo_dataManquante.columns\n"
   ]
  },
  {
   "cell_type": "code",
   "execution_count": 10,
   "metadata": {},
   "outputs": [
    {
     "data": {
      "text/html": [
       "<div>\n",
       "<style scoped>\n",
       "    .dataframe tbody tr th:only-of-type {\n",
       "        vertical-align: middle;\n",
       "    }\n",
       "\n",
       "    .dataframe tbody tr th {\n",
       "        vertical-align: top;\n",
       "    }\n",
       "\n",
       "    .dataframe thead th {\n",
       "        text-align: right;\n",
       "    }\n",
       "</style>\n",
       "<table border=\"1\" class=\"dataframe\">\n",
       "  <thead>\n",
       "    <tr style=\"text-align: right;\">\n",
       "      <th></th>\n",
       "      <th>Country Code</th>\n",
       "      <th>gdpppp</th>\n",
       "    </tr>\n",
       "  </thead>\n",
       "  <tbody>\n",
       "    <tr>\n",
       "      <th>0</th>\n",
       "      <td>XKX</td>\n",
       "      <td>7236.411</td>\n",
       "    </tr>\n",
       "    <tr>\n",
       "      <th>1</th>\n",
       "      <td>PSE</td>\n",
       "      <td>3695.024</td>\n",
       "    </tr>\n",
       "  </tbody>\n",
       "</table>\n",
       "</div>"
      ],
      "text/plain": [
       "  Country Code   gdpppp\n",
       "0          XKX 7236.411\n",
       "1          PSE 3695.024"
      ]
     },
     "execution_count": 10,
     "metadata": {},
     "output_type": "execute_result"
    }
   ],
   "source": [
    "\n",
    "#Selection des pays\n",
    "df_tempo = data_set_tempo_dataManquante[data_set_tempo_dataManquante['Country Code'] == 'XKX']\n",
    "df_tempo = df_tempo.append(data_set_tempo_dataManquante[data_set_tempo_dataManquante['Country Code'] == 'PSE'])\n",
    "\n",
    "#Selection des dates pour chaque pays\n",
    "df_tempo = df_tempo.drop(columns = ['Country Name', 'Indicator Name', 'Indicator Code',\n",
    "       '1960', '1961', '1962', '1963', '1964', '1965', '1966', '1967', '1968',\n",
    "       '1969', '1970', '1971', '1972', '1973', '1974', '1975', '1976', '1977',\n",
    "       '1978', '1979', '1980', '1981', '1982', '1983', '1984', '1985', '1986',\n",
    "       '1987', '1988', '1989', '1990', '1991', '1992', '1993', '1994', '1995',\n",
    "       '1996', '1997', '1998', '1999', '2000', '2001', '2002', '2003', '2004',\n",
    "       '2005', '2006', '2007', '2010', '2011', '2012', '2013',\n",
    "       '2014', '2015', '2016', '2017', '2018', 'Unnamed: 63'])\n",
    "\n",
    "#On prepare les données manquante en ne prenant que l'années manquante pour chacun des pays\n",
    "df_tempo = df_tempo.reset_index()\n",
    "df_tempo = df_tempo.drop(columns='index')\n",
    "\n",
    "df_tempo.loc[1,'gdpppp'] = df_tempo.loc[1,'2009'] \n",
    "df_tempo.loc[0,'gdpppp'] = df_tempo.loc[0,'2008']\n",
    "df_tempo = df_tempo.drop(columns=['2008','2009'])\n",
    "\n",
    "df_tempo\n"
   ]
  },
  {
   "cell_type": "code",
   "execution_count": 11,
   "metadata": {},
   "outputs": [
    {
     "data": {
      "text/plain": [
       "country         0\n",
       "year_survey     0\n",
       "quantile        0\n",
       "nb_quantiles    0\n",
       "income          0\n",
       "gdpppp          0\n",
       "dtype: int64"
      ]
     },
     "execution_count": 11,
     "metadata": {},
     "output_type": "execute_result"
    }
   ],
   "source": [
    "\n",
    "#On modifie le dataframe principale avec les données manquante\n",
    "data_set_projet7.loc[data_set_projet7.country.isin(['XKX']), 'gdpppp'] = df_tempo.loc[0,'gdpppp']\n",
    "data_set_projet7.loc[data_set_projet7.country.isin(['PSE']), 'gdpppp'] = df_tempo.loc[1,'gdpppp']\n",
    "\n",
    "data_set_projet7.isna().sum()\n"
   ]
  },
  {
   "cell_type": "markdown",
   "metadata": {},
   "source": [
    "On peut voire qu'il n'y a plus de données manquante."
   ]
  },
  {
   "cell_type": "markdown",
   "metadata": {},
   "source": [
    "## Set population"
   ]
  },
  {
   "cell_type": "code",
   "execution_count": 12,
   "metadata": {},
   "outputs": [
    {
     "data": {
      "text/html": [
       "<div>\n",
       "<style scoped>\n",
       "    .dataframe tbody tr th:only-of-type {\n",
       "        vertical-align: middle;\n",
       "    }\n",
       "\n",
       "    .dataframe tbody tr th {\n",
       "        vertical-align: top;\n",
       "    }\n",
       "\n",
       "    .dataframe thead th {\n",
       "        text-align: right;\n",
       "    }\n",
       "</style>\n",
       "<table border=\"1\" class=\"dataframe\">\n",
       "  <thead>\n",
       "    <tr style=\"text-align: right;\">\n",
       "      <th></th>\n",
       "      <th>Country Name</th>\n",
       "      <th>Country Code</th>\n",
       "      <th>Indicator Name</th>\n",
       "      <th>Indicator Code</th>\n",
       "      <th>1960</th>\n",
       "      <th>1961</th>\n",
       "      <th>1962</th>\n",
       "      <th>1963</th>\n",
       "      <th>1964</th>\n",
       "      <th>1965</th>\n",
       "      <th>...</th>\n",
       "      <th>2010</th>\n",
       "      <th>2011</th>\n",
       "      <th>2012</th>\n",
       "      <th>2013</th>\n",
       "      <th>2014</th>\n",
       "      <th>2015</th>\n",
       "      <th>2016</th>\n",
       "      <th>2017</th>\n",
       "      <th>2018</th>\n",
       "      <th>Unnamed: 63</th>\n",
       "    </tr>\n",
       "  </thead>\n",
       "  <tbody>\n",
       "    <tr>\n",
       "      <th>0</th>\n",
       "      <td>Aruba</td>\n",
       "      <td>ABW</td>\n",
       "      <td>Population, total</td>\n",
       "      <td>SP.POP.TOTL</td>\n",
       "      <td>54211.000</td>\n",
       "      <td>55438.000</td>\n",
       "      <td>56225.000</td>\n",
       "      <td>56695.000</td>\n",
       "      <td>57032.000</td>\n",
       "      <td>57360.000</td>\n",
       "      <td>...</td>\n",
       "      <td>101669.000</td>\n",
       "      <td>102046.000</td>\n",
       "      <td>102560.000</td>\n",
       "      <td>103159.000</td>\n",
       "      <td>103774.000</td>\n",
       "      <td>104341.000</td>\n",
       "      <td>104872.000</td>\n",
       "      <td>105366.000</td>\n",
       "      <td>105845.000</td>\n",
       "      <td>nan</td>\n",
       "    </tr>\n",
       "    <tr>\n",
       "      <th>1</th>\n",
       "      <td>Afghanistan</td>\n",
       "      <td>AFG</td>\n",
       "      <td>Population, total</td>\n",
       "      <td>SP.POP.TOTL</td>\n",
       "      <td>8996973.000</td>\n",
       "      <td>9169410.000</td>\n",
       "      <td>9351441.000</td>\n",
       "      <td>9543205.000</td>\n",
       "      <td>9744781.000</td>\n",
       "      <td>9956320.000</td>\n",
       "      <td>...</td>\n",
       "      <td>29185507.000</td>\n",
       "      <td>30117413.000</td>\n",
       "      <td>31161376.000</td>\n",
       "      <td>32269589.000</td>\n",
       "      <td>33370794.000</td>\n",
       "      <td>34413603.000</td>\n",
       "      <td>35383128.000</td>\n",
       "      <td>36296400.000</td>\n",
       "      <td>37172386.000</td>\n",
       "      <td>nan</td>\n",
       "    </tr>\n",
       "    <tr>\n",
       "      <th>2</th>\n",
       "      <td>Angola</td>\n",
       "      <td>AGO</td>\n",
       "      <td>Population, total</td>\n",
       "      <td>SP.POP.TOTL</td>\n",
       "      <td>5454933.000</td>\n",
       "      <td>5531472.000</td>\n",
       "      <td>5608539.000</td>\n",
       "      <td>5679458.000</td>\n",
       "      <td>5735044.000</td>\n",
       "      <td>5770570.000</td>\n",
       "      <td>...</td>\n",
       "      <td>23356246.000</td>\n",
       "      <td>24220661.000</td>\n",
       "      <td>25107931.000</td>\n",
       "      <td>26015780.000</td>\n",
       "      <td>26941779.000</td>\n",
       "      <td>27884381.000</td>\n",
       "      <td>28842484.000</td>\n",
       "      <td>29816748.000</td>\n",
       "      <td>30809762.000</td>\n",
       "      <td>nan</td>\n",
       "    </tr>\n",
       "    <tr>\n",
       "      <th>3</th>\n",
       "      <td>Albania</td>\n",
       "      <td>ALB</td>\n",
       "      <td>Population, total</td>\n",
       "      <td>SP.POP.TOTL</td>\n",
       "      <td>1608800.000</td>\n",
       "      <td>1659800.000</td>\n",
       "      <td>1711319.000</td>\n",
       "      <td>1762621.000</td>\n",
       "      <td>1814135.000</td>\n",
       "      <td>1864791.000</td>\n",
       "      <td>...</td>\n",
       "      <td>2913021.000</td>\n",
       "      <td>2905195.000</td>\n",
       "      <td>2900401.000</td>\n",
       "      <td>2895092.000</td>\n",
       "      <td>2889104.000</td>\n",
       "      <td>2880703.000</td>\n",
       "      <td>2876101.000</td>\n",
       "      <td>2873457.000</td>\n",
       "      <td>2866376.000</td>\n",
       "      <td>nan</td>\n",
       "    </tr>\n",
       "    <tr>\n",
       "      <th>4</th>\n",
       "      <td>Andorra</td>\n",
       "      <td>AND</td>\n",
       "      <td>Population, total</td>\n",
       "      <td>SP.POP.TOTL</td>\n",
       "      <td>13411.000</td>\n",
       "      <td>14375.000</td>\n",
       "      <td>15370.000</td>\n",
       "      <td>16412.000</td>\n",
       "      <td>17469.000</td>\n",
       "      <td>18549.000</td>\n",
       "      <td>...</td>\n",
       "      <td>84449.000</td>\n",
       "      <td>83747.000</td>\n",
       "      <td>82427.000</td>\n",
       "      <td>80774.000</td>\n",
       "      <td>79213.000</td>\n",
       "      <td>78011.000</td>\n",
       "      <td>77297.000</td>\n",
       "      <td>77001.000</td>\n",
       "      <td>77006.000</td>\n",
       "      <td>nan</td>\n",
       "    </tr>\n",
       "  </tbody>\n",
       "</table>\n",
       "<p>5 rows × 64 columns</p>\n",
       "</div>"
      ],
      "text/plain": [
       "  Country Name Country Code     Indicator Name Indicator Code        1960  \\\n",
       "0        Aruba          ABW  Population, total    SP.POP.TOTL   54211.000   \n",
       "1  Afghanistan          AFG  Population, total    SP.POP.TOTL 8996973.000   \n",
       "2       Angola          AGO  Population, total    SP.POP.TOTL 5454933.000   \n",
       "3      Albania          ALB  Population, total    SP.POP.TOTL 1608800.000   \n",
       "4      Andorra          AND  Population, total    SP.POP.TOTL   13411.000   \n",
       "\n",
       "         1961        1962        1963        1964        1965  ...  \\\n",
       "0   55438.000   56225.000   56695.000   57032.000   57360.000  ...   \n",
       "1 9169410.000 9351441.000 9543205.000 9744781.000 9956320.000  ...   \n",
       "2 5531472.000 5608539.000 5679458.000 5735044.000 5770570.000  ...   \n",
       "3 1659800.000 1711319.000 1762621.000 1814135.000 1864791.000  ...   \n",
       "4   14375.000   15370.000   16412.000   17469.000   18549.000  ...   \n",
       "\n",
       "          2010         2011         2012         2013         2014  \\\n",
       "0   101669.000   102046.000   102560.000   103159.000   103774.000   \n",
       "1 29185507.000 30117413.000 31161376.000 32269589.000 33370794.000   \n",
       "2 23356246.000 24220661.000 25107931.000 26015780.000 26941779.000   \n",
       "3  2913021.000  2905195.000  2900401.000  2895092.000  2889104.000   \n",
       "4    84449.000    83747.000    82427.000    80774.000    79213.000   \n",
       "\n",
       "          2015         2016         2017         2018  Unnamed: 63  \n",
       "0   104341.000   104872.000   105366.000   105845.000          nan  \n",
       "1 34413603.000 35383128.000 36296400.000 37172386.000          nan  \n",
       "2 27884381.000 28842484.000 29816748.000 30809762.000          nan  \n",
       "3  2880703.000  2876101.000  2873457.000  2866376.000          nan  \n",
       "4    78011.000    77297.000    77001.000    77006.000          nan  \n",
       "\n",
       "[5 rows x 64 columns]"
      ]
     },
     "execution_count": 12,
     "metadata": {},
     "output_type": "execute_result"
    }
   ],
   "source": [
    "\n",
    "data_set_population.head()\n"
   ]
  },
  {
   "cell_type": "code",
   "execution_count": 13,
   "metadata": {},
   "outputs": [
    {
     "data": {
      "text/plain": [
       "(264, 64)"
      ]
     },
     "execution_count": 13,
     "metadata": {},
     "output_type": "execute_result"
    }
   ],
   "source": [
    "\n",
    "data_set_population.shape\n"
   ]
  },
  {
   "cell_type": "code",
   "execution_count": 14,
   "metadata": {},
   "outputs": [
    {
     "data": {
      "text/plain": [
       "Index(['Country Name', 'Country Code', 'Indicator Name', 'Indicator Code',\n",
       "       '1960', '1961', '1962', '1963', '1964', '1965', '1966', '1967', '1968',\n",
       "       '1969', '1970', '1971', '1972', '1973', '1974', '1975', '1976', '1977',\n",
       "       '1978', '1979', '1980', '1981', '1982', '1983', '1984', '1985', '1986',\n",
       "       '1987', '1988', '1989', '1990', '1991', '1992', '1993', '1994', '1995',\n",
       "       '1996', '1997', '1998', '1999', '2000', '2001', '2002', '2003', '2004',\n",
       "       '2005', '2006', '2007', '2008', '2009', '2010', '2011', '2012', '2013',\n",
       "       '2014', '2015', '2016', '2017', '2018', 'Unnamed: 63'],\n",
       "      dtype='object')"
      ]
     },
     "execution_count": 14,
     "metadata": {},
     "output_type": "execute_result"
    }
   ],
   "source": [
    "\n",
    "data_set_population.columns\n"
   ]
  },
  {
   "cell_type": "code",
   "execution_count": 15,
   "metadata": {},
   "outputs": [
    {
     "data": {
      "text/plain": [
       "Country Name      0\n",
       "Country Code      0\n",
       "Indicator Name    0\n",
       "Indicator Code    0\n",
       "2004              1\n",
       "2005              1\n",
       "2006              1\n",
       "2007              1\n",
       "2008              1\n",
       "2009              1\n",
       "2010              1\n",
       "2011              1\n",
       "dtype: int64"
      ]
     },
     "execution_count": 15,
     "metadata": {},
     "output_type": "execute_result"
    }
   ],
   "source": [
    "\n",
    "data_set_population = data_set_population.drop(columns=['1960', '1961', '1962', '1963',\n",
    "                                                        '1964', '1965', '1966', '1967', '1968',\n",
    "       '1969', '1970', '1971', '1972', '1973', '1974', '1975', '1976', '1977',\n",
    "       '1978', '1979', '1980', '1981', '1982', '1983', '1984', '1985', '1986',\n",
    "       '1987', '1988', '1989', '1990', '1991', '1992', '1993', '1994', '1995',\n",
    "       '1996', '1997', '1998', '1999', '2000', '2001', '2002', '2003','2012', '2013',\n",
    "       '2014', '2015', '2016', '2017', '2018', 'Unnamed: 63'])\n",
    "\n",
    "data_set_population.isna().sum()\n"
   ]
  },
  {
   "cell_type": "code",
   "execution_count": 16,
   "metadata": {},
   "outputs": [
    {
     "data": {
      "text/html": [
       "<div>\n",
       "<style scoped>\n",
       "    .dataframe tbody tr th:only-of-type {\n",
       "        vertical-align: middle;\n",
       "    }\n",
       "\n",
       "    .dataframe tbody tr th {\n",
       "        vertical-align: top;\n",
       "    }\n",
       "\n",
       "    .dataframe thead th {\n",
       "        text-align: right;\n",
       "    }\n",
       "</style>\n",
       "<table border=\"1\" class=\"dataframe\">\n",
       "  <thead>\n",
       "    <tr style=\"text-align: right;\">\n",
       "      <th></th>\n",
       "      <th>Country Name</th>\n",
       "      <th>Country Code</th>\n",
       "      <th>Indicator Name</th>\n",
       "      <th>Indicator Code</th>\n",
       "      <th>2004</th>\n",
       "      <th>2005</th>\n",
       "      <th>2006</th>\n",
       "      <th>2007</th>\n",
       "      <th>2008</th>\n",
       "      <th>2009</th>\n",
       "      <th>2010</th>\n",
       "      <th>2011</th>\n",
       "    </tr>\n",
       "  </thead>\n",
       "  <tbody>\n",
       "    <tr>\n",
       "      <th>108</th>\n",
       "      <td>Not classified</td>\n",
       "      <td>INX</td>\n",
       "      <td>Population, total</td>\n",
       "      <td>SP.POP.TOTL</td>\n",
       "      <td>nan</td>\n",
       "      <td>nan</td>\n",
       "      <td>nan</td>\n",
       "      <td>nan</td>\n",
       "      <td>nan</td>\n",
       "      <td>nan</td>\n",
       "      <td>nan</td>\n",
       "      <td>nan</td>\n",
       "    </tr>\n",
       "  </tbody>\n",
       "</table>\n",
       "</div>"
      ],
      "text/plain": [
       "       Country Name Country Code     Indicator Name Indicator Code  2004  \\\n",
       "108  Not classified          INX  Population, total    SP.POP.TOTL   nan   \n",
       "\n",
       "     2005  2006  2007  2008  2009  2010  2011  \n",
       "108   nan   nan   nan   nan   nan   nan   nan  "
      ]
     },
     "execution_count": 16,
     "metadata": {},
     "output_type": "execute_result"
    }
   ],
   "source": [
    "\n",
    "data_set_population[data_set_population['2004'].isna()]\n"
   ]
  },
  {
   "cell_type": "markdown",
   "metadata": {},
   "source": [
    "Le code pays ici present n'etant pas present dans nos données principale nous n'en aurons pas besoin par la suite."
   ]
  },
  {
   "cell_type": "code",
   "execution_count": 17,
   "metadata": {},
   "outputs": [],
   "source": [
    "\n",
    "data_set_population = data_set_population.dropna()\n"
   ]
  },
  {
   "cell_type": "markdown",
   "metadata": {},
   "source": [
    "## Set Information complementaire"
   ]
  },
  {
   "cell_type": "code",
   "execution_count": 18,
   "metadata": {},
   "outputs": [
    {
     "data": {
      "text/html": [
       "<div>\n",
       "<style scoped>\n",
       "    .dataframe tbody tr th:only-of-type {\n",
       "        vertical-align: middle;\n",
       "    }\n",
       "\n",
       "    .dataframe tbody tr th {\n",
       "        vertical-align: top;\n",
       "    }\n",
       "\n",
       "    .dataframe thead th {\n",
       "        text-align: right;\n",
       "    }\n",
       "</style>\n",
       "<table border=\"1\" class=\"dataframe\">\n",
       "  <thead>\n",
       "    <tr style=\"text-align: right;\">\n",
       "      <th></th>\n",
       "      <th>Country Code</th>\n",
       "      <th>Region</th>\n",
       "      <th>IncomeGroup</th>\n",
       "      <th>SpecialNotes</th>\n",
       "      <th>TableName</th>\n",
       "      <th>Unnamed: 5</th>\n",
       "    </tr>\n",
       "  </thead>\n",
       "  <tbody>\n",
       "    <tr>\n",
       "      <th>0</th>\n",
       "      <td>ABW</td>\n",
       "      <td>Latin America &amp; Caribbean</td>\n",
       "      <td>High income</td>\n",
       "      <td>NaN</td>\n",
       "      <td>Aruba</td>\n",
       "      <td>nan</td>\n",
       "    </tr>\n",
       "    <tr>\n",
       "      <th>1</th>\n",
       "      <td>AFG</td>\n",
       "      <td>South Asia</td>\n",
       "      <td>Low income</td>\n",
       "      <td>NaN</td>\n",
       "      <td>Afghanistan</td>\n",
       "      <td>nan</td>\n",
       "    </tr>\n",
       "    <tr>\n",
       "      <th>2</th>\n",
       "      <td>AGO</td>\n",
       "      <td>Sub-Saharan Africa</td>\n",
       "      <td>Lower middle income</td>\n",
       "      <td>NaN</td>\n",
       "      <td>Angola</td>\n",
       "      <td>nan</td>\n",
       "    </tr>\n",
       "    <tr>\n",
       "      <th>3</th>\n",
       "      <td>ALB</td>\n",
       "      <td>Europe &amp; Central Asia</td>\n",
       "      <td>Upper middle income</td>\n",
       "      <td>NaN</td>\n",
       "      <td>Albania</td>\n",
       "      <td>nan</td>\n",
       "    </tr>\n",
       "    <tr>\n",
       "      <th>4</th>\n",
       "      <td>AND</td>\n",
       "      <td>Europe &amp; Central Asia</td>\n",
       "      <td>High income</td>\n",
       "      <td>NaN</td>\n",
       "      <td>Andorra</td>\n",
       "      <td>nan</td>\n",
       "    </tr>\n",
       "  </tbody>\n",
       "</table>\n",
       "</div>"
      ],
      "text/plain": [
       "  Country Code                     Region          IncomeGroup SpecialNotes  \\\n",
       "0          ABW  Latin America & Caribbean          High income          NaN   \n",
       "1          AFG                 South Asia           Low income          NaN   \n",
       "2          AGO         Sub-Saharan Africa  Lower middle income          NaN   \n",
       "3          ALB      Europe & Central Asia  Upper middle income          NaN   \n",
       "4          AND      Europe & Central Asia          High income          NaN   \n",
       "\n",
       "     TableName  Unnamed: 5  \n",
       "0        Aruba         nan  \n",
       "1  Afghanistan         nan  \n",
       "2       Angola         nan  \n",
       "3      Albania         nan  \n",
       "4      Andorra         nan  "
      ]
     },
     "execution_count": 18,
     "metadata": {},
     "output_type": "execute_result"
    }
   ],
   "source": [
    "\n",
    "data_set_info_pays.head()\n"
   ]
  },
  {
   "cell_type": "code",
   "execution_count": 19,
   "metadata": {},
   "outputs": [
    {
     "data": {
      "text/plain": [
       "(263, 6)"
      ]
     },
     "execution_count": 19,
     "metadata": {},
     "output_type": "execute_result"
    }
   ],
   "source": [
    "\n",
    "data_set_info_pays.shape\n"
   ]
  },
  {
   "cell_type": "code",
   "execution_count": 20,
   "metadata": {},
   "outputs": [
    {
     "data": {
      "text/plain": [
       "Country Code      0\n",
       "Region           46\n",
       "Income Groupe    46\n",
       "Country Name      0\n",
       "dtype: int64"
      ]
     },
     "execution_count": 20,
     "metadata": {},
     "output_type": "execute_result"
    }
   ],
   "source": [
    "\n",
    "#Colones inutiles pour nous.\n",
    "data_set_info_pays = data_set_info_pays.drop(columns=['SpecialNotes','Unnamed: 5'])\n",
    "data_set_info_pays.columns = ['Country Code','Region','Income Groupe', 'Country Name']\n",
    "\n",
    "data_set_info_pays.isna(). sum()\n"
   ]
  },
  {
   "cell_type": "code",
   "execution_count": 21,
   "metadata": {},
   "outputs": [
    {
     "data": {
      "text/html": [
       "<div>\n",
       "<style scoped>\n",
       "    .dataframe tbody tr th:only-of-type {\n",
       "        vertical-align: middle;\n",
       "    }\n",
       "\n",
       "    .dataframe tbody tr th {\n",
       "        vertical-align: top;\n",
       "    }\n",
       "\n",
       "    .dataframe thead th {\n",
       "        text-align: right;\n",
       "    }\n",
       "</style>\n",
       "<table border=\"1\" class=\"dataframe\">\n",
       "  <thead>\n",
       "    <tr style=\"text-align: right;\">\n",
       "      <th></th>\n",
       "      <th>Country Code</th>\n",
       "      <th>Region</th>\n",
       "      <th>Income Groupe</th>\n",
       "      <th>Country Name</th>\n",
       "    </tr>\n",
       "  </thead>\n",
       "  <tbody>\n",
       "    <tr>\n",
       "      <th>5</th>\n",
       "      <td>ARB</td>\n",
       "      <td>NaN</td>\n",
       "      <td>NaN</td>\n",
       "      <td>Arab World</td>\n",
       "    </tr>\n",
       "    <tr>\n",
       "      <th>34</th>\n",
       "      <td>CEB</td>\n",
       "      <td>NaN</td>\n",
       "      <td>NaN</td>\n",
       "      <td>Central Europe and the Baltics</td>\n",
       "    </tr>\n",
       "    <tr>\n",
       "      <th>47</th>\n",
       "      <td>CSS</td>\n",
       "      <td>NaN</td>\n",
       "      <td>NaN</td>\n",
       "      <td>Caribbean small states</td>\n",
       "    </tr>\n",
       "    <tr>\n",
       "      <th>59</th>\n",
       "      <td>EAP</td>\n",
       "      <td>NaN</td>\n",
       "      <td>NaN</td>\n",
       "      <td>East Asia &amp; Pacific (excluding high income)</td>\n",
       "    </tr>\n",
       "    <tr>\n",
       "      <th>60</th>\n",
       "      <td>EAR</td>\n",
       "      <td>NaN</td>\n",
       "      <td>NaN</td>\n",
       "      <td>Early-demographic dividend</td>\n",
       "    </tr>\n",
       "    <tr>\n",
       "      <th>61</th>\n",
       "      <td>EAS</td>\n",
       "      <td>NaN</td>\n",
       "      <td>NaN</td>\n",
       "      <td>East Asia &amp; Pacific</td>\n",
       "    </tr>\n",
       "    <tr>\n",
       "      <th>62</th>\n",
       "      <td>ECA</td>\n",
       "      <td>NaN</td>\n",
       "      <td>NaN</td>\n",
       "      <td>Europe &amp; Central Asia (excluding high income)</td>\n",
       "    </tr>\n",
       "    <tr>\n",
       "      <th>63</th>\n",
       "      <td>ECS</td>\n",
       "      <td>NaN</td>\n",
       "      <td>NaN</td>\n",
       "      <td>Europe &amp; Central Asia</td>\n",
       "    </tr>\n",
       "    <tr>\n",
       "      <th>66</th>\n",
       "      <td>EMU</td>\n",
       "      <td>NaN</td>\n",
       "      <td>NaN</td>\n",
       "      <td>Euro area</td>\n",
       "    </tr>\n",
       "    <tr>\n",
       "      <th>71</th>\n",
       "      <td>EUU</td>\n",
       "      <td>NaN</td>\n",
       "      <td>NaN</td>\n",
       "      <td>European Union</td>\n",
       "    </tr>\n",
       "    <tr>\n",
       "      <th>72</th>\n",
       "      <td>FCS</td>\n",
       "      <td>NaN</td>\n",
       "      <td>NaN</td>\n",
       "      <td>Fragile and conflict affected situations</td>\n",
       "    </tr>\n",
       "    <tr>\n",
       "      <th>93</th>\n",
       "      <td>HIC</td>\n",
       "      <td>NaN</td>\n",
       "      <td>NaN</td>\n",
       "      <td>High income</td>\n",
       "    </tr>\n",
       "    <tr>\n",
       "      <th>96</th>\n",
       "      <td>HPC</td>\n",
       "      <td>NaN</td>\n",
       "      <td>NaN</td>\n",
       "      <td>Heavily indebted poor countries (HIPC)</td>\n",
       "    </tr>\n",
       "    <tr>\n",
       "      <th>100</th>\n",
       "      <td>IBD</td>\n",
       "      <td>NaN</td>\n",
       "      <td>NaN</td>\n",
       "      <td>IBRD only</td>\n",
       "    </tr>\n",
       "    <tr>\n",
       "      <th>101</th>\n",
       "      <td>IBT</td>\n",
       "      <td>NaN</td>\n",
       "      <td>NaN</td>\n",
       "      <td>IDA &amp; IBRD total</td>\n",
       "    </tr>\n",
       "    <tr>\n",
       "      <th>102</th>\n",
       "      <td>IDA</td>\n",
       "      <td>NaN</td>\n",
       "      <td>NaN</td>\n",
       "      <td>IDA total</td>\n",
       "    </tr>\n",
       "    <tr>\n",
       "      <th>103</th>\n",
       "      <td>IDB</td>\n",
       "      <td>NaN</td>\n",
       "      <td>NaN</td>\n",
       "      <td>IDA blend</td>\n",
       "    </tr>\n",
       "    <tr>\n",
       "      <th>105</th>\n",
       "      <td>IDX</td>\n",
       "      <td>NaN</td>\n",
       "      <td>NaN</td>\n",
       "      <td>IDA only</td>\n",
       "    </tr>\n",
       "    <tr>\n",
       "      <th>125</th>\n",
       "      <td>LAC</td>\n",
       "      <td>NaN</td>\n",
       "      <td>NaN</td>\n",
       "      <td>Latin America &amp; Caribbean (excluding high income)</td>\n",
       "    </tr>\n",
       "    <tr>\n",
       "      <th>131</th>\n",
       "      <td>LCN</td>\n",
       "      <td>NaN</td>\n",
       "      <td>NaN</td>\n",
       "      <td>Latin America &amp; Caribbean</td>\n",
       "    </tr>\n",
       "    <tr>\n",
       "      <th>132</th>\n",
       "      <td>LDC</td>\n",
       "      <td>NaN</td>\n",
       "      <td>NaN</td>\n",
       "      <td>Least developed countries: UN classification</td>\n",
       "    </tr>\n",
       "    <tr>\n",
       "      <th>133</th>\n",
       "      <td>LIC</td>\n",
       "      <td>NaN</td>\n",
       "      <td>NaN</td>\n",
       "      <td>Low income</td>\n",
       "    </tr>\n",
       "    <tr>\n",
       "      <th>136</th>\n",
       "      <td>LMC</td>\n",
       "      <td>NaN</td>\n",
       "      <td>NaN</td>\n",
       "      <td>Lower middle income</td>\n",
       "    </tr>\n",
       "    <tr>\n",
       "      <th>137</th>\n",
       "      <td>LMY</td>\n",
       "      <td>NaN</td>\n",
       "      <td>NaN</td>\n",
       "      <td>Low &amp; middle income</td>\n",
       "    </tr>\n",
       "    <tr>\n",
       "      <th>139</th>\n",
       "      <td>LTE</td>\n",
       "      <td>NaN</td>\n",
       "      <td>NaN</td>\n",
       "      <td>Late-demographic dividend</td>\n",
       "    </tr>\n",
       "    <tr>\n",
       "      <th>150</th>\n",
       "      <td>MEA</td>\n",
       "      <td>NaN</td>\n",
       "      <td>NaN</td>\n",
       "      <td>Middle East &amp; North Africa</td>\n",
       "    </tr>\n",
       "    <tr>\n",
       "      <th>153</th>\n",
       "      <td>MIC</td>\n",
       "      <td>NaN</td>\n",
       "      <td>NaN</td>\n",
       "      <td>Middle income</td>\n",
       "    </tr>\n",
       "    <tr>\n",
       "      <th>158</th>\n",
       "      <td>MNA</td>\n",
       "      <td>NaN</td>\n",
       "      <td>NaN</td>\n",
       "      <td>Middle East &amp; North Africa (excluding high inc...</td>\n",
       "    </tr>\n",
       "    <tr>\n",
       "      <th>167</th>\n",
       "      <td>NAC</td>\n",
       "      <td>NaN</td>\n",
       "      <td>NaN</td>\n",
       "      <td>North America</td>\n",
       "    </tr>\n",
       "    <tr>\n",
       "      <th>178</th>\n",
       "      <td>OED</td>\n",
       "      <td>NaN</td>\n",
       "      <td>NaN</td>\n",
       "      <td>OECD members</td>\n",
       "    </tr>\n",
       "    <tr>\n",
       "      <th>180</th>\n",
       "      <td>OSS</td>\n",
       "      <td>NaN</td>\n",
       "      <td>NaN</td>\n",
       "      <td>Other small states</td>\n",
       "    </tr>\n",
       "    <tr>\n",
       "      <th>188</th>\n",
       "      <td>PRE</td>\n",
       "      <td>NaN</td>\n",
       "      <td>NaN</td>\n",
       "      <td>Pre-demographic dividend</td>\n",
       "    </tr>\n",
       "    <tr>\n",
       "      <th>194</th>\n",
       "      <td>PSS</td>\n",
       "      <td>NaN</td>\n",
       "      <td>NaN</td>\n",
       "      <td>Pacific island small states</td>\n",
       "    </tr>\n",
       "    <tr>\n",
       "      <th>195</th>\n",
       "      <td>PST</td>\n",
       "      <td>NaN</td>\n",
       "      <td>NaN</td>\n",
       "      <td>Post-demographic dividend</td>\n",
       "    </tr>\n",
       "    <tr>\n",
       "      <th>201</th>\n",
       "      <td>SAS</td>\n",
       "      <td>NaN</td>\n",
       "      <td>NaN</td>\n",
       "      <td>South Asia</td>\n",
       "    </tr>\n",
       "    <tr>\n",
       "      <th>212</th>\n",
       "      <td>SSA</td>\n",
       "      <td>NaN</td>\n",
       "      <td>NaN</td>\n",
       "      <td>Sub-Saharan Africa (excluding high income)</td>\n",
       "    </tr>\n",
       "    <tr>\n",
       "      <th>214</th>\n",
       "      <td>SSF</td>\n",
       "      <td>NaN</td>\n",
       "      <td>NaN</td>\n",
       "      <td>Sub-Saharan Africa</td>\n",
       "    </tr>\n",
       "    <tr>\n",
       "      <th>215</th>\n",
       "      <td>SST</td>\n",
       "      <td>NaN</td>\n",
       "      <td>NaN</td>\n",
       "      <td>Small states</td>\n",
       "    </tr>\n",
       "    <tr>\n",
       "      <th>227</th>\n",
       "      <td>TEA</td>\n",
       "      <td>NaN</td>\n",
       "      <td>NaN</td>\n",
       "      <td>East Asia &amp; Pacific (IDA &amp; IBRD)</td>\n",
       "    </tr>\n",
       "    <tr>\n",
       "      <th>228</th>\n",
       "      <td>TEC</td>\n",
       "      <td>NaN</td>\n",
       "      <td>NaN</td>\n",
       "      <td>Europe &amp; Central Asia (IDA &amp; IBRD)</td>\n",
       "    </tr>\n",
       "    <tr>\n",
       "      <th>233</th>\n",
       "      <td>TLA</td>\n",
       "      <td>NaN</td>\n",
       "      <td>NaN</td>\n",
       "      <td>Latin America &amp; Caribbean (IDA &amp; IBRD)</td>\n",
       "    </tr>\n",
       "    <tr>\n",
       "      <th>235</th>\n",
       "      <td>TMN</td>\n",
       "      <td>NaN</td>\n",
       "      <td>NaN</td>\n",
       "      <td>Middle East &amp; North Africa (IDA &amp; IBRD)</td>\n",
       "    </tr>\n",
       "    <tr>\n",
       "      <th>237</th>\n",
       "      <td>TSA</td>\n",
       "      <td>NaN</td>\n",
       "      <td>NaN</td>\n",
       "      <td>South Asia (IDA &amp; IBRD)</td>\n",
       "    </tr>\n",
       "    <tr>\n",
       "      <th>238</th>\n",
       "      <td>TSS</td>\n",
       "      <td>NaN</td>\n",
       "      <td>NaN</td>\n",
       "      <td>Sub-Saharan Africa (IDA &amp; IBRD)</td>\n",
       "    </tr>\n",
       "    <tr>\n",
       "      <th>246</th>\n",
       "      <td>UMC</td>\n",
       "      <td>NaN</td>\n",
       "      <td>NaN</td>\n",
       "      <td>Upper middle income</td>\n",
       "    </tr>\n",
       "    <tr>\n",
       "      <th>256</th>\n",
       "      <td>WLD</td>\n",
       "      <td>NaN</td>\n",
       "      <td>NaN</td>\n",
       "      <td>World</td>\n",
       "    </tr>\n",
       "  </tbody>\n",
       "</table>\n",
       "</div>"
      ],
      "text/plain": [
       "    Country Code Region Income Groupe  \\\n",
       "5            ARB    NaN           NaN   \n",
       "34           CEB    NaN           NaN   \n",
       "47           CSS    NaN           NaN   \n",
       "59           EAP    NaN           NaN   \n",
       "60           EAR    NaN           NaN   \n",
       "61           EAS    NaN           NaN   \n",
       "62           ECA    NaN           NaN   \n",
       "63           ECS    NaN           NaN   \n",
       "66           EMU    NaN           NaN   \n",
       "71           EUU    NaN           NaN   \n",
       "72           FCS    NaN           NaN   \n",
       "93           HIC    NaN           NaN   \n",
       "96           HPC    NaN           NaN   \n",
       "100          IBD    NaN           NaN   \n",
       "101          IBT    NaN           NaN   \n",
       "102          IDA    NaN           NaN   \n",
       "103          IDB    NaN           NaN   \n",
       "105          IDX    NaN           NaN   \n",
       "125          LAC    NaN           NaN   \n",
       "131          LCN    NaN           NaN   \n",
       "132          LDC    NaN           NaN   \n",
       "133          LIC    NaN           NaN   \n",
       "136          LMC    NaN           NaN   \n",
       "137          LMY    NaN           NaN   \n",
       "139          LTE    NaN           NaN   \n",
       "150          MEA    NaN           NaN   \n",
       "153          MIC    NaN           NaN   \n",
       "158          MNA    NaN           NaN   \n",
       "167          NAC    NaN           NaN   \n",
       "178          OED    NaN           NaN   \n",
       "180          OSS    NaN           NaN   \n",
       "188          PRE    NaN           NaN   \n",
       "194          PSS    NaN           NaN   \n",
       "195          PST    NaN           NaN   \n",
       "201          SAS    NaN           NaN   \n",
       "212          SSA    NaN           NaN   \n",
       "214          SSF    NaN           NaN   \n",
       "215          SST    NaN           NaN   \n",
       "227          TEA    NaN           NaN   \n",
       "228          TEC    NaN           NaN   \n",
       "233          TLA    NaN           NaN   \n",
       "235          TMN    NaN           NaN   \n",
       "237          TSA    NaN           NaN   \n",
       "238          TSS    NaN           NaN   \n",
       "246          UMC    NaN           NaN   \n",
       "256          WLD    NaN           NaN   \n",
       "\n",
       "                                          Country Name  \n",
       "5                                           Arab World  \n",
       "34                      Central Europe and the Baltics  \n",
       "47                              Caribbean small states  \n",
       "59         East Asia & Pacific (excluding high income)  \n",
       "60                          Early-demographic dividend  \n",
       "61                                 East Asia & Pacific  \n",
       "62       Europe & Central Asia (excluding high income)  \n",
       "63                               Europe & Central Asia  \n",
       "66                                           Euro area  \n",
       "71                                      European Union  \n",
       "72            Fragile and conflict affected situations  \n",
       "93                                         High income  \n",
       "96              Heavily indebted poor countries (HIPC)  \n",
       "100                                          IBRD only  \n",
       "101                                   IDA & IBRD total  \n",
       "102                                          IDA total  \n",
       "103                                          IDA blend  \n",
       "105                                           IDA only  \n",
       "125  Latin America & Caribbean (excluding high income)  \n",
       "131                          Latin America & Caribbean  \n",
       "132       Least developed countries: UN classification  \n",
       "133                                         Low income  \n",
       "136                                Lower middle income  \n",
       "137                                Low & middle income  \n",
       "139                          Late-demographic dividend  \n",
       "150                         Middle East & North Africa  \n",
       "153                                      Middle income  \n",
       "158  Middle East & North Africa (excluding high inc...  \n",
       "167                                      North America  \n",
       "178                                       OECD members  \n",
       "180                                 Other small states  \n",
       "188                           Pre-demographic dividend  \n",
       "194                        Pacific island small states  \n",
       "195                          Post-demographic dividend  \n",
       "201                                         South Asia  \n",
       "212         Sub-Saharan Africa (excluding high income)  \n",
       "214                                 Sub-Saharan Africa  \n",
       "215                                       Small states  \n",
       "227                   East Asia & Pacific (IDA & IBRD)  \n",
       "228                 Europe & Central Asia (IDA & IBRD)  \n",
       "233             Latin America & Caribbean (IDA & IBRD)  \n",
       "235            Middle East & North Africa (IDA & IBRD)  \n",
       "237                            South Asia (IDA & IBRD)  \n",
       "238                    Sub-Saharan Africa (IDA & IBRD)  \n",
       "246                                Upper middle income  \n",
       "256                                              World  "
      ]
     },
     "execution_count": 21,
     "metadata": {},
     "output_type": "execute_result"
    }
   ],
   "source": [
    "\n",
    "data_set_info_pays[data_set_info_pays[\"Region\"].isna()]\n"
   ]
  },
  {
   "cell_type": "markdown",
   "metadata": {},
   "source": [
    "Les données sont manquante sur ce qui semble etre sur des lignes indicative qui nous ne seront pas utile ici, nous les supprimerons donc"
   ]
  },
  {
   "cell_type": "code",
   "execution_count": 22,
   "metadata": {},
   "outputs": [],
   "source": [
    "\n",
    "data_set_info_pays = data_set_info_pays.dropna()\n"
   ]
  },
  {
   "cell_type": "code",
   "execution_count": 23,
   "metadata": {},
   "outputs": [
    {
     "data": {
      "text/plain": [
       "(217, 4)"
      ]
     },
     "execution_count": 23,
     "metadata": {},
     "output_type": "execute_result"
    }
   ],
   "source": [
    "\n",
    "data_set_info_pays.shape\n"
   ]
  },
  {
   "cell_type": "markdown",
   "metadata": {},
   "source": [
    "# Preparation\n",
    "\n",
    "La premiere phase de nettoyage passer nous allons maintenant crée nous dataframe d'etude. \n",
    "\n",
    "Nous allons construire deux different, le premier comportera toute les informations des pays tandis que le seconds plus precis sera diviser en different echantillons fiscaux afin de faire une recherche plus precise par pays."
   ]
  },
  {
   "cell_type": "code",
   "execution_count": 24,
   "metadata": {},
   "outputs": [
    {
     "data": {
      "text/html": [
       "<div>\n",
       "<style scoped>\n",
       "    .dataframe tbody tr th:only-of-type {\n",
       "        vertical-align: middle;\n",
       "    }\n",
       "\n",
       "    .dataframe tbody tr th {\n",
       "        vertical-align: top;\n",
       "    }\n",
       "\n",
       "    .dataframe thead th {\n",
       "        text-align: right;\n",
       "    }\n",
       "</style>\n",
       "<table border=\"1\" class=\"dataframe\">\n",
       "  <thead>\n",
       "    <tr style=\"text-align: right;\">\n",
       "      <th></th>\n",
       "      <th>country</th>\n",
       "      <th>year_survey</th>\n",
       "      <th>quantile</th>\n",
       "      <th>nb_quantiles</th>\n",
       "      <th>income</th>\n",
       "      <th>gdpppp</th>\n",
       "    </tr>\n",
       "  </thead>\n",
       "  <tbody>\n",
       "    <tr>\n",
       "      <th>0</th>\n",
       "      <td>ALB</td>\n",
       "      <td>2008</td>\n",
       "      <td>1</td>\n",
       "      <td>100</td>\n",
       "      <td>728.898</td>\n",
       "      <td>7297.000</td>\n",
       "    </tr>\n",
       "    <tr>\n",
       "      <th>1</th>\n",
       "      <td>ALB</td>\n",
       "      <td>2008</td>\n",
       "      <td>2</td>\n",
       "      <td>100</td>\n",
       "      <td>916.662</td>\n",
       "      <td>7297.000</td>\n",
       "    </tr>\n",
       "    <tr>\n",
       "      <th>2</th>\n",
       "      <td>ALB</td>\n",
       "      <td>2008</td>\n",
       "      <td>3</td>\n",
       "      <td>100</td>\n",
       "      <td>1010.916</td>\n",
       "      <td>7297.000</td>\n",
       "    </tr>\n",
       "    <tr>\n",
       "      <th>3</th>\n",
       "      <td>ALB</td>\n",
       "      <td>2008</td>\n",
       "      <td>4</td>\n",
       "      <td>100</td>\n",
       "      <td>1086.908</td>\n",
       "      <td>7297.000</td>\n",
       "    </tr>\n",
       "    <tr>\n",
       "      <th>4</th>\n",
       "      <td>ALB</td>\n",
       "      <td>2008</td>\n",
       "      <td>5</td>\n",
       "      <td>100</td>\n",
       "      <td>1132.700</td>\n",
       "      <td>7297.000</td>\n",
       "    </tr>\n",
       "  </tbody>\n",
       "</table>\n",
       "</div>"
      ],
      "text/plain": [
       "  country  year_survey  quantile  nb_quantiles   income   gdpppp\n",
       "0     ALB         2008         1           100  728.898 7297.000\n",
       "1     ALB         2008         2           100  916.662 7297.000\n",
       "2     ALB         2008         3           100 1010.916 7297.000\n",
       "3     ALB         2008         4           100 1086.908 7297.000\n",
       "4     ALB         2008         5           100 1132.700 7297.000"
      ]
     },
     "execution_count": 24,
     "metadata": {},
     "output_type": "execute_result"
    }
   ],
   "source": [
    "\n",
    "data_set_projet7.head()\n"
   ]
  },
  {
   "cell_type": "code",
   "execution_count": 25,
   "metadata": {},
   "outputs": [
    {
     "data": {
      "text/html": [
       "<div>\n",
       "<style scoped>\n",
       "    .dataframe tbody tr th:only-of-type {\n",
       "        vertical-align: middle;\n",
       "    }\n",
       "\n",
       "    .dataframe tbody tr th {\n",
       "        vertical-align: top;\n",
       "    }\n",
       "\n",
       "    .dataframe thead th {\n",
       "        text-align: right;\n",
       "    }\n",
       "</style>\n",
       "<table border=\"1\" class=\"dataframe\">\n",
       "  <thead>\n",
       "    <tr style=\"text-align: right;\">\n",
       "      <th></th>\n",
       "      <th>Country Code</th>\n",
       "      <th>Region</th>\n",
       "      <th>Income Groupe</th>\n",
       "      <th>Country Name</th>\n",
       "    </tr>\n",
       "  </thead>\n",
       "  <tbody>\n",
       "    <tr>\n",
       "      <th>0</th>\n",
       "      <td>ABW</td>\n",
       "      <td>Latin America &amp; Caribbean</td>\n",
       "      <td>High income</td>\n",
       "      <td>Aruba</td>\n",
       "    </tr>\n",
       "    <tr>\n",
       "      <th>1</th>\n",
       "      <td>AFG</td>\n",
       "      <td>South Asia</td>\n",
       "      <td>Low income</td>\n",
       "      <td>Afghanistan</td>\n",
       "    </tr>\n",
       "    <tr>\n",
       "      <th>2</th>\n",
       "      <td>AGO</td>\n",
       "      <td>Sub-Saharan Africa</td>\n",
       "      <td>Lower middle income</td>\n",
       "      <td>Angola</td>\n",
       "    </tr>\n",
       "    <tr>\n",
       "      <th>3</th>\n",
       "      <td>ALB</td>\n",
       "      <td>Europe &amp; Central Asia</td>\n",
       "      <td>Upper middle income</td>\n",
       "      <td>Albania</td>\n",
       "    </tr>\n",
       "    <tr>\n",
       "      <th>4</th>\n",
       "      <td>AND</td>\n",
       "      <td>Europe &amp; Central Asia</td>\n",
       "      <td>High income</td>\n",
       "      <td>Andorra</td>\n",
       "    </tr>\n",
       "  </tbody>\n",
       "</table>\n",
       "</div>"
      ],
      "text/plain": [
       "  Country Code                     Region        Income Groupe Country Name\n",
       "0          ABW  Latin America & Caribbean          High income        Aruba\n",
       "1          AFG                 South Asia           Low income  Afghanistan\n",
       "2          AGO         Sub-Saharan Africa  Lower middle income       Angola\n",
       "3          ALB      Europe & Central Asia  Upper middle income      Albania\n",
       "4          AND      Europe & Central Asia          High income      Andorra"
      ]
     },
     "execution_count": 25,
     "metadata": {},
     "output_type": "execute_result"
    }
   ],
   "source": [
    "\n",
    "data_set_info_pays.head()\n"
   ]
  },
  {
   "cell_type": "code",
   "execution_count": 26,
   "metadata": {},
   "outputs": [
    {
     "data": {
      "text/html": [
       "<div>\n",
       "<style scoped>\n",
       "    .dataframe tbody tr th:only-of-type {\n",
       "        vertical-align: middle;\n",
       "    }\n",
       "\n",
       "    .dataframe tbody tr th {\n",
       "        vertical-align: top;\n",
       "    }\n",
       "\n",
       "    .dataframe thead th {\n",
       "        text-align: right;\n",
       "    }\n",
       "</style>\n",
       "<table border=\"1\" class=\"dataframe\">\n",
       "  <thead>\n",
       "    <tr style=\"text-align: right;\">\n",
       "      <th></th>\n",
       "      <th>Country Name</th>\n",
       "      <th>Country Code</th>\n",
       "      <th>Indicator Name</th>\n",
       "      <th>Indicator Code</th>\n",
       "      <th>2004</th>\n",
       "      <th>2005</th>\n",
       "      <th>2006</th>\n",
       "      <th>2007</th>\n",
       "      <th>2008</th>\n",
       "      <th>2009</th>\n",
       "      <th>2010</th>\n",
       "      <th>2011</th>\n",
       "    </tr>\n",
       "  </thead>\n",
       "  <tbody>\n",
       "    <tr>\n",
       "      <th>0</th>\n",
       "      <td>Aruba</td>\n",
       "      <td>ABW</td>\n",
       "      <td>Population, total</td>\n",
       "      <td>SP.POP.TOTL</td>\n",
       "      <td>98737.000</td>\n",
       "      <td>100031.000</td>\n",
       "      <td>100834.000</td>\n",
       "      <td>101222.000</td>\n",
       "      <td>101358.000</td>\n",
       "      <td>101455.000</td>\n",
       "      <td>101669.000</td>\n",
       "      <td>102046.000</td>\n",
       "    </tr>\n",
       "    <tr>\n",
       "      <th>1</th>\n",
       "      <td>Afghanistan</td>\n",
       "      <td>AFG</td>\n",
       "      <td>Population, total</td>\n",
       "      <td>SP.POP.TOTL</td>\n",
       "      <td>24726684.000</td>\n",
       "      <td>25654277.000</td>\n",
       "      <td>26433049.000</td>\n",
       "      <td>27100536.000</td>\n",
       "      <td>27722276.000</td>\n",
       "      <td>28394813.000</td>\n",
       "      <td>29185507.000</td>\n",
       "      <td>30117413.000</td>\n",
       "    </tr>\n",
       "    <tr>\n",
       "      <th>2</th>\n",
       "      <td>Angola</td>\n",
       "      <td>AGO</td>\n",
       "      <td>Population, total</td>\n",
       "      <td>SP.POP.TOTL</td>\n",
       "      <td>18758145.000</td>\n",
       "      <td>19433602.000</td>\n",
       "      <td>20149901.000</td>\n",
       "      <td>20905363.000</td>\n",
       "      <td>21695634.000</td>\n",
       "      <td>22514281.000</td>\n",
       "      <td>23356246.000</td>\n",
       "      <td>24220661.000</td>\n",
       "    </tr>\n",
       "    <tr>\n",
       "      <th>3</th>\n",
       "      <td>Albania</td>\n",
       "      <td>ALB</td>\n",
       "      <td>Population, total</td>\n",
       "      <td>SP.POP.TOTL</td>\n",
       "      <td>3026939.000</td>\n",
       "      <td>3011487.000</td>\n",
       "      <td>2992547.000</td>\n",
       "      <td>2970017.000</td>\n",
       "      <td>2947314.000</td>\n",
       "      <td>2927519.000</td>\n",
       "      <td>2913021.000</td>\n",
       "      <td>2905195.000</td>\n",
       "    </tr>\n",
       "    <tr>\n",
       "      <th>4</th>\n",
       "      <td>Andorra</td>\n",
       "      <td>AND</td>\n",
       "      <td>Population, total</td>\n",
       "      <td>SP.POP.TOTL</td>\n",
       "      <td>76244.000</td>\n",
       "      <td>78867.000</td>\n",
       "      <td>80993.000</td>\n",
       "      <td>82684.000</td>\n",
       "      <td>83862.000</td>\n",
       "      <td>84463.000</td>\n",
       "      <td>84449.000</td>\n",
       "      <td>83747.000</td>\n",
       "    </tr>\n",
       "  </tbody>\n",
       "</table>\n",
       "</div>"
      ],
      "text/plain": [
       "  Country Name Country Code     Indicator Name Indicator Code         2004  \\\n",
       "0        Aruba          ABW  Population, total    SP.POP.TOTL    98737.000   \n",
       "1  Afghanistan          AFG  Population, total    SP.POP.TOTL 24726684.000   \n",
       "2       Angola          AGO  Population, total    SP.POP.TOTL 18758145.000   \n",
       "3      Albania          ALB  Population, total    SP.POP.TOTL  3026939.000   \n",
       "4      Andorra          AND  Population, total    SP.POP.TOTL    76244.000   \n",
       "\n",
       "          2005         2006         2007         2008         2009  \\\n",
       "0   100031.000   100834.000   101222.000   101358.000   101455.000   \n",
       "1 25654277.000 26433049.000 27100536.000 27722276.000 28394813.000   \n",
       "2 19433602.000 20149901.000 20905363.000 21695634.000 22514281.000   \n",
       "3  3011487.000  2992547.000  2970017.000  2947314.000  2927519.000   \n",
       "4    78867.000    80993.000    82684.000    83862.000    84463.000   \n",
       "\n",
       "          2010         2011  \n",
       "0   101669.000   102046.000  \n",
       "1 29185507.000 30117413.000  \n",
       "2 23356246.000 24220661.000  \n",
       "3  2913021.000  2905195.000  \n",
       "4    84449.000    83747.000  "
      ]
     },
     "execution_count": 26,
     "metadata": {},
     "output_type": "execute_result"
    }
   ],
   "source": [
    "\n",
    "data_set_population.head()\n"
   ]
  },
  {
   "cell_type": "code",
   "execution_count": 27,
   "metadata": {},
   "outputs": [
    {
     "data": {
      "image/png": "[encoded data removed]",
      "text/plain": [
       "<Figure size 1440x720 with 1 Axes>"
      ]
     },
     "metadata": {
      "needs_background": "light"
     },
     "output_type": "display_data"
    }
   ],
   "source": [
    "\n",
    "df_tempo = pd.pivot_table(data_set_projet7, index='year_survey', values='country', aggfunc='count')\n",
    "plt.figure(figsize=(20,10))\n",
    "plt.yticks(fontsize=15)\n",
    "plt.xticks(fontsize=15)\n",
    "plt.title(\"Projection du nombre d'observation par Années\", fontsize=20)\n",
    "plt.xlabel(\"Années observé\", fontsize=15)\n",
    "plt.ylabel(\"Nombre d'entrer\", fontsize=15)\n",
    "plt.bar(height=df_tempo.country,x=df_tempo.index)\n",
    "plt.savefig('./ImgFigure/Mn_1.png')\n",
    "\n",
    "plt.show()\n"
   ]
  },
  {
   "cell_type": "code",
   "execution_count": 28,
   "metadata": {},
   "outputs": [
    {
     "data": {
      "text/html": [
       "<div>\n",
       "<style scoped>\n",
       "    .dataframe tbody tr th:only-of-type {\n",
       "        vertical-align: middle;\n",
       "    }\n",
       "\n",
       "    .dataframe tbody tr th {\n",
       "        vertical-align: top;\n",
       "    }\n",
       "\n",
       "    .dataframe thead th {\n",
       "        text-align: right;\n",
       "    }\n",
       "</style>\n",
       "<table border=\"1\" class=\"dataframe\">\n",
       "  <thead>\n",
       "    <tr style=\"text-align: right;\">\n",
       "      <th></th>\n",
       "      <th>country</th>\n",
       "    </tr>\n",
       "    <tr>\n",
       "      <th>year_survey</th>\n",
       "      <th></th>\n",
       "    </tr>\n",
       "  </thead>\n",
       "  <tbody>\n",
       "    <tr>\n",
       "      <th>2004</th>\n",
       "      <td>100</td>\n",
       "    </tr>\n",
       "    <tr>\n",
       "      <th>2006</th>\n",
       "      <td>500</td>\n",
       "    </tr>\n",
       "    <tr>\n",
       "      <th>2007</th>\n",
       "      <td>1500</td>\n",
       "    </tr>\n",
       "    <tr>\n",
       "      <th>2008</th>\n",
       "      <td>7599</td>\n",
       "    </tr>\n",
       "    <tr>\n",
       "      <th>2009</th>\n",
       "      <td>1200</td>\n",
       "    </tr>\n",
       "    <tr>\n",
       "      <th>2010</th>\n",
       "      <td>600</td>\n",
       "    </tr>\n",
       "    <tr>\n",
       "      <th>2011</th>\n",
       "      <td>100</td>\n",
       "    </tr>\n",
       "  </tbody>\n",
       "</table>\n",
       "</div>"
      ],
      "text/plain": [
       "             country\n",
       "year_survey         \n",
       "2004             100\n",
       "2006             500\n",
       "2007            1500\n",
       "2008            7599\n",
       "2009            1200\n",
       "2010             600\n",
       "2011             100"
      ]
     },
     "execution_count": 28,
     "metadata": {},
     "output_type": "execute_result"
    }
   ],
   "source": [
    "\n",
    "df_tempo\n"
   ]
  },
  {
   "cell_type": "markdown",
   "metadata": {},
   "source": [
    "La periode la plus propisse a notre etude semble etre 2008, en effet dans cette region nous avons environs 75 pays a etudier, alors que les autres n'en regroupe que quelque uns. Nous nous concentrerons donc sur cette partie pour notre etude."
   ]
  },
  {
   "cell_type": "code",
   "execution_count": 29,
   "metadata": {},
   "outputs": [],
   "source": [
    "\n",
    "data_set_projet7 = data_set_projet7.drop(index=data_set_projet7[~data_set_projet7['year_survey'].isin(['2008'])].index)\n"
   ]
  },
  {
   "cell_type": "code",
   "execution_count": 30,
   "metadata": {},
   "outputs": [],
   "source": [
    "\n",
    "data_set_population = data_set_population.drop(columns=['Indicator Name', 'Indicator Code',\n",
    "       '2004', '2005', '2006', '2007', '2009', '2010', '2011'])\n"
   ]
  },
  {
   "cell_type": "markdown",
   "metadata": {},
   "source": [
    "Nous allons maintenant verifier que tout nos set est les même pays. Nous prendrons les pays present en prioriter dans le dataframe data_set_projet7, qui est celui que nous utiliserons plus en details par la suite."
   ]
  },
  {
   "cell_type": "code",
   "execution_count": 31,
   "metadata": {},
   "outputs": [],
   "source": [
    "\n",
    "countryKepped = data_set_projet7.country.unique()\n"
   ]
  },
  {
   "cell_type": "code",
   "execution_count": 32,
   "metadata": {},
   "outputs": [],
   "source": [
    "\n",
    "data_set_population = data_set_population.drop(index = data_set_population[~data_set_population['Country Code'].isin(countryKepped)].index)\n",
    "data_set_info_pays = data_set_info_pays.drop(index = data_set_info_pays[~data_set_info_pays['Country Code'].isin(countryKepped)].index)\n",
    "\n",
    "data_set_population = data_set_population.reset_index()\n",
    "data_set_info_pays = data_set_info_pays.reset_index()\n",
    "data_set_population = data_set_population.drop(columns='index')\n",
    "data_set_info_pays = data_set_info_pays.drop(columns='index')\n"
   ]
  },
  {
   "cell_type": "markdown",
   "metadata": {},
   "source": [
    "Nos tableau on donc pour le moment un peu changer\n"
   ]
  },
  {
   "cell_type": "code",
   "execution_count": 33,
   "metadata": {},
   "outputs": [
    {
     "data": {
      "text/html": [
       "<div>\n",
       "<style scoped>\n",
       "    .dataframe tbody tr th:only-of-type {\n",
       "        vertical-align: middle;\n",
       "    }\n",
       "\n",
       "    .dataframe tbody tr th {\n",
       "        vertical-align: top;\n",
       "    }\n",
       "\n",
       "    .dataframe thead th {\n",
       "        text-align: right;\n",
       "    }\n",
       "</style>\n",
       "<table border=\"1\" class=\"dataframe\">\n",
       "  <thead>\n",
       "    <tr style=\"text-align: right;\">\n",
       "      <th></th>\n",
       "      <th>country</th>\n",
       "      <th>year_survey</th>\n",
       "      <th>quantile</th>\n",
       "      <th>nb_quantiles</th>\n",
       "      <th>income</th>\n",
       "      <th>gdpppp</th>\n",
       "    </tr>\n",
       "  </thead>\n",
       "  <tbody>\n",
       "    <tr>\n",
       "      <th>0</th>\n",
       "      <td>ALB</td>\n",
       "      <td>2008</td>\n",
       "      <td>1</td>\n",
       "      <td>100</td>\n",
       "      <td>728.898</td>\n",
       "      <td>7297.000</td>\n",
       "    </tr>\n",
       "    <tr>\n",
       "      <th>1</th>\n",
       "      <td>ALB</td>\n",
       "      <td>2008</td>\n",
       "      <td>2</td>\n",
       "      <td>100</td>\n",
       "      <td>916.662</td>\n",
       "      <td>7297.000</td>\n",
       "    </tr>\n",
       "    <tr>\n",
       "      <th>2</th>\n",
       "      <td>ALB</td>\n",
       "      <td>2008</td>\n",
       "      <td>3</td>\n",
       "      <td>100</td>\n",
       "      <td>1010.916</td>\n",
       "      <td>7297.000</td>\n",
       "    </tr>\n",
       "    <tr>\n",
       "      <th>3</th>\n",
       "      <td>ALB</td>\n",
       "      <td>2008</td>\n",
       "      <td>4</td>\n",
       "      <td>100</td>\n",
       "      <td>1086.908</td>\n",
       "      <td>7297.000</td>\n",
       "    </tr>\n",
       "    <tr>\n",
       "      <th>4</th>\n",
       "      <td>ALB</td>\n",
       "      <td>2008</td>\n",
       "      <td>5</td>\n",
       "      <td>100</td>\n",
       "      <td>1132.700</td>\n",
       "      <td>7297.000</td>\n",
       "    </tr>\n",
       "  </tbody>\n",
       "</table>\n",
       "</div>"
      ],
      "text/plain": [
       "  country  year_survey  quantile  nb_quantiles   income   gdpppp\n",
       "0     ALB         2008         1           100  728.898 7297.000\n",
       "1     ALB         2008         2           100  916.662 7297.000\n",
       "2     ALB         2008         3           100 1010.916 7297.000\n",
       "3     ALB         2008         4           100 1086.908 7297.000\n",
       "4     ALB         2008         5           100 1132.700 7297.000"
      ]
     },
     "execution_count": 33,
     "metadata": {},
     "output_type": "execute_result"
    }
   ],
   "source": [
    "\n",
    "data_set_projet7.head()\n"
   ]
  },
  {
   "cell_type": "code",
   "execution_count": 34,
   "metadata": {},
   "outputs": [
    {
     "data": {
      "text/html": [
       "<div>\n",
       "<style scoped>\n",
       "    .dataframe tbody tr th:only-of-type {\n",
       "        vertical-align: middle;\n",
       "    }\n",
       "\n",
       "    .dataframe tbody tr th {\n",
       "        vertical-align: top;\n",
       "    }\n",
       "\n",
       "    .dataframe thead th {\n",
       "        text-align: right;\n",
       "    }\n",
       "</style>\n",
       "<table border=\"1\" class=\"dataframe\">\n",
       "  <thead>\n",
       "    <tr style=\"text-align: right;\">\n",
       "      <th></th>\n",
       "      <th>Country Code</th>\n",
       "      <th>Region</th>\n",
       "      <th>Income Groupe</th>\n",
       "      <th>Country Name</th>\n",
       "    </tr>\n",
       "  </thead>\n",
       "  <tbody>\n",
       "    <tr>\n",
       "      <th>0</th>\n",
       "      <td>ALB</td>\n",
       "      <td>Europe &amp; Central Asia</td>\n",
       "      <td>Upper middle income</td>\n",
       "      <td>Albania</td>\n",
       "    </tr>\n",
       "    <tr>\n",
       "      <th>1</th>\n",
       "      <td>ARG</td>\n",
       "      <td>Latin America &amp; Caribbean</td>\n",
       "      <td>Upper middle income</td>\n",
       "      <td>Argentina</td>\n",
       "    </tr>\n",
       "    <tr>\n",
       "      <th>2</th>\n",
       "      <td>ARM</td>\n",
       "      <td>Europe &amp; Central Asia</td>\n",
       "      <td>Upper middle income</td>\n",
       "      <td>Armenia</td>\n",
       "    </tr>\n",
       "    <tr>\n",
       "      <th>3</th>\n",
       "      <td>AUT</td>\n",
       "      <td>Europe &amp; Central Asia</td>\n",
       "      <td>High income</td>\n",
       "      <td>Austria</td>\n",
       "    </tr>\n",
       "    <tr>\n",
       "      <th>4</th>\n",
       "      <td>AZE</td>\n",
       "      <td>Europe &amp; Central Asia</td>\n",
       "      <td>Upper middle income</td>\n",
       "      <td>Azerbaijan</td>\n",
       "    </tr>\n",
       "  </tbody>\n",
       "</table>\n",
       "</div>"
      ],
      "text/plain": [
       "  Country Code                     Region        Income Groupe Country Name\n",
       "0          ALB      Europe & Central Asia  Upper middle income      Albania\n",
       "1          ARG  Latin America & Caribbean  Upper middle income    Argentina\n",
       "2          ARM      Europe & Central Asia  Upper middle income      Armenia\n",
       "3          AUT      Europe & Central Asia          High income      Austria\n",
       "4          AZE      Europe & Central Asia  Upper middle income   Azerbaijan"
      ]
     },
     "execution_count": 34,
     "metadata": {},
     "output_type": "execute_result"
    }
   ],
   "source": [
    "\n",
    "data_set_info_pays.head()\n"
   ]
  },
  {
   "cell_type": "code",
   "execution_count": 35,
   "metadata": {},
   "outputs": [
    {
     "data": {
      "text/html": [
       "<div>\n",
       "<style scoped>\n",
       "    .dataframe tbody tr th:only-of-type {\n",
       "        vertical-align: middle;\n",
       "    }\n",
       "\n",
       "    .dataframe tbody tr th {\n",
       "        vertical-align: top;\n",
       "    }\n",
       "\n",
       "    .dataframe thead th {\n",
       "        text-align: right;\n",
       "    }\n",
       "</style>\n",
       "<table border=\"1\" class=\"dataframe\">\n",
       "  <thead>\n",
       "    <tr style=\"text-align: right;\">\n",
       "      <th></th>\n",
       "      <th>Country Name</th>\n",
       "      <th>Country Code</th>\n",
       "      <th>2008</th>\n",
       "    </tr>\n",
       "  </thead>\n",
       "  <tbody>\n",
       "    <tr>\n",
       "      <th>0</th>\n",
       "      <td>Albania</td>\n",
       "      <td>ALB</td>\n",
       "      <td>2947314.000</td>\n",
       "    </tr>\n",
       "    <tr>\n",
       "      <th>1</th>\n",
       "      <td>Argentina</td>\n",
       "      <td>ARG</td>\n",
       "      <td>40080160.000</td>\n",
       "    </tr>\n",
       "    <tr>\n",
       "      <th>2</th>\n",
       "      <td>Armenia</td>\n",
       "      <td>ARM</td>\n",
       "      <td>2907618.000</td>\n",
       "    </tr>\n",
       "    <tr>\n",
       "      <th>3</th>\n",
       "      <td>Austria</td>\n",
       "      <td>AUT</td>\n",
       "      <td>8321496.000</td>\n",
       "    </tr>\n",
       "    <tr>\n",
       "      <th>4</th>\n",
       "      <td>Azerbaijan</td>\n",
       "      <td>AZE</td>\n",
       "      <td>8763400.000</td>\n",
       "    </tr>\n",
       "  </tbody>\n",
       "</table>\n",
       "</div>"
      ],
      "text/plain": [
       "  Country Name Country Code         2008\n",
       "0      Albania          ALB  2947314.000\n",
       "1    Argentina          ARG 40080160.000\n",
       "2      Armenia          ARM  2907618.000\n",
       "3      Austria          AUT  8321496.000\n",
       "4   Azerbaijan          AZE  8763400.000"
      ]
     },
     "execution_count": 35,
     "metadata": {},
     "output_type": "execute_result"
    }
   ],
   "source": [
    "\n",
    "data_set_population.head()\n"
   ]
  },
  {
   "cell_type": "markdown",
   "metadata": {},
   "source": [
    "Nous allons a present, mettre en forme nos tableau"
   ]
  },
  {
   "cell_type": "code",
   "execution_count": 36,
   "metadata": {},
   "outputs": [],
   "source": [
    "\n",
    "data_set_population.columns = ['Country Name','Country Code','Population']\n",
    "\n",
    "df_final_info = pd.merge(right=data_set_info_pays,\n",
    "                   left=data_set_population, \n",
    "                   right_on = ['Country Name','Country Code'], \n",
    "                   left_on = ['Country Name','Country Code'], \n",
    "                   how='left')\n",
    "\n"
   ]
  },
  {
   "cell_type": "code",
   "execution_count": 37,
   "metadata": {},
   "outputs": [
    {
     "data": {
      "text/plain": [
       "Country Name     0\n",
       "Country Code     0\n",
       "Population       0\n",
       "Region           1\n",
       "Income Groupe    1\n",
       "dtype: int64"
      ]
     },
     "execution_count": 37,
     "metadata": {},
     "output_type": "execute_result"
    }
   ],
   "source": [
    "\n",
    "df_final_info.isna().sum()\n"
   ]
  },
  {
   "cell_type": "code",
   "execution_count": 38,
   "metadata": {},
   "outputs": [
    {
     "data": {
      "text/plain": [
       "array(['Europe & Central Asia', 'Latin America & Caribbean',\n",
       "       'Sub-Saharan Africa', 'North America', nan, 'East Asia & Pacific',\n",
       "       'Middle East & North Africa', 'South Asia'], dtype=object)"
      ]
     },
     "execution_count": 38,
     "metadata": {},
     "output_type": "execute_result"
    }
   ],
   "source": [
    "\n",
    "df_final_info.Region.unique()\n"
   ]
  },
  {
   "cell_type": "code",
   "execution_count": 39,
   "metadata": {},
   "outputs": [
    {
     "data": {
      "text/html": [
       "<div>\n",
       "<style scoped>\n",
       "    .dataframe tbody tr th:only-of-type {\n",
       "        vertical-align: middle;\n",
       "    }\n",
       "\n",
       "    .dataframe tbody tr th {\n",
       "        vertical-align: top;\n",
       "    }\n",
       "\n",
       "    .dataframe thead th {\n",
       "        text-align: right;\n",
       "    }\n",
       "</style>\n",
       "<table border=\"1\" class=\"dataframe\">\n",
       "  <thead>\n",
       "    <tr style=\"text-align: right;\">\n",
       "      <th></th>\n",
       "      <th>Country Name</th>\n",
       "      <th>Country Code</th>\n",
       "      <th>Population</th>\n",
       "      <th>Region</th>\n",
       "      <th>Income Groupe</th>\n",
       "    </tr>\n",
       "  </thead>\n",
       "  <tbody>\n",
       "    <tr>\n",
       "      <th>10</th>\n",
       "      <td>Central African Republic</td>\n",
       "      <td>CAF</td>\n",
       "      <td>4273366.000</td>\n",
       "      <td>Sub-Saharan Africa</td>\n",
       "      <td>Low income</td>\n",
       "    </tr>\n",
       "    <tr>\n",
       "      <th>13</th>\n",
       "      <td>Congo, Dem. Rep.</td>\n",
       "      <td>COD</td>\n",
       "      <td>60411195.000</td>\n",
       "      <td>Sub-Saharan Africa</td>\n",
       "      <td>Low income</td>\n",
       "    </tr>\n",
       "    <tr>\n",
       "      <th>52</th>\n",
       "      <td>Mozambique</td>\n",
       "      <td>MOZ</td>\n",
       "      <td>22276596.000</td>\n",
       "      <td>Sub-Saharan Africa</td>\n",
       "      <td>Low income</td>\n",
       "    </tr>\n",
       "    <tr>\n",
       "      <th>53</th>\n",
       "      <td>Mauritania</td>\n",
       "      <td>MRT</td>\n",
       "      <td>3296238.000</td>\n",
       "      <td>Sub-Saharan Africa</td>\n",
       "      <td>Lower middle income</td>\n",
       "    </tr>\n",
       "    <tr>\n",
       "      <th>74</th>\n",
       "      <td>South Africa</td>\n",
       "      <td>ZAF</td>\n",
       "      <td>49779471.000</td>\n",
       "      <td>Sub-Saharan Africa</td>\n",
       "      <td>Upper middle income</td>\n",
       "    </tr>\n",
       "  </tbody>\n",
       "</table>\n",
       "</div>"
      ],
      "text/plain": [
       "                Country Name Country Code   Population              Region  \\\n",
       "10  Central African Republic          CAF  4273366.000  Sub-Saharan Africa   \n",
       "13          Congo, Dem. Rep.          COD 60411195.000  Sub-Saharan Africa   \n",
       "52                Mozambique          MOZ 22276596.000  Sub-Saharan Africa   \n",
       "53                Mauritania          MRT  3296238.000  Sub-Saharan Africa   \n",
       "74              South Africa          ZAF 49779471.000  Sub-Saharan Africa   \n",
       "\n",
       "          Income Groupe  \n",
       "10           Low income  \n",
       "13           Low income  \n",
       "52           Low income  \n",
       "53  Lower middle income  \n",
       "74  Upper middle income  "
      ]
     },
     "execution_count": 39,
     "metadata": {},
     "output_type": "execute_result"
    }
   ],
   "source": [
    "\n",
    "df_final_info[df_final_info.Region == 'Sub-Saharan Africa']\n"
   ]
  },
  {
   "cell_type": "code",
   "execution_count": 40,
   "metadata": {},
   "outputs": [
    {
     "data": {
      "text/html": [
       "<div>\n",
       "<style scoped>\n",
       "    .dataframe tbody tr th:only-of-type {\n",
       "        vertical-align: middle;\n",
       "    }\n",
       "\n",
       "    .dataframe tbody tr th {\n",
       "        vertical-align: top;\n",
       "    }\n",
       "\n",
       "    .dataframe thead th {\n",
       "        text-align: right;\n",
       "    }\n",
       "</style>\n",
       "<table border=\"1\" class=\"dataframe\">\n",
       "  <thead>\n",
       "    <tr style=\"text-align: right;\">\n",
       "      <th></th>\n",
       "      <th>Country Name</th>\n",
       "      <th>Country Code</th>\n",
       "      <th>Population</th>\n",
       "      <th>Region</th>\n",
       "      <th>Income Groupe</th>\n",
       "    </tr>\n",
       "  </thead>\n",
       "  <tbody>\n",
       "    <tr>\n",
       "      <th>12</th>\n",
       "      <td>Cote d'Ivoire</td>\n",
       "      <td>CIV</td>\n",
       "      <td>19605569.000</td>\n",
       "      <td>NaN</td>\n",
       "      <td>NaN</td>\n",
       "    </tr>\n",
       "  </tbody>\n",
       "</table>\n",
       "</div>"
      ],
      "text/plain": [
       "     Country Name Country Code   Population Region Income Groupe\n",
       "12  Cote d'Ivoire          CIV 19605569.000    NaN           NaN"
      ]
     },
     "execution_count": 40,
     "metadata": {},
     "output_type": "execute_result"
    }
   ],
   "source": [
    "\n",
    "df_final_info[df_final_info.Region.isna()]\n"
   ]
  },
  {
   "cell_type": "code",
   "execution_count": 41,
   "metadata": {},
   "outputs": [],
   "source": [
    "\n",
    "df_final_info.loc[12,'Region'] = 'Sub-Saharan Africa'\n",
    "df_final_info.loc[12,'Income Groupe'] = 'Lower middle income'\n"
   ]
  },
  {
   "cell_type": "markdown",
   "metadata": {},
   "source": [
    "Nous avons completez ces donnez grace au information disponible sur le site de la banque mondiale."
   ]
  },
  {
   "cell_type": "code",
   "execution_count": 42,
   "metadata": {},
   "outputs": [],
   "source": [
    "\n",
    "#Calcule des indices de gini pour chaque pays. \n",
    "for i,row in enumerate(df_final_info.values) :\n",
    "    tri ='income'\n",
    "\n",
    "    a = data_set_projet7[data_set_projet7['country'] == row[1]].copy()\n",
    "    a = a.sort_values(by=tri)\n",
    "    a = a.reset_index()\n",
    "    a = a.drop(columns='index')\n",
    "\n",
    "    df_final_info.loc[i,'Gini'] = f.FctGini(a, tri)\n",
    "    "
   ]
  },
  {
   "cell_type": "markdown",
   "metadata": {},
   "source": [
    "Nous allons ajouter une colone pour le salaire moyen par pays"
   ]
  },
  {
   "cell_type": "code",
   "execution_count": 43,
   "metadata": {},
   "outputs": [],
   "source": [
    "\n",
    "df_incomeMedianreview = data_set_projet7.pivot_table(values=['gdpppp'], index='country', aggfunc=np.median)\n",
    "df_final_info = pd.merge(right=df_incomeMedianreview, right_on=['country'], left=df_final_info, left_on=['Country Code'], how='left')\n"
   ]
  },
  {
   "cell_type": "code",
   "execution_count": 44,
   "metadata": {},
   "outputs": [],
   "source": [
    "\n",
    "df_final_info.columns = ['Country_Name','Country_Code','Population','Region','Income_Groupe','Gini','gdpppp']\n"
   ]
  },
  {
   "cell_type": "code",
   "execution_count": 45,
   "metadata": {},
   "outputs": [
    {
     "data": {
      "text/html": [
       "<div>\n",
       "<style scoped>\n",
       "    .dataframe tbody tr th:only-of-type {\n",
       "        vertical-align: middle;\n",
       "    }\n",
       "\n",
       "    .dataframe tbody tr th {\n",
       "        vertical-align: top;\n",
       "    }\n",
       "\n",
       "    .dataframe thead th {\n",
       "        text-align: right;\n",
       "    }\n",
       "</style>\n",
       "<table border=\"1\" class=\"dataframe\">\n",
       "  <thead>\n",
       "    <tr style=\"text-align: right;\">\n",
       "      <th></th>\n",
       "      <th>Country_Name</th>\n",
       "      <th>Country_Code</th>\n",
       "      <th>Population</th>\n",
       "      <th>Region</th>\n",
       "      <th>Income_Groupe</th>\n",
       "      <th>Gini</th>\n",
       "      <th>gdpppp</th>\n",
       "    </tr>\n",
       "  </thead>\n",
       "  <tbody>\n",
       "    <tr>\n",
       "      <th>0</th>\n",
       "      <td>Albania</td>\n",
       "      <td>ALB</td>\n",
       "      <td>2947314.000</td>\n",
       "      <td>Europe &amp; Central Asia</td>\n",
       "      <td>Upper middle income</td>\n",
       "      <td>32.141</td>\n",
       "      <td>7297.000</td>\n",
       "    </tr>\n",
       "    <tr>\n",
       "      <th>1</th>\n",
       "      <td>Argentina</td>\n",
       "      <td>ARG</td>\n",
       "      <td>40080160.000</td>\n",
       "      <td>Latin America &amp; Caribbean</td>\n",
       "      <td>Upper middle income</td>\n",
       "      <td>46.525</td>\n",
       "      <td>13220.000</td>\n",
       "    </tr>\n",
       "    <tr>\n",
       "      <th>2</th>\n",
       "      <td>Armenia</td>\n",
       "      <td>ARM</td>\n",
       "      <td>2907618.000</td>\n",
       "      <td>Europe &amp; Central Asia</td>\n",
       "      <td>Upper middle income</td>\n",
       "      <td>28.030</td>\n",
       "      <td>5611.000</td>\n",
       "    </tr>\n",
       "    <tr>\n",
       "      <th>3</th>\n",
       "      <td>Austria</td>\n",
       "      <td>AUT</td>\n",
       "      <td>8321496.000</td>\n",
       "      <td>Europe &amp; Central Asia</td>\n",
       "      <td>High income</td>\n",
       "      <td>29.533</td>\n",
       "      <td>36193.000</td>\n",
       "    </tr>\n",
       "    <tr>\n",
       "      <th>4</th>\n",
       "      <td>Azerbaijan</td>\n",
       "      <td>AZE</td>\n",
       "      <td>8763400.000</td>\n",
       "      <td>Europe &amp; Central Asia</td>\n",
       "      <td>Upper middle income</td>\n",
       "      <td>32.903</td>\n",
       "      <td>8101.000</td>\n",
       "    </tr>\n",
       "  </tbody>\n",
       "</table>\n",
       "</div>"
      ],
      "text/plain": [
       "  Country_Name Country_Code   Population                     Region  \\\n",
       "0      Albania          ALB  2947314.000      Europe & Central Asia   \n",
       "1    Argentina          ARG 40080160.000  Latin America & Caribbean   \n",
       "2      Armenia          ARM  2907618.000      Europe & Central Asia   \n",
       "3      Austria          AUT  8321496.000      Europe & Central Asia   \n",
       "4   Azerbaijan          AZE  8763400.000      Europe & Central Asia   \n",
       "\n",
       "         Income_Groupe   Gini    gdpppp  \n",
       "0  Upper middle income 32.141  7297.000  \n",
       "1  Upper middle income 46.525 13220.000  \n",
       "2  Upper middle income 28.030  5611.000  \n",
       "3          High income 29.533 36193.000  \n",
       "4  Upper middle income 32.903  8101.000  "
      ]
     },
     "execution_count": 45,
     "metadata": {},
     "output_type": "execute_result"
    }
   ],
   "source": [
    "\n",
    "df_final_info.head()\n"
   ]
  },
  {
   "cell_type": "code",
   "execution_count": 46,
   "metadata": {},
   "outputs": [
    {
     "data": {
      "text/html": [
       "<div>\n",
       "<style scoped>\n",
       "    .dataframe tbody tr th:only-of-type {\n",
       "        vertical-align: middle;\n",
       "    }\n",
       "\n",
       "    .dataframe tbody tr th {\n",
       "        vertical-align: top;\n",
       "    }\n",
       "\n",
       "    .dataframe thead th {\n",
       "        text-align: right;\n",
       "    }\n",
       "</style>\n",
       "<table border=\"1\" class=\"dataframe\">\n",
       "  <thead>\n",
       "    <tr style=\"text-align: right;\">\n",
       "      <th></th>\n",
       "      <th>country</th>\n",
       "      <th>year_survey</th>\n",
       "      <th>quantile</th>\n",
       "      <th>nb_quantiles</th>\n",
       "      <th>income</th>\n",
       "      <th>gdpppp</th>\n",
       "    </tr>\n",
       "  </thead>\n",
       "  <tbody>\n",
       "    <tr>\n",
       "      <th>0</th>\n",
       "      <td>ALB</td>\n",
       "      <td>2008</td>\n",
       "      <td>1</td>\n",
       "      <td>100</td>\n",
       "      <td>728.898</td>\n",
       "      <td>7297.000</td>\n",
       "    </tr>\n",
       "    <tr>\n",
       "      <th>1</th>\n",
       "      <td>ALB</td>\n",
       "      <td>2008</td>\n",
       "      <td>2</td>\n",
       "      <td>100</td>\n",
       "      <td>916.662</td>\n",
       "      <td>7297.000</td>\n",
       "    </tr>\n",
       "    <tr>\n",
       "      <th>2</th>\n",
       "      <td>ALB</td>\n",
       "      <td>2008</td>\n",
       "      <td>3</td>\n",
       "      <td>100</td>\n",
       "      <td>1010.916</td>\n",
       "      <td>7297.000</td>\n",
       "    </tr>\n",
       "    <tr>\n",
       "      <th>3</th>\n",
       "      <td>ALB</td>\n",
       "      <td>2008</td>\n",
       "      <td>4</td>\n",
       "      <td>100</td>\n",
       "      <td>1086.908</td>\n",
       "      <td>7297.000</td>\n",
       "    </tr>\n",
       "    <tr>\n",
       "      <th>4</th>\n",
       "      <td>ALB</td>\n",
       "      <td>2008</td>\n",
       "      <td>5</td>\n",
       "      <td>100</td>\n",
       "      <td>1132.700</td>\n",
       "      <td>7297.000</td>\n",
       "    </tr>\n",
       "  </tbody>\n",
       "</table>\n",
       "</div>"
      ],
      "text/plain": [
       "  country  year_survey  quantile  nb_quantiles   income   gdpppp\n",
       "0     ALB         2008         1           100  728.898 7297.000\n",
       "1     ALB         2008         2           100  916.662 7297.000\n",
       "2     ALB         2008         3           100 1010.916 7297.000\n",
       "3     ALB         2008         4           100 1086.908 7297.000\n",
       "4     ALB         2008         5           100 1132.700 7297.000"
      ]
     },
     "execution_count": 46,
     "metadata": {},
     "output_type": "execute_result"
    }
   ],
   "source": [
    "\n",
    "data_set_projet7.head()\n"
   ]
  },
  {
   "cell_type": "code",
   "execution_count": 47,
   "metadata": {},
   "outputs": [],
   "source": [
    "\n",
    "#Nous avons exporté nos données pour pouvoir les réutiliser.\n",
    "df_final_info.to_csv('data/clean/set_infoGeneral.csv',index=False)\n",
    "data_set_projet7.to_csv('data/clean/set_dataProjet7.csv',index=False)\n"
   ]
  },
  {
   "cell_type": "markdown",
   "metadata": {},
   "source": [
    "# Mission 1\n",
    "\n",
    "Durant cette mission nous allons explorer les deux dataframe afin de trouver des information qui pourrait etre interressante.\n",
    "\n",
    "Nous allons dans un premier temps résumez les données utilisées en repondant a des questions comme :\n",
    "\n",
    "    Année(s) des données utilisées\n",
    "    Nombre de pays présents\n",
    "    Population couverte par l'analyse (en termes de pourcentage de la population mondiale)\n",
    "\n",
    "Nous allons par la suite debattre rapidement de la forme des données precise de chaque pays par le biais ici aussi de quelque petit question comme, \n",
    "\n",
    "    De quel type de quantiles s'agit-il (quartiles, déciles, etc.) ?\n",
    "    Échantillonner une population en utilisant des quantiles est-il selon vous une bonne méthode ? Pourquoi ?\n",
    "\n",
    "_Nous appellerons ici chaque quantile une classe de revenu.\n",
    "Ainsi, la valeur de la colonne income pour un quantile donné peut être vu comme le revenu moyen des personnes appartenant à la classe de revenu correspondante à ce quantile._\n",
    "\n",
    "L'unité utilisée dans la colonne income de la world income distribution est le $PPP. Nous expliquerons brievement comment cette dernier fonctionne."
   ]
  },
  {
   "cell_type": "code",
   "execution_count": 48,
   "metadata": {},
   "outputs": [],
   "source": [
    "\n",
    "df_projet7 = pd.read_csv(\"data/clean/set_dataProjet7.csv\")\n",
    "df_info = pd.read_csv(\"data/clean/set_infoGeneral.csv\")\n"
   ]
  },
  {
   "cell_type": "code",
   "execution_count": 49,
   "metadata": {},
   "outputs": [
    {
     "data": {
      "text/plain": [
       "array([2008])"
      ]
     },
     "execution_count": 49,
     "metadata": {},
     "output_type": "execute_result"
    }
   ],
   "source": [
    "\n",
    "df_projet7.year_survey.unique()\n"
   ]
  },
  {
   "cell_type": "code",
   "execution_count": 50,
   "metadata": {},
   "outputs": [
    {
     "data": {
      "text/plain": [
       "76"
      ]
     },
     "execution_count": 50,
     "metadata": {},
     "output_type": "execute_result"
    }
   ],
   "source": [
    "\n",
    "len(df_projet7.country.unique())\n"
   ]
  },
  {
   "cell_type": "markdown",
   "metadata": {},
   "source": [
    "\n",
    "D'apres la world bank (https://donnees.banquemondiale.org/indicateur/sp.pop.totl?end=2018&start=2008) la population mondiale en 2008 etait de 6,758 milliard de personnes.\n"
   ]
  },
  {
   "cell_type": "code",
   "execution_count": 51,
   "metadata": {},
   "outputs": [
    {
     "data": {
      "text/plain": [
       "34.098"
      ]
     },
     "execution_count": 51,
     "metadata": {},
     "output_type": "execute_result"
    }
   ],
   "source": [
    "\n",
    "population_etudier = df_info.Population.sum()\n",
    "\n",
    "population_total = 6758000000\n",
    "\n",
    "pourcentage_etudier = ( population_etudier * 100 ) / population_total\n",
    "pourcentage_etudier.round(3)\n"
   ]
  },
  {
   "cell_type": "markdown",
   "metadata": {},
   "source": [
    "Réponse au questions :\n",
    "\n",
    "Nous allons ici étudier 76 pays differents, durant l'années de 2008. \n",
    "Nous etudions donc ici environs 34% de la populaiton mondiale de 2008\n",
    "\n"
   ]
  },
  {
   "cell_type": "code",
   "execution_count": 52,
   "metadata": {},
   "outputs": [
    {
     "data": {
      "text/html": [
       "<div>\n",
       "<style scoped>\n",
       "    .dataframe tbody tr th:only-of-type {\n",
       "        vertical-align: middle;\n",
       "    }\n",
       "\n",
       "    .dataframe tbody tr th {\n",
       "        vertical-align: top;\n",
       "    }\n",
       "\n",
       "    .dataframe thead th {\n",
       "        text-align: right;\n",
       "    }\n",
       "</style>\n",
       "<table border=\"1\" class=\"dataframe\">\n",
       "  <thead>\n",
       "    <tr style=\"text-align: right;\">\n",
       "      <th></th>\n",
       "      <th>country</th>\n",
       "      <th>year_survey</th>\n",
       "      <th>quantile</th>\n",
       "      <th>nb_quantiles</th>\n",
       "      <th>income</th>\n",
       "      <th>gdpppp</th>\n",
       "    </tr>\n",
       "  </thead>\n",
       "  <tbody>\n",
       "    <tr>\n",
       "      <th>0</th>\n",
       "      <td>ALB</td>\n",
       "      <td>2008</td>\n",
       "      <td>1</td>\n",
       "      <td>100</td>\n",
       "      <td>728.898</td>\n",
       "      <td>7297.000</td>\n",
       "    </tr>\n",
       "    <tr>\n",
       "      <th>1</th>\n",
       "      <td>ALB</td>\n",
       "      <td>2008</td>\n",
       "      <td>2</td>\n",
       "      <td>100</td>\n",
       "      <td>916.662</td>\n",
       "      <td>7297.000</td>\n",
       "    </tr>\n",
       "    <tr>\n",
       "      <th>2</th>\n",
       "      <td>ALB</td>\n",
       "      <td>2008</td>\n",
       "      <td>3</td>\n",
       "      <td>100</td>\n",
       "      <td>1010.916</td>\n",
       "      <td>7297.000</td>\n",
       "    </tr>\n",
       "    <tr>\n",
       "      <th>3</th>\n",
       "      <td>ALB</td>\n",
       "      <td>2008</td>\n",
       "      <td>4</td>\n",
       "      <td>100</td>\n",
       "      <td>1086.908</td>\n",
       "      <td>7297.000</td>\n",
       "    </tr>\n",
       "    <tr>\n",
       "      <th>4</th>\n",
       "      <td>ALB</td>\n",
       "      <td>2008</td>\n",
       "      <td>5</td>\n",
       "      <td>100</td>\n",
       "      <td>1132.700</td>\n",
       "      <td>7297.000</td>\n",
       "    </tr>\n",
       "  </tbody>\n",
       "</table>\n",
       "</div>"
      ],
      "text/plain": [
       "  country  year_survey  quantile  nb_quantiles   income   gdpppp\n",
       "0     ALB         2008         1           100  728.898 7297.000\n",
       "1     ALB         2008         2           100  916.662 7297.000\n",
       "2     ALB         2008         3           100 1010.916 7297.000\n",
       "3     ALB         2008         4           100 1086.908 7297.000\n",
       "4     ALB         2008         5           100 1132.700 7297.000"
      ]
     },
     "execution_count": 52,
     "metadata": {},
     "output_type": "execute_result"
    }
   ],
   "source": [
    "\n",
    "df_projet7.head()\n"
   ]
  },
  {
   "cell_type": "markdown",
   "metadata": {},
   "source": [
    "\n",
    "Purchasing Power Parity (PPP) ou Parité de Pouvoir d'Achat (PPA en français) est un taux de conversion monétaire qui permet d'exprimer dans une unité comune les pouvoirs d'achats des differentes monnaies. Ce taux exprime le rapport entre la quantité d'unités monétaire nécessaire dans des pays differents pour ce procurer un panier équivalement de biens et services.\n",
    "\n",
    "exemple le prix de ce panier est de 7 297 $ppp en Albanie"
   ]
  },
  {
   "cell_type": "markdown",
   "metadata": {},
   "source": [
    "Dans notre tableau les incomes des pays sont representer en centilles qui represente chacun une classe de revenu, partager les incomes de cette facon ce revelle assez pertinant dans notre cas, ainsi lorsque nous etudirons les pays nous pourrons nous concentrer sur les niveau fiscaux qui sont les plus interressant pour notre mission. \n",
    "\n",
    "De maniere generale cette disposition permet d'avoire une etude plus precise des pays. "
   ]
  },
  {
   "cell_type": "markdown",
   "metadata": {},
   "source": [
    "Continuons notre etude"
   ]
  },
  {
   "cell_type": "code",
   "execution_count": 53,
   "metadata": {},
   "outputs": [
    {
     "data": {
      "image/png": "[encoded data removed]",
      "text/plain": [
       "<Figure size 1440x720 with 1 Axes>"
      ]
     },
     "metadata": {
      "needs_background": "light"
     },
     "output_type": "display_data"
    }
   ],
   "source": [
    "\n",
    "plt.figure(figsize=(20,10))\n",
    "plt.bar(data=df_info.sort_values(by='gdpppp'), x ='Country_Code', height ='gdpppp')\n",
    "plt.xticks(rotation = 55)\n",
    "plt.xlabel('Salaire moyen des pays',fontsize=15)\n",
    "plt.ylabel('Pib par habitant',fontsize=15)\n",
    "plt.title('Distribution des salaires moyen des differents pays', fontsize=20)\n",
    "plt.savefig('./ImgFigure/M1_1.png')\n",
    "\n",
    "plt.show()\n",
    "\n",
    "\n"
   ]
  },
  {
   "cell_type": "code",
   "execution_count": 54,
   "metadata": {},
   "outputs": [
    {
     "data": {
      "text/html": [
       "<div>\n",
       "<style scoped>\n",
       "    .dataframe tbody tr th:only-of-type {\n",
       "        vertical-align: middle;\n",
       "    }\n",
       "\n",
       "    .dataframe tbody tr th {\n",
       "        vertical-align: top;\n",
       "    }\n",
       "\n",
       "    .dataframe thead th {\n",
       "        text-align: right;\n",
       "    }\n",
       "</style>\n",
       "<table border=\"1\" class=\"dataframe\">\n",
       "  <thead>\n",
       "    <tr style=\"text-align: right;\">\n",
       "      <th></th>\n",
       "      <th>Country_Name</th>\n",
       "      <th>Country_Code</th>\n",
       "      <th>Population</th>\n",
       "      <th>Region</th>\n",
       "      <th>Income_Groupe</th>\n",
       "      <th>Gini</th>\n",
       "      <th>gdpppp</th>\n",
       "    </tr>\n",
       "  </thead>\n",
       "  <tbody>\n",
       "    <tr>\n",
       "      <th>25</th>\n",
       "      <td>Fiji</td>\n",
       "      <td>FJI</td>\n",
       "      <td>845361.000</td>\n",
       "      <td>East Asia &amp; Pacific</td>\n",
       "      <td>Upper middle income</td>\n",
       "      <td>44.378</td>\n",
       "      <td>4300332.000</td>\n",
       "    </tr>\n",
       "    <tr>\n",
       "      <th>46</th>\n",
       "      <td>Luxembourg</td>\n",
       "      <td>LUX</td>\n",
       "      <td>488650.000</td>\n",
       "      <td>Europe &amp; Central Asia</td>\n",
       "      <td>High income</td>\n",
       "      <td>30.984</td>\n",
       "      <td>73127.000</td>\n",
       "    </tr>\n",
       "    <tr>\n",
       "      <th>55</th>\n",
       "      <td>Norway</td>\n",
       "      <td>NOR</td>\n",
       "      <td>4768212.000</td>\n",
       "      <td>Europe &amp; Central Asia</td>\n",
       "      <td>High income</td>\n",
       "      <td>28.015</td>\n",
       "      <td>49070.000</td>\n",
       "    </tr>\n",
       "    <tr>\n",
       "      <th>71</th>\n",
       "      <td>United States</td>\n",
       "      <td>USA</td>\n",
       "      <td>304093966.000</td>\n",
       "      <td>North America</td>\n",
       "      <td>High income</td>\n",
       "      <td>44.733</td>\n",
       "      <td>43261.000</td>\n",
       "    </tr>\n",
       "    <tr>\n",
       "      <th>33</th>\n",
       "      <td>Ireland</td>\n",
       "      <td>IRL</td>\n",
       "      <td>4489544.000</td>\n",
       "      <td>Europe &amp; Central Asia</td>\n",
       "      <td>High income</td>\n",
       "      <td>32.024</td>\n",
       "      <td>39268.000</td>\n",
       "    </tr>\n",
       "  </tbody>\n",
       "</table>\n",
       "</div>"
      ],
      "text/plain": [
       "     Country_Name Country_Code    Population                 Region  \\\n",
       "25           Fiji          FJI    845361.000    East Asia & Pacific   \n",
       "46     Luxembourg          LUX    488650.000  Europe & Central Asia   \n",
       "55         Norway          NOR   4768212.000  Europe & Central Asia   \n",
       "71  United States          USA 304093966.000          North America   \n",
       "33        Ireland          IRL   4489544.000  Europe & Central Asia   \n",
       "\n",
       "          Income_Groupe   Gini      gdpppp  \n",
       "25  Upper middle income 44.378 4300332.000  \n",
       "46          High income 30.984   73127.000  \n",
       "55          High income 28.015   49070.000  \n",
       "71          High income 44.733   43261.000  \n",
       "33          High income 32.024   39268.000  "
      ]
     },
     "execution_count": 54,
     "metadata": {},
     "output_type": "execute_result"
    }
   ],
   "source": [
    "\n",
    "df_info.sort_values(by='gdpppp', ascending=False).head(5)\n"
   ]
  },
  {
   "cell_type": "markdown",
   "metadata": {},
   "source": [
    "Ce pays semble vraiment etre a part, regardons y d'un peut plus pres\n"
   ]
  },
  {
   "cell_type": "code",
   "execution_count": 55,
   "metadata": {},
   "outputs": [
    {
     "data": {
      "text/html": [
       "<div>\n",
       "<style scoped>\n",
       "    .dataframe tbody tr th:only-of-type {\n",
       "        vertical-align: middle;\n",
       "    }\n",
       "\n",
       "    .dataframe tbody tr th {\n",
       "        vertical-align: top;\n",
       "    }\n",
       "\n",
       "    .dataframe thead th {\n",
       "        text-align: right;\n",
       "    }\n",
       "</style>\n",
       "<table border=\"1\" class=\"dataframe\">\n",
       "  <thead>\n",
       "    <tr style=\"text-align: right;\">\n",
       "      <th></th>\n",
       "      <th>year_survey</th>\n",
       "      <th>quantile</th>\n",
       "      <th>nb_quantiles</th>\n",
       "      <th>income</th>\n",
       "      <th>gdpppp</th>\n",
       "    </tr>\n",
       "  </thead>\n",
       "  <tbody>\n",
       "    <tr>\n",
       "      <th>count</th>\n",
       "      <td>100.000</td>\n",
       "      <td>100.000</td>\n",
       "      <td>100.000</td>\n",
       "      <td>100.000</td>\n",
       "      <td>100.000</td>\n",
       "    </tr>\n",
       "    <tr>\n",
       "      <th>mean</th>\n",
       "      <td>2008.000</td>\n",
       "      <td>50.500</td>\n",
       "      <td>100.000</td>\n",
       "      <td>2098.731</td>\n",
       "      <td>4300332.000</td>\n",
       "    </tr>\n",
       "    <tr>\n",
       "      <th>std</th>\n",
       "      <td>0.000</td>\n",
       "      <td>29.011</td>\n",
       "      <td>0.000</td>\n",
       "      <td>2520.684</td>\n",
       "      <td>0.000</td>\n",
       "    </tr>\n",
       "    <tr>\n",
       "      <th>min</th>\n",
       "      <td>2008.000</td>\n",
       "      <td>1.000</td>\n",
       "      <td>100.000</td>\n",
       "      <td>308.173</td>\n",
       "      <td>4300332.000</td>\n",
       "    </tr>\n",
       "    <tr>\n",
       "      <th>25%</th>\n",
       "      <td>2008.000</td>\n",
       "      <td>25.750</td>\n",
       "      <td>100.000</td>\n",
       "      <td>969.867</td>\n",
       "      <td>4300332.000</td>\n",
       "    </tr>\n",
       "    <tr>\n",
       "      <th>50%</th>\n",
       "      <td>2008.000</td>\n",
       "      <td>50.500</td>\n",
       "      <td>100.000</td>\n",
       "      <td>1452.793</td>\n",
       "      <td>4300332.000</td>\n",
       "    </tr>\n",
       "    <tr>\n",
       "      <th>75%</th>\n",
       "      <td>2008.000</td>\n",
       "      <td>75.250</td>\n",
       "      <td>100.000</td>\n",
       "      <td>2321.310</td>\n",
       "      <td>4300332.000</td>\n",
       "    </tr>\n",
       "    <tr>\n",
       "      <th>max</th>\n",
       "      <td>2008.000</td>\n",
       "      <td>100.000</td>\n",
       "      <td>100.000</td>\n",
       "      <td>22161.590</td>\n",
       "      <td>4300332.000</td>\n",
       "    </tr>\n",
       "  </tbody>\n",
       "</table>\n",
       "</div>"
      ],
      "text/plain": [
       "       year_survey  quantile  nb_quantiles    income      gdpppp\n",
       "count      100.000   100.000       100.000   100.000     100.000\n",
       "mean      2008.000    50.500       100.000  2098.731 4300332.000\n",
       "std          0.000    29.011         0.000  2520.684       0.000\n",
       "min       2008.000     1.000       100.000   308.173 4300332.000\n",
       "25%       2008.000    25.750       100.000   969.867 4300332.000\n",
       "50%       2008.000    50.500       100.000  1452.793 4300332.000\n",
       "75%       2008.000    75.250       100.000  2321.310 4300332.000\n",
       "max       2008.000   100.000       100.000 22161.590 4300332.000"
      ]
     },
     "execution_count": 55,
     "metadata": {},
     "output_type": "execute_result"
    }
   ],
   "source": [
    "\n",
    "df_projet7[df_projet7.country == 'FJI'].describe()\n"
   ]
  },
  {
   "cell_type": "code",
   "execution_count": 56,
   "metadata": {},
   "outputs": [
    {
     "data": {
      "image/png": "[encoded data removed]",
      "text/plain": [
       "<Figure size 720x720 with 1 Axes>"
      ]
     },
     "metadata": {
      "needs_background": "light"
     },
     "output_type": "display_data"
    }
   ],
   "source": [
    "\n",
    "c = df_projet7[df_projet7.country == 'FJI'].copy()\n",
    "c = c.sort_values(by='income')\n",
    "c = c.reset_index()\n",
    "c = c.drop(columns='index')\n",
    "\n",
    "\n",
    "dep = c['income'].values\n",
    "lorenz = np.cumsum(np.sort(dep)) / dep.sum()\n",
    "lorenz = np.append([0],lorenz) # La courbe de Lorenz commence à 0\n",
    "\n",
    "plt.figure(figsize=(10,10))\n",
    "plt.plot([0.0, 1.0],color='red')\n",
    "plt.plot(np.linspace(0,1,len(lorenz)),lorenz)\n",
    "\n",
    "plt.title('Courbe de repartition des richesses', fontsize=15)\n",
    "plt.ylabel('Pourcentage cumuler des richesse ', fontsize=13)\n",
    "plt.xlabel('Pourcentage cumuler de la population', fontsize=13)\n",
    "plt.grid(True)\n",
    "plt.savefig('./ImgFigure/M1_2.png')\n",
    "\n",
    "plt.show()\n"
   ]
  },
  {
   "cell_type": "code",
   "execution_count": 57,
   "metadata": {},
   "outputs": [
    {
     "data": {
      "text/html": [
       "<div>\n",
       "<style scoped>\n",
       "    .dataframe tbody tr th:only-of-type {\n",
       "        vertical-align: middle;\n",
       "    }\n",
       "\n",
       "    .dataframe tbody tr th {\n",
       "        vertical-align: top;\n",
       "    }\n",
       "\n",
       "    .dataframe thead th {\n",
       "        text-align: right;\n",
       "    }\n",
       "</style>\n",
       "<table border=\"1\" class=\"dataframe\">\n",
       "  <thead>\n",
       "    <tr style=\"text-align: right;\">\n",
       "      <th></th>\n",
       "      <th>Country_Name</th>\n",
       "      <th>Country_Code</th>\n",
       "      <th>Population</th>\n",
       "      <th>Region</th>\n",
       "      <th>Income_Groupe</th>\n",
       "      <th>Gini</th>\n",
       "      <th>gdpppp</th>\n",
       "    </tr>\n",
       "  </thead>\n",
       "  <tbody>\n",
       "    <tr>\n",
       "      <th>25</th>\n",
       "      <td>Fiji</td>\n",
       "      <td>FJI</td>\n",
       "      <td>845361.000</td>\n",
       "      <td>East Asia &amp; Pacific</td>\n",
       "      <td>Upper middle income</td>\n",
       "      <td>44.378</td>\n",
       "      <td>4300332.000</td>\n",
       "    </tr>\n",
       "  </tbody>\n",
       "</table>\n",
       "</div>"
      ],
      "text/plain": [
       "   Country_Name Country_Code  Population               Region  \\\n",
       "25         Fiji          FJI  845361.000  East Asia & Pacific   \n",
       "\n",
       "          Income_Groupe   Gini      gdpppp  \n",
       "25  Upper middle income 44.378 4300332.000  "
      ]
     },
     "execution_count": 57,
     "metadata": {},
     "output_type": "execute_result"
    }
   ],
   "source": [
    "\n",
    "df_info[df_info['Country_Code'] == 'FJI']\n"
   ]
  },
  {
   "cell_type": "code",
   "execution_count": 58,
   "metadata": {},
   "outputs": [
    {
     "data": {
      "text/plain": [
       "209873.08823000002"
      ]
     },
     "execution_count": 58,
     "metadata": {},
     "output_type": "execute_result"
    }
   ],
   "source": [
    "\n",
    "df_projet7[df_projet7.country == 'FJI'].income.sum()\n"
   ]
  },
  {
   "cell_type": "markdown",
   "metadata": {},
   "source": [
    "Au vue des données dont nous disposont sur les ïles fiji dans nos dataframe, nous pouvons considere que la valeur qui leur est attacher pour le gdp est plutot aberrante, en effet avec les incomes totale du pays que nous avons si dessus, il n'est pas possible que le gdp soit si elevé "
   ]
  },
  {
   "cell_type": "code",
   "execution_count": 59,
   "metadata": {},
   "outputs": [],
   "source": [
    "\n",
    "df_info = df_info.drop(df_info[df_info['Country_Code'] == 'FJI'].index)\n",
    "df_projet7 = df_projet7.drop(df_projet7[df_projet7['country'] == 'FJI'].index)\n"
   ]
  },
  {
   "cell_type": "markdown",
   "metadata": {},
   "source": [
    "# Analyse univarié"
   ]
  },
  {
   "cell_type": "code",
   "execution_count": 60,
   "metadata": {},
   "outputs": [
    {
     "data": {
      "text/html": [
       "<div>\n",
       "<style scoped>\n",
       "    .dataframe tbody tr th:only-of-type {\n",
       "        vertical-align: middle;\n",
       "    }\n",
       "\n",
       "    .dataframe tbody tr th {\n",
       "        vertical-align: top;\n",
       "    }\n",
       "\n",
       "    .dataframe thead th {\n",
       "        text-align: right;\n",
       "    }\n",
       "</style>\n",
       "<table border=\"1\" class=\"dataframe\">\n",
       "  <thead>\n",
       "    <tr style=\"text-align: right;\">\n",
       "      <th></th>\n",
       "      <th>Country_Name</th>\n",
       "      <th>Country_Code</th>\n",
       "      <th>Population</th>\n",
       "      <th>Region</th>\n",
       "      <th>Income_Groupe</th>\n",
       "      <th>Gini</th>\n",
       "      <th>gdpppp</th>\n",
       "    </tr>\n",
       "  </thead>\n",
       "  <tbody>\n",
       "    <tr>\n",
       "      <th>0</th>\n",
       "      <td>Albania</td>\n",
       "      <td>ALB</td>\n",
       "      <td>2947314.000</td>\n",
       "      <td>Europe &amp; Central Asia</td>\n",
       "      <td>Upper middle income</td>\n",
       "      <td>32.141</td>\n",
       "      <td>7297.000</td>\n",
       "    </tr>\n",
       "    <tr>\n",
       "      <th>1</th>\n",
       "      <td>Argentina</td>\n",
       "      <td>ARG</td>\n",
       "      <td>40080160.000</td>\n",
       "      <td>Latin America &amp; Caribbean</td>\n",
       "      <td>Upper middle income</td>\n",
       "      <td>46.525</td>\n",
       "      <td>13220.000</td>\n",
       "    </tr>\n",
       "    <tr>\n",
       "      <th>2</th>\n",
       "      <td>Armenia</td>\n",
       "      <td>ARM</td>\n",
       "      <td>2907618.000</td>\n",
       "      <td>Europe &amp; Central Asia</td>\n",
       "      <td>Upper middle income</td>\n",
       "      <td>28.030</td>\n",
       "      <td>5611.000</td>\n",
       "    </tr>\n",
       "    <tr>\n",
       "      <th>3</th>\n",
       "      <td>Austria</td>\n",
       "      <td>AUT</td>\n",
       "      <td>8321496.000</td>\n",
       "      <td>Europe &amp; Central Asia</td>\n",
       "      <td>High income</td>\n",
       "      <td>29.533</td>\n",
       "      <td>36193.000</td>\n",
       "    </tr>\n",
       "    <tr>\n",
       "      <th>4</th>\n",
       "      <td>Azerbaijan</td>\n",
       "      <td>AZE</td>\n",
       "      <td>8763400.000</td>\n",
       "      <td>Europe &amp; Central Asia</td>\n",
       "      <td>Upper middle income</td>\n",
       "      <td>32.903</td>\n",
       "      <td>8101.000</td>\n",
       "    </tr>\n",
       "  </tbody>\n",
       "</table>\n",
       "</div>"
      ],
      "text/plain": [
       "  Country_Name Country_Code   Population                     Region  \\\n",
       "0      Albania          ALB  2947314.000      Europe & Central Asia   \n",
       "1    Argentina          ARG 40080160.000  Latin America & Caribbean   \n",
       "2      Armenia          ARM  2907618.000      Europe & Central Asia   \n",
       "3      Austria          AUT  8321496.000      Europe & Central Asia   \n",
       "4   Azerbaijan          AZE  8763400.000      Europe & Central Asia   \n",
       "\n",
       "         Income_Groupe   Gini    gdpppp  \n",
       "0  Upper middle income 32.141  7297.000  \n",
       "1  Upper middle income 46.525 13220.000  \n",
       "2  Upper middle income 28.030  5611.000  \n",
       "3          High income 29.533 36193.000  \n",
       "4  Upper middle income 32.903  8101.000  "
      ]
     },
     "execution_count": 60,
     "metadata": {},
     "output_type": "execute_result"
    }
   ],
   "source": [
    "df_info.head()"
   ]
  },
  {
   "cell_type": "code",
   "execution_count": 61,
   "metadata": {},
   "outputs": [
    {
     "data": {
      "image/png": "[encoded data removed]",
      "text/plain": [
       "<Figure size 1440x720 with 1 Axes>"
      ]
     },
     "metadata": {
      "needs_background": "light"
     },
     "output_type": "display_data"
    }
   ],
   "source": [
    "\n",
    "plt.figure(figsize=(20,10))\n",
    "plt.bar(data=df_info.sort_values(by='Population'), x ='Country_Code', height ='Population')\n",
    "plt.xticks(rotation = 55)\n",
    "plt.xlabel('Pays', fontsize=15)\n",
    "plt.ylabel('Population', fontsize=15)\n",
    "plt.title('Distribution de la population des differents pays', fontsize=20)\n",
    "plt.savefig('./ImgFigure/M1_3.png')\n",
    "\n",
    "plt.show()\n"
   ]
  },
  {
   "cell_type": "code",
   "execution_count": 62,
   "metadata": {},
   "outputs": [
    {
     "name": "stdout",
     "output_type": "stream",
     "text": [
      " Moyen: 31128000.891891893, Medianne: 9624719.5, Ecart type: 50942521.996261805, Variance: 2595140547339617.5\n"
     ]
    }
   ],
   "source": [
    "\n",
    "varTempoMean = df_info.Population.mean()\n",
    "varTempoMedian = df_info.Population.median()\n",
    "varTempoEcarttype = df_info.Population.std()\n",
    "varTempoVariance = df_info.Population.var()\n",
    "\n",
    "print(\" Moyen: {}, Medianne: {}, Ecart type: {}, Variance: {}\".format(varTempoMean,varTempoMedian, varTempoEcarttype, varTempoVariance))\n"
   ]
  },
  {
   "cell_type": "code",
   "execution_count": 63,
   "metadata": {},
   "outputs": [
    {
     "data": {
      "image/png": "[encoded data removed]",
      "text/plain": [
       "<Figure size 1440x720 with 1 Axes>"
      ]
     },
     "metadata": {
      "needs_background": "light"
     },
     "output_type": "display_data"
    }
   ],
   "source": [
    "\n",
    "plt.figure(figsize=(20,10))\n",
    "plt.bar(data=df_info.sort_values(by='gdpppp'), x ='Country_Code', height ='gdpppp')\n",
    "plt.xticks(rotation = 55)\n",
    "plt.ylabel('Salaire moyen des pays (pib en $ppp)',fontsize=15)\n",
    "plt.xlabel('Pays',fontsize=15)\n",
    "plt.title('Distribution des incomes des differents pays', fontsize=20)\n",
    "plt.savefig('./ImgFigure/M1_4.png')\n",
    "\n",
    "plt.show()\n"
   ]
  },
  {
   "cell_type": "code",
   "execution_count": 64,
   "metadata": {},
   "outputs": [
    {
     "name": "stdout",
     "output_type": "stream",
     "text": [
      " Moyen: 17054.922571553165, Medianne: 11843.0, Ecart type: 14142.09721047386, Variance: 199998913.5104925\n"
     ]
    }
   ],
   "source": [
    "\n",
    "varTempoMean = df_info.gdpppp.mean()\n",
    "varTempoMedian = df_info.gdpppp.median()\n",
    "varTempoEcarttype = df_info.gdpppp.std()\n",
    "varTempoVariance = df_info.gdpppp.var()\n",
    "\n",
    "print(\" Moyen: {}, Medianne: {}, Ecart type: {}, Variance: {}\".format(varTempoMean,varTempoMedian, varTempoEcarttype, varTempoVariance))\n"
   ]
  },
  {
   "cell_type": "code",
   "execution_count": 65,
   "metadata": {},
   "outputs": [
    {
     "data": {
      "image/png": "[encoded data removed]",
      "text/plain": [
       "<Figure size 1440x720 with 1 Axes>"
      ]
     },
     "metadata": {
      "needs_background": "light"
     },
     "output_type": "display_data"
    }
   ],
   "source": [
    "\n",
    "plt.figure(figsize=(20,10))\n",
    "plt.bar(data=df_info.sort_values(by='Gini',ascending=False), x ='Country_Code', height ='Gini')\n",
    "plt.xticks(rotation = 55)\n",
    "plt.xlabel('Indice de gini',fontsize=15)\n",
    "plt.ylabel('Population',fontsize=15)\n",
    "plt.title(\"Distribution de l'indice de gini des differents pays\", fontsize=20)\n",
    "plt.savefig('./ImgFigure/M1_6.png')\n",
    "\n",
    "plt.show()\n"
   ]
  },
  {
   "cell_type": "code",
   "execution_count": 66,
   "metadata": {},
   "outputs": [
    {
     "name": "stdout",
     "output_type": "stream",
     "text": [
      " Moyen: 38.34194493962743, Medianne: 35.33081184819618, Ecart type: 9.815776904626569, Variance: 96.34947624140035\n"
     ]
    }
   ],
   "source": [
    "\n",
    "varTempoMean = df_info.Gini.mean()\n",
    "varTempoMedian = df_info.Gini.median()\n",
    "varTempoEcarttype = df_info.Gini.std()\n",
    "varTempoVariance = df_info.Gini.var()\n",
    "\n",
    "print(\" Moyen: {}, Medianne: {}, Ecart type: {}, Variance: {}\".format(varTempoMean,varTempoMedian, varTempoEcarttype, varTempoVariance))\n"
   ]
  },
  {
   "cell_type": "code",
   "execution_count": 67,
   "metadata": {},
   "outputs": [
    {
     "data": {
      "text/plain": [
       "High income            33\n",
       "Upper middle income    27\n",
       "Lower middle income    10\n",
       "Low income              4\n",
       "Name: Income_Groupe, dtype: int64"
      ]
     },
     "execution_count": 67,
     "metadata": {},
     "output_type": "execute_result"
    }
   ],
   "source": [
    "\n",
    "df_info['Income_Groupe'].value_counts()\n"
   ]
  },
  {
   "cell_type": "code",
   "execution_count": 68,
   "metadata": {},
   "outputs": [
    {
     "data": {
      "text/plain": [
       "Europe & Central Asia         44\n",
       "Latin America & Caribbean     13\n",
       "Sub-Saharan Africa             6\n",
       "Middle East & North Africa     5\n",
       "East Asia & Pacific            3\n",
       "North America                  2\n",
       "South Asia                     1\n",
       "Name: Region, dtype: int64"
      ]
     },
     "execution_count": 68,
     "metadata": {},
     "output_type": "execute_result"
    }
   ],
   "source": [
    "\n",
    "df_info.Region.value_counts()\n"
   ]
  },
  {
   "cell_type": "markdown",
   "metadata": {},
   "source": [
    "# Analyse bivarié \n",
    "\n",
    "Avancons dans l'analyse de variable en fonction d'autre."
   ]
  },
  {
   "cell_type": "code",
   "execution_count": 69,
   "metadata": {},
   "outputs": [
    {
     "data": {
      "image/png": "[encoded data removed]",
      "text/plain": [
       "<Figure size 1080x720 with 1 Axes>"
      ]
     },
     "metadata": {
      "needs_background": "light"
     },
     "output_type": "display_data"
    }
   ],
   "source": [
    "\n",
    "X = 'Gini'\n",
    "Y = 'Population'\n",
    "d = df_info\n",
    "\n",
    "plt.figure(figsize=(15,10))\n",
    "axes = plt.axes()\n",
    "axes.grid() \n",
    "ax = sns.scatterplot(x=X, y=Y, data=d, hue='Region')\n",
    "\n",
    "plt.xlabel('Indice de Gini',fontsize=15)\n",
    "plt.ylabel('Population du pays',fontsize=15)\n",
    "plt.title(\"Projection des indice de gini en fonction des population des pays\",fontsize=20)\n",
    "plt.grid(False)\n",
    "plt.savefig('./ImgFigure/M1_7.png')\n",
    "\n",
    "plt.show()\n",
    "\n"
   ]
  },
  {
   "cell_type": "code",
   "execution_count": 70,
   "metadata": {},
   "outputs": [
    {
     "data": {
      "image/png": "[encoded data removed]",
      "text/plain": [
       "<Figure size 1080x720 with 1 Axes>"
      ]
     },
     "metadata": {
      "needs_background": "light"
     },
     "output_type": "display_data"
    }
   ],
   "source": [
    "\n",
    "X = 'Gini'\n",
    "Y = 'gdpppp'\n",
    "d = df_info\n",
    "\n",
    "plt.figure(figsize=(15,10))\n",
    "axes = plt.axes()\n",
    "axes.grid() \n",
    "ax = sns.scatterplot(x=X, y=Y, data=d, hue='Region')\n",
    "\n",
    "plt.xlabel('Indice de Gini',fontsize=15)\n",
    "plt.ylabel('PIB par habitant (en $ppp)',fontsize=15)\n",
    "plt.title(\"Projection des indice de gini en fonction du pib des pays\",fontsize=20)\n",
    "plt.grid(False)\n",
    "plt.savefig('./ImgFigure/M1_8.png')\n",
    "\n",
    "plt.show()\n"
   ]
  },
  {
   "cell_type": "code",
   "execution_count": 71,
   "metadata": {},
   "outputs": [
    {
     "data": {
      "image/png": "[encoded data removed]",
      "text/plain": [
       "<Figure size 1080x720 with 1 Axes>"
      ]
     },
     "metadata": {
      "needs_background": "light"
     },
     "output_type": "display_data"
    }
   ],
   "source": [
    "\n",
    "X = 'gdpppp'\n",
    "Y = 'Population'\n",
    "d = df_info\n",
    "\n",
    "plt.figure(figsize=(15,10))\n",
    "axes = plt.axes()\n",
    "axes.grid() \n",
    "ax = sns.scatterplot(x=X, y=Y, data=d, hue='Region')\n",
    "\n",
    "plt.xlabel('PIB par habitant (en $ppp)',fontsize=15)\n",
    "plt.ylabel('Population du pays',fontsize=15)\n",
    "plt.title(\"Projection du pib en fonction de la population\",fontsize=20)\n",
    "plt.grid(False)\n",
    "plt.savefig('./ImgFigure/M1_10.png')\n",
    "\n",
    "plt.show()\n"
   ]
  },
  {
   "cell_type": "markdown",
   "metadata": {},
   "source": [
    "On peut clairement voire la relation qui existe entre ces duex parametre, relation souligner par la droite rouge."
   ]
  },
  {
   "cell_type": "code",
   "execution_count": 72,
   "metadata": {},
   "outputs": [],
   "source": [
    "\n",
    "#Export des données pour pouvoir les reutilisées\n",
    "df_info.to_csv('data/clean/set_infoGeneral.csv',index=False)\n",
    "df_projet7.to_csv('data/clean/set_dataProjet7.csv',index=False)\n"
   ]
  },
  {
   "cell_type": "markdown",
   "metadata": {},
   "source": [
    "# Projet 7 Mission 2\n",
    "\n",
    "\n",
    "    Montrez la diversité des pays en termes de distribution de revenus à l'aide d'un graphique. Celui-ci représentera le revenu moyen (axe des ordonnées, sur une échelle logarithmique) de chacune des classes de revenus (axe des abscisses) pour 5 à 10 pays que vous aurez choisis pour montrer la diversité des cas.\n",
    "\n",
    "    Représentez la courbe de Lorenz de chacun des pays choisis.\n",
    "    \n",
    "    Pour chacun de ces pays, représentez l'évolution de l'indice de Gini au fil des ans.\n",
    "    \n",
    "    Classez les pays par indice de Gini. Donnez la moyenne, les 5 pays ayant l'indice de Gini le plus élevé et les 5 pays ayant l'indice de Gini le plus faible. En quelle position se trouve la France ?\n"
   ]
  },
  {
   "cell_type": "code",
   "execution_count": 73,
   "metadata": {},
   "outputs": [],
   "source": [
    "\n",
    "#Import des données\n",
    "df_projet7 = pd.read_csv(\"data/clean/set_dataProjet7.csv\")\n",
    "df_info = pd.read_csv(\"data/clean/set_infoGeneral.csv\")\n"
   ]
  },
  {
   "cell_type": "code",
   "execution_count": 74,
   "metadata": {},
   "outputs": [
    {
     "data": {
      "text/html": [
       "<div>\n",
       "<style scoped>\n",
       "    .dataframe tbody tr th:only-of-type {\n",
       "        vertical-align: middle;\n",
       "    }\n",
       "\n",
       "    .dataframe tbody tr th {\n",
       "        vertical-align: top;\n",
       "    }\n",
       "\n",
       "    .dataframe thead th {\n",
       "        text-align: right;\n",
       "    }\n",
       "</style>\n",
       "<table border=\"1\" class=\"dataframe\">\n",
       "  <thead>\n",
       "    <tr style=\"text-align: right;\">\n",
       "      <th></th>\n",
       "      <th>country</th>\n",
       "      <th>year_survey</th>\n",
       "      <th>quantile</th>\n",
       "      <th>nb_quantiles</th>\n",
       "      <th>income</th>\n",
       "      <th>gdpppp</th>\n",
       "    </tr>\n",
       "  </thead>\n",
       "  <tbody>\n",
       "    <tr>\n",
       "      <th>0</th>\n",
       "      <td>ALB</td>\n",
       "      <td>2008</td>\n",
       "      <td>1</td>\n",
       "      <td>100</td>\n",
       "      <td>728.898</td>\n",
       "      <td>7297.000</td>\n",
       "    </tr>\n",
       "    <tr>\n",
       "      <th>1</th>\n",
       "      <td>ALB</td>\n",
       "      <td>2008</td>\n",
       "      <td>2</td>\n",
       "      <td>100</td>\n",
       "      <td>916.662</td>\n",
       "      <td>7297.000</td>\n",
       "    </tr>\n",
       "    <tr>\n",
       "      <th>2</th>\n",
       "      <td>ALB</td>\n",
       "      <td>2008</td>\n",
       "      <td>3</td>\n",
       "      <td>100</td>\n",
       "      <td>1010.916</td>\n",
       "      <td>7297.000</td>\n",
       "    </tr>\n",
       "    <tr>\n",
       "      <th>3</th>\n",
       "      <td>ALB</td>\n",
       "      <td>2008</td>\n",
       "      <td>4</td>\n",
       "      <td>100</td>\n",
       "      <td>1086.908</td>\n",
       "      <td>7297.000</td>\n",
       "    </tr>\n",
       "    <tr>\n",
       "      <th>4</th>\n",
       "      <td>ALB</td>\n",
       "      <td>2008</td>\n",
       "      <td>5</td>\n",
       "      <td>100</td>\n",
       "      <td>1132.700</td>\n",
       "      <td>7297.000</td>\n",
       "    </tr>\n",
       "  </tbody>\n",
       "</table>\n",
       "</div>"
      ],
      "text/plain": [
       "  country  year_survey  quantile  nb_quantiles   income   gdpppp\n",
       "0     ALB         2008         1           100  728.898 7297.000\n",
       "1     ALB         2008         2           100  916.662 7297.000\n",
       "2     ALB         2008         3           100 1010.916 7297.000\n",
       "3     ALB         2008         4           100 1086.908 7297.000\n",
       "4     ALB         2008         5           100 1132.700 7297.000"
      ]
     },
     "execution_count": 74,
     "metadata": {},
     "output_type": "execute_result"
    }
   ],
   "source": [
    "\n",
    "df_projet7.head()\n"
   ]
  },
  {
   "cell_type": "code",
   "execution_count": 75,
   "metadata": {},
   "outputs": [
    {
     "data": {
      "text/html": [
       "<div>\n",
       "<style scoped>\n",
       "    .dataframe tbody tr th:only-of-type {\n",
       "        vertical-align: middle;\n",
       "    }\n",
       "\n",
       "    .dataframe tbody tr th {\n",
       "        vertical-align: top;\n",
       "    }\n",
       "\n",
       "    .dataframe thead th {\n",
       "        text-align: right;\n",
       "    }\n",
       "</style>\n",
       "<table border=\"1\" class=\"dataframe\">\n",
       "  <thead>\n",
       "    <tr style=\"text-align: right;\">\n",
       "      <th></th>\n",
       "      <th>Country_Name</th>\n",
       "      <th>Country_Code</th>\n",
       "      <th>Population</th>\n",
       "      <th>Region</th>\n",
       "      <th>Income_Groupe</th>\n",
       "      <th>Gini</th>\n",
       "      <th>gdpppp</th>\n",
       "    </tr>\n",
       "  </thead>\n",
       "  <tbody>\n",
       "    <tr>\n",
       "      <th>0</th>\n",
       "      <td>Albania</td>\n",
       "      <td>ALB</td>\n",
       "      <td>2947314.000</td>\n",
       "      <td>Europe &amp; Central Asia</td>\n",
       "      <td>Upper middle income</td>\n",
       "      <td>32.141</td>\n",
       "      <td>7297.000</td>\n",
       "    </tr>\n",
       "    <tr>\n",
       "      <th>1</th>\n",
       "      <td>Argentina</td>\n",
       "      <td>ARG</td>\n",
       "      <td>40080160.000</td>\n",
       "      <td>Latin America &amp; Caribbean</td>\n",
       "      <td>Upper middle income</td>\n",
       "      <td>46.525</td>\n",
       "      <td>13220.000</td>\n",
       "    </tr>\n",
       "    <tr>\n",
       "      <th>2</th>\n",
       "      <td>Armenia</td>\n",
       "      <td>ARM</td>\n",
       "      <td>2907618.000</td>\n",
       "      <td>Europe &amp; Central Asia</td>\n",
       "      <td>Upper middle income</td>\n",
       "      <td>28.030</td>\n",
       "      <td>5611.000</td>\n",
       "    </tr>\n",
       "    <tr>\n",
       "      <th>3</th>\n",
       "      <td>Austria</td>\n",
       "      <td>AUT</td>\n",
       "      <td>8321496.000</td>\n",
       "      <td>Europe &amp; Central Asia</td>\n",
       "      <td>High income</td>\n",
       "      <td>29.533</td>\n",
       "      <td>36193.000</td>\n",
       "    </tr>\n",
       "    <tr>\n",
       "      <th>4</th>\n",
       "      <td>Azerbaijan</td>\n",
       "      <td>AZE</td>\n",
       "      <td>8763400.000</td>\n",
       "      <td>Europe &amp; Central Asia</td>\n",
       "      <td>Upper middle income</td>\n",
       "      <td>32.903</td>\n",
       "      <td>8101.000</td>\n",
       "    </tr>\n",
       "  </tbody>\n",
       "</table>\n",
       "</div>"
      ],
      "text/plain": [
       "  Country_Name Country_Code   Population                     Region  \\\n",
       "0      Albania          ALB  2947314.000      Europe & Central Asia   \n",
       "1    Argentina          ARG 40080160.000  Latin America & Caribbean   \n",
       "2      Armenia          ARM  2907618.000      Europe & Central Asia   \n",
       "3      Austria          AUT  8321496.000      Europe & Central Asia   \n",
       "4   Azerbaijan          AZE  8763400.000      Europe & Central Asia   \n",
       "\n",
       "         Income_Groupe   Gini    gdpppp  \n",
       "0  Upper middle income 32.141  7297.000  \n",
       "1  Upper middle income 46.525 13220.000  \n",
       "2  Upper middle income 28.030  5611.000  \n",
       "3          High income 29.533 36193.000  \n",
       "4  Upper middle income 32.903  8101.000  "
      ]
     },
     "execution_count": 75,
     "metadata": {},
     "output_type": "execute_result"
    }
   ],
   "source": [
    "\n",
    "df_info.head()\n"
   ]
  },
  {
   "cell_type": "code",
   "execution_count": 76,
   "metadata": {},
   "outputs": [],
   "source": [
    "\n",
    "#On prend des pays aléatoirement\n",
    "listPays = ['ARG','ZAF','PER','CIV','ISL','USA','FRA','ALB']\n",
    "\n",
    "df_PaysSelectionne = pd.DataFrame(df_projet7[df_projet7['country'].isin(listPays)])\n"
   ]
  },
  {
   "cell_type": "code",
   "execution_count": 77,
   "metadata": {},
   "outputs": [
    {
     "data": {
      "image/png": "[encoded data removed]",
      "text/plain": [
       "<Figure size 1800x1080 with 1 Axes>"
      ]
     },
     "metadata": {
      "needs_background": "light"
     },
     "output_type": "display_data"
    }
   ],
   "source": [
    "\n",
    "plt.figure(figsize=(25,15))\n",
    "\n",
    "for i in listPays:\n",
    "    pays = i\n",
    "    df_temp = df_PaysSelectionne[df_PaysSelectionne['country'] == pays ].copy()\n",
    "    df_temp = df_temp.reset_index()\n",
    "    df_temp.drop(columns='index')\n",
    "    plt.plot(df_temp.income, label = pays)\n",
    "    \n",
    "plt.legend()\n",
    "plt.title('Representation de la diversité de revenues des pays ',fontsize=15)\n",
    "plt.xlabel('Quantiles de la population du pays',fontsize=15)\n",
    "plt.ylabel('Revenue, base logaritmique', fontsize=15)\n",
    "plt.yscale('log')\n",
    "plt.grid(True)\n",
    "plt.savefig('./ImgFigure/M2_1.png')\n",
    "plt.show()\n",
    "    "
   ]
  },
  {
   "cell_type": "code",
   "execution_count": 78,
   "metadata": {},
   "outputs": [
    {
     "data": {
      "image/png": "[encoded data removed]",
      "text/plain": [
       "<Figure size 1080x1080 with 1 Axes>"
      ]
     },
     "metadata": {
      "needs_background": "light"
     },
     "output_type": "display_data"
    }
   ],
   "source": [
    "\n",
    "# Courbe de lorenz des pays selectionnés\n",
    "\n",
    "plt.figure(figsize=(15,15))\n",
    "\n",
    "data = df_PaysSelectionne\n",
    "\n",
    "for i in listPays:\n",
    "    pays = i\n",
    "    df_tempo = data[data.country == pays].copy()\n",
    "    df_tempo = df_tempo.sort_values(by='income')\n",
    "    df_tempo = df_tempo.reset_index()\n",
    "    df_tempo = df_tempo.drop(columns='index')\n",
    "\n",
    "\n",
    "    dep = df_tempo['income'].values\n",
    "    lorenz = np.cumsum(np.sort(dep)) / dep.sum()\n",
    "    lorenz = np.append([0],lorenz) # La courbe de Lorenz commence à 0\n",
    "\n",
    "    plt.plot([0.0, 1.0],color='red')\n",
    "    plt.plot(np.linspace(0,1,len(lorenz)),lorenz, label=pays)\n",
    "\n",
    "plt.title('Courbe de lorenz des pays selectionés', fontsize=15)\n",
    "plt.ylabel('Pourcentage cumuler des richesse ', fontsize=13)\n",
    "plt.xlabel('Pourcentage cumuler de la population', fontsize=13)\n",
    "plt.legend()\n",
    "plt.grid(True)\n",
    "plt.savefig('./ImgFigure/M2_2.png')\n",
    "\n",
    "plt.show()\n"
   ]
  },
  {
   "cell_type": "markdown",
   "metadata": {},
   "source": [
    "Evolution de l'indice de gini, comme nous ne pocedons pas ces information nous les avons recuperer sur le site de la banque mondial. Nous allons prendre que les années que nous avions de base jusqu'a 2008 l'année de notre etude soit 2004,2005,2006,2007,2008\n"
   ]
  },
  {
   "cell_type": "code",
   "execution_count": 79,
   "metadata": {},
   "outputs": [],
   "source": [
    "\n",
    "data_set_Gini = pd.read_csv(\"data/GiniEvolution.csv\")\n",
    "# data_set_Gini = data_set_Gini.fillna(0)\n",
    "\n",
    "#Preparation des données pour la projection\n",
    "data_set_Gini.index = data_set_Gini['Country Code']\n",
    "data_set_Gini = data_set_Gini.drop(columns=['Country Name','Country Code'])\n",
    "data_set_Gini = data_set_Gini.T\n"
   ]
  },
  {
   "cell_type": "code",
   "execution_count": 80,
   "metadata": {},
   "outputs": [
    {
     "data": {
      "text/html": [
       "<div>\n",
       "<style scoped>\n",
       "    .dataframe tbody tr th:only-of-type {\n",
       "        vertical-align: middle;\n",
       "    }\n",
       "\n",
       "    .dataframe tbody tr th {\n",
       "        vertical-align: top;\n",
       "    }\n",
       "\n",
       "    .dataframe thead th {\n",
       "        text-align: right;\n",
       "    }\n",
       "</style>\n",
       "<table border=\"1\" class=\"dataframe\">\n",
       "  <thead>\n",
       "    <tr style=\"text-align: right;\">\n",
       "      <th>Country Code</th>\n",
       "      <th>ARG</th>\n",
       "      <th>ZAF</th>\n",
       "      <th>PER</th>\n",
       "      <th>CIV</th>\n",
       "      <th>ISL</th>\n",
       "      <th>USA</th>\n",
       "      <th>FRA</th>\n",
       "      <th>ALB</th>\n",
       "    </tr>\n",
       "  </thead>\n",
       "  <tbody>\n",
       "    <tr>\n",
       "      <th>2004</th>\n",
       "      <td>48.600</td>\n",
       "      <td>nan</td>\n",
       "      <td>49.900</td>\n",
       "      <td>nan</td>\n",
       "      <td>28.000</td>\n",
       "      <td>40.500</td>\n",
       "      <td>30.600</td>\n",
       "      <td>nan</td>\n",
       "    </tr>\n",
       "    <tr>\n",
       "      <th>2005</th>\n",
       "      <td>48.000</td>\n",
       "      <td>64.800</td>\n",
       "      <td>50.400</td>\n",
       "      <td>nan</td>\n",
       "      <td>29.000</td>\n",
       "      <td>nan</td>\n",
       "      <td>29.800</td>\n",
       "      <td>30.600</td>\n",
       "    </tr>\n",
       "    <tr>\n",
       "      <th>2006</th>\n",
       "      <td>46.700</td>\n",
       "      <td>nan</td>\n",
       "      <td>50.300</td>\n",
       "      <td>nan</td>\n",
       "      <td>30.200</td>\n",
       "      <td>nan</td>\n",
       "      <td>29.700</td>\n",
       "      <td>nan</td>\n",
       "    </tr>\n",
       "    <tr>\n",
       "      <th>2007</th>\n",
       "      <td>46.600</td>\n",
       "      <td>nan</td>\n",
       "      <td>50.000</td>\n",
       "      <td>nan</td>\n",
       "      <td>29.500</td>\n",
       "      <td>41.100</td>\n",
       "      <td>32.400</td>\n",
       "      <td>nan</td>\n",
       "    </tr>\n",
       "    <tr>\n",
       "      <th>2008</th>\n",
       "      <td>45.300</td>\n",
       "      <td>63.000</td>\n",
       "      <td>47.500</td>\n",
       "      <td>43.200</td>\n",
       "      <td>31.800</td>\n",
       "      <td>nan</td>\n",
       "      <td>33.000</td>\n",
       "      <td>30.000</td>\n",
       "    </tr>\n",
       "  </tbody>\n",
       "</table>\n",
       "</div>"
      ],
      "text/plain": [
       "Country Code    ARG    ZAF    PER    CIV    ISL    USA    FRA    ALB\n",
       "2004         48.600    nan 49.900    nan 28.000 40.500 30.600    nan\n",
       "2005         48.000 64.800 50.400    nan 29.000    nan 29.800 30.600\n",
       "2006         46.700    nan 50.300    nan 30.200    nan 29.700    nan\n",
       "2007         46.600    nan 50.000    nan 29.500 41.100 32.400    nan\n",
       "2008         45.300 63.000 47.500 43.200 31.800    nan 33.000 30.000"
      ]
     },
     "execution_count": 80,
     "metadata": {},
     "output_type": "execute_result"
    }
   ],
   "source": [
    "\n",
    "data_set_Gini[listPays]\n"
   ]
  },
  {
   "cell_type": "code",
   "execution_count": 81,
   "metadata": {},
   "outputs": [
    {
     "data": {
      "image/png": "[encoded data removed]",
      "text/plain": [
       "<Figure size 1080x720 with 1 Axes>"
      ]
     },
     "metadata": {
      "needs_background": "light"
     },
     "output_type": "display_data"
    }
   ],
   "source": [
    "\n",
    "#Projection de l'evolution de l'indice de Gini\n",
    "plt.figure(figsize=(15,10))\n",
    "plt.plot(data_set_Gini[listPays])\n",
    "plt.legend(data_set_Gini[listPays].columns)\n",
    "plt.title(\"Evolution de l'indice de Gini\",fontsize = 20)\n",
    "plt.xlabel(\"Années observés\",fontsize = 15)\n",
    "plt.ylabel(\"Indice de Gini\",fontsize = 15)\n",
    "plt.savefig('./ImgFigure/M2_3.png')\n",
    "plt.show()\n"
   ]
  },
  {
   "cell_type": "markdown",
   "metadata": {},
   "source": [
    "Comme on peut le voire il nous manque plustot pas mal de données au niveau de la banque mondiale pour les indices de gini, ces une des raisons pour lequels nous avons decider de les recaluler pour notre projets."
   ]
  },
  {
   "cell_type": "code",
   "execution_count": 82,
   "metadata": {},
   "outputs": [
    {
     "data": {
      "text/plain": [
       "38.34194493962743"
      ]
     },
     "execution_count": 82,
     "metadata": {},
     "output_type": "execute_result"
    }
   ],
   "source": [
    "\n",
    "df_classerGini = df_info.sort_values(by='Gini').reset_index()\n",
    "df_classerGini = df_classerGini.drop(columns='index')\n",
    "\n",
    "#Moyenne des indices de gini\n",
    "df_classerGini.Gini.mean()\n"
   ]
  },
  {
   "cell_type": "code",
   "execution_count": 83,
   "metadata": {},
   "outputs": [
    {
     "data": {
      "text/html": [
       "<div>\n",
       "<style scoped>\n",
       "    .dataframe tbody tr th:only-of-type {\n",
       "        vertical-align: middle;\n",
       "    }\n",
       "\n",
       "    .dataframe tbody tr th {\n",
       "        vertical-align: top;\n",
       "    }\n",
       "\n",
       "    .dataframe thead th {\n",
       "        text-align: right;\n",
       "    }\n",
       "</style>\n",
       "<table border=\"1\" class=\"dataframe\">\n",
       "  <thead>\n",
       "    <tr style=\"text-align: right;\">\n",
       "      <th></th>\n",
       "      <th>Country_Name</th>\n",
       "      <th>Country_Code</th>\n",
       "      <th>Population</th>\n",
       "      <th>Region</th>\n",
       "      <th>Income_Groupe</th>\n",
       "      <th>Gini</th>\n",
       "      <th>gdpppp</th>\n",
       "    </tr>\n",
       "  </thead>\n",
       "  <tbody>\n",
       "    <tr>\n",
       "      <th>0</th>\n",
       "      <td>Slovenia</td>\n",
       "      <td>SVN</td>\n",
       "      <td>2021316.000</td>\n",
       "      <td>Europe &amp; Central Asia</td>\n",
       "      <td>High income</td>\n",
       "      <td>24.825</td>\n",
       "      <td>27197.000</td>\n",
       "    </tr>\n",
       "    <tr>\n",
       "      <th>1</th>\n",
       "      <td>Slovak Republic</td>\n",
       "      <td>SVK</td>\n",
       "      <td>5379233.000</td>\n",
       "      <td>Europe &amp; Central Asia</td>\n",
       "      <td>High income</td>\n",
       "      <td>26.457</td>\n",
       "      <td>20515.000</td>\n",
       "    </tr>\n",
       "    <tr>\n",
       "      <th>2</th>\n",
       "      <td>Czech Republic</td>\n",
       "      <td>CZE</td>\n",
       "      <td>10384603.000</td>\n",
       "      <td>Europe &amp; Central Asia</td>\n",
       "      <td>High income</td>\n",
       "      <td>27.016</td>\n",
       "      <td>23223.000</td>\n",
       "    </tr>\n",
       "    <tr>\n",
       "      <th>3</th>\n",
       "      <td>Sweden</td>\n",
       "      <td>SWE</td>\n",
       "      <td>9219637.000</td>\n",
       "      <td>Europe &amp; Central Asia</td>\n",
       "      <td>High income</td>\n",
       "      <td>27.217</td>\n",
       "      <td>34371.000</td>\n",
       "    </tr>\n",
       "    <tr>\n",
       "      <th>4</th>\n",
       "      <td>Ukraine</td>\n",
       "      <td>UKR</td>\n",
       "      <td>46258200.000</td>\n",
       "      <td>Europe &amp; Central Asia</td>\n",
       "      <td>Lower middle income</td>\n",
       "      <td>27.242</td>\n",
       "      <td>6721.000</td>\n",
       "    </tr>\n",
       "  </tbody>\n",
       "</table>\n",
       "</div>"
      ],
      "text/plain": [
       "      Country_Name Country_Code   Population                 Region  \\\n",
       "0         Slovenia          SVN  2021316.000  Europe & Central Asia   \n",
       "1  Slovak Republic          SVK  5379233.000  Europe & Central Asia   \n",
       "2   Czech Republic          CZE 10384603.000  Europe & Central Asia   \n",
       "3           Sweden          SWE  9219637.000  Europe & Central Asia   \n",
       "4          Ukraine          UKR 46258200.000  Europe & Central Asia   \n",
       "\n",
       "         Income_Groupe   Gini    gdpppp  \n",
       "0          High income 24.825 27197.000  \n",
       "1          High income 26.457 20515.000  \n",
       "2          High income 27.016 23223.000  \n",
       "3          High income 27.217 34371.000  \n",
       "4  Lower middle income 27.242  6721.000  "
      ]
     },
     "execution_count": 83,
     "metadata": {},
     "output_type": "execute_result"
    }
   ],
   "source": [
    "\n",
    "df_classerGini.head(5)\n"
   ]
  },
  {
   "cell_type": "code",
   "execution_count": 84,
   "metadata": {},
   "outputs": [
    {
     "data": {
      "text/html": [
       "<div>\n",
       "<style scoped>\n",
       "    .dataframe tbody tr th:only-of-type {\n",
       "        vertical-align: middle;\n",
       "    }\n",
       "\n",
       "    .dataframe tbody tr th {\n",
       "        vertical-align: top;\n",
       "    }\n",
       "\n",
       "    .dataframe thead th {\n",
       "        text-align: right;\n",
       "    }\n",
       "</style>\n",
       "<table border=\"1\" class=\"dataframe\">\n",
       "  <thead>\n",
       "    <tr style=\"text-align: right;\">\n",
       "      <th></th>\n",
       "      <th>Country_Name</th>\n",
       "      <th>Country_Code</th>\n",
       "      <th>Population</th>\n",
       "      <th>Region</th>\n",
       "      <th>Income_Groupe</th>\n",
       "      <th>Gini</th>\n",
       "      <th>gdpppp</th>\n",
       "    </tr>\n",
       "  </thead>\n",
       "  <tbody>\n",
       "    <tr>\n",
       "      <th>69</th>\n",
       "      <td>Bolivia</td>\n",
       "      <td>BOL</td>\n",
       "      <td>9721454.000</td>\n",
       "      <td>Latin America &amp; Caribbean</td>\n",
       "      <td>Lower middle income</td>\n",
       "      <td>57.572</td>\n",
       "      <td>3950.000</td>\n",
       "    </tr>\n",
       "    <tr>\n",
       "      <th>70</th>\n",
       "      <td>Central African Republic</td>\n",
       "      <td>CAF</td>\n",
       "      <td>4273366.000</td>\n",
       "      <td>Sub-Saharan Africa</td>\n",
       "      <td>Low income</td>\n",
       "      <td>57.597</td>\n",
       "      <td>685.000</td>\n",
       "    </tr>\n",
       "    <tr>\n",
       "      <th>71</th>\n",
       "      <td>Colombia</td>\n",
       "      <td>COL</td>\n",
       "      <td>44254975.000</td>\n",
       "      <td>Latin America &amp; Caribbean</td>\n",
       "      <td>Upper middle income</td>\n",
       "      <td>58.344</td>\n",
       "      <td>8185.000</td>\n",
       "    </tr>\n",
       "    <tr>\n",
       "      <th>72</th>\n",
       "      <td>Honduras</td>\n",
       "      <td>HND</td>\n",
       "      <td>7980955.000</td>\n",
       "      <td>Latin America &amp; Caribbean</td>\n",
       "      <td>Lower middle income</td>\n",
       "      <td>61.551</td>\n",
       "      <td>3628.000</td>\n",
       "    </tr>\n",
       "    <tr>\n",
       "      <th>73</th>\n",
       "      <td>South Africa</td>\n",
       "      <td>ZAF</td>\n",
       "      <td>49779471.000</td>\n",
       "      <td>Sub-Saharan Africa</td>\n",
       "      <td>Upper middle income</td>\n",
       "      <td>68.295</td>\n",
       "      <td>9602.000</td>\n",
       "    </tr>\n",
       "  </tbody>\n",
       "</table>\n",
       "</div>"
      ],
      "text/plain": [
       "                Country_Name Country_Code   Population  \\\n",
       "69                   Bolivia          BOL  9721454.000   \n",
       "70  Central African Republic          CAF  4273366.000   \n",
       "71                  Colombia          COL 44254975.000   \n",
       "72                  Honduras          HND  7980955.000   \n",
       "73              South Africa          ZAF 49779471.000   \n",
       "\n",
       "                       Region        Income_Groupe   Gini   gdpppp  \n",
       "69  Latin America & Caribbean  Lower middle income 57.572 3950.000  \n",
       "70         Sub-Saharan Africa           Low income 57.597  685.000  \n",
       "71  Latin America & Caribbean  Upper middle income 58.344 8185.000  \n",
       "72  Latin America & Caribbean  Lower middle income 61.551 3628.000  \n",
       "73         Sub-Saharan Africa  Upper middle income 68.295 9602.000  "
      ]
     },
     "execution_count": 84,
     "metadata": {},
     "output_type": "execute_result"
    }
   ],
   "source": [
    "\n",
    "df_classerGini.tail(5)\n"
   ]
  },
  {
   "cell_type": "code",
   "execution_count": 85,
   "metadata": {},
   "outputs": [
    {
     "data": {
      "text/html": [
       "<div>\n",
       "<style scoped>\n",
       "    .dataframe tbody tr th:only-of-type {\n",
       "        vertical-align: middle;\n",
       "    }\n",
       "\n",
       "    .dataframe tbody tr th {\n",
       "        vertical-align: top;\n",
       "    }\n",
       "\n",
       "    .dataframe thead th {\n",
       "        text-align: right;\n",
       "    }\n",
       "</style>\n",
       "<table border=\"1\" class=\"dataframe\">\n",
       "  <thead>\n",
       "    <tr style=\"text-align: right;\">\n",
       "      <th></th>\n",
       "      <th>Country_Name</th>\n",
       "      <th>Country_Code</th>\n",
       "      <th>Population</th>\n",
       "      <th>Region</th>\n",
       "      <th>Income_Groupe</th>\n",
       "      <th>Gini</th>\n",
       "      <th>gdpppp</th>\n",
       "    </tr>\n",
       "  </thead>\n",
       "  <tbody>\n",
       "    <tr>\n",
       "      <th>33</th>\n",
       "      <td>France</td>\n",
       "      <td>FRA</td>\n",
       "      <td>64374984.000</td>\n",
       "      <td>Europe &amp; Central Asia</td>\n",
       "      <td>High income</td>\n",
       "      <td>34.564</td>\n",
       "      <td>30357.000</td>\n",
       "    </tr>\n",
       "  </tbody>\n",
       "</table>\n",
       "</div>"
      ],
      "text/plain": [
       "   Country_Name Country_Code   Population                 Region  \\\n",
       "33       France          FRA 64374984.000  Europe & Central Asia   \n",
       "\n",
       "   Income_Groupe   Gini    gdpppp  \n",
       "33   High income 34.564 30357.000  "
      ]
     },
     "execution_count": 85,
     "metadata": {},
     "output_type": "execute_result"
    }
   ],
   "source": [
    "\n",
    "df_classerGini[df_classerGini['Country_Code'] == 'FRA']\n"
   ]
  },
  {
   "cell_type": "markdown",
   "metadata": {},
   "source": [
    "La France est donc 34ieme dans le classements"
   ]
  },
  {
   "cell_type": "markdown",
   "metadata": {},
   "source": [
    "Les Mission 3 et 4 sont dans les fichiers suivant "
   ]
  },
  {
   "cell_type": "code",
   "execution_count": null,
   "metadata": {},
   "outputs": [],
   "source": []
  }
 ],
 "metadata": {
  "kernelspec": {
   "display_name": "Python 3",
   "language": "python",
   "name": "python3"
  },
  "language_info": {
   "codemirror_mode": {
    "name": "ipython",
    "version": 3
   },
   "file_extension": ".py",
   "mimetype": "text/x-python",
   "name": "python",
   "nbconvert_exporter": "python",
   "pygments_lexer": "ipython3",
   "version": "3.7.6"
  }
 },
 "nbformat": 4,
 "nbformat_minor": 4
}
